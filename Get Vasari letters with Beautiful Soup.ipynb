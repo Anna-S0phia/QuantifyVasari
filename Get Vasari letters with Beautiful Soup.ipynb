{
 "cells": [
  {
   "cell_type": "markdown",
   "metadata": {},
   "source": [
    "# Get Vasari letters from Fondazione Memofonte (https://www.memofonte.it/ricerche/giorgio-vasari/) with Beautiful Soup"
   ]
  },
  {
   "cell_type": "markdown",
   "metadata": {},
   "source": [
    "#### based on Jeri Wieringa, \"Intro to Beautiful Soup,\" The Programming Historian 1 (2012), https://doi.org/10.46430/phen0008."
   ]
  },
  {
   "cell_type": "code",
   "execution_count": 1,
   "metadata": {},
   "outputs": [],
   "source": [
    "import urllib.request, urllib.error, urllib.parse\n",
    "import csv\n",
    "from bs4 import BeautifulSoup\n",
    "import html2text\n",
    "import os\n",
    "from datetime import datetime\n",
    "import numpy as np\n",
    "import pandas as pd"
   ]
  },
  {
   "cell_type": "code",
   "execution_count": 2,
   "metadata": {},
   "outputs": [],
   "source": [
    "# function to check if 'nan'\n",
    "\n",
    "def isnan(x):\n",
    "    return x != x\n",
    "    "
   ]
  },
  {
   "cell_type": "code",
   "execution_count": 3,
   "metadata": {},
   "outputs": [],
   "source": [
    "data_path = 'data/results/letters/'"
   ]
  },
  {
   "cell_type": "markdown",
   "metadata": {},
   "source": [
    "## Iterate over all URLs and save as .html"
   ]
  },
  {
   "cell_type": "markdown",
   "metadata": {},
   "source": [
    "#### make list of URLs"
   ]
  },
  {
   "cell_type": "code",
   "execution_count": 2,
   "metadata": {},
   "outputs": [
    {
     "data": {
      "text/plain": [
       "1151"
      ]
     },
     "execution_count": 2,
     "metadata": {},
     "output_type": "execute_result"
    }
   ],
   "source": [
    "# letter-id ranging from 1 to 1151\n",
    "\n",
    "url_list = []\n",
    "url_base = \"https://www.memofonte.it/home/ricerca/singolo_17.php?id=\"\n",
    "for i in range (1151):\n",
    "    url_list.append(url_base+ str(i+1))\n",
    "    \n",
    "len(url_list)"
   ]
  },
  {
   "cell_type": "markdown",
   "metadata": {},
   "source": [
    "### save all as .html"
   ]
  },
  {
   "cell_type": "code",
   "execution_count": 40,
   "metadata": {},
   "outputs": [],
   "source": [
    "count = 0\n",
    "for i in url_list:\n",
    "    count+=1\n",
    "    response = urllib.request.urlopen(i)\n",
    "    webContent = response.read()\n",
    "    #filename = 'data/results/letters/html/letter-'+str(i)'.html'\n",
    "    f = open('data/results/letters/html/letter-'+str(count)+'.html', 'wb')\n",
    "    f.write(webContent)\n",
    "    f.close()\n",
    "    "
   ]
  },
  {
   "cell_type": "markdown",
   "metadata": {},
   "source": [
    "## Open all .html, make Beautiful Soups, extract information, save all letters in a single CSV"
   ]
  },
  {
   "cell_type": "code",
   "execution_count": 3,
   "metadata": {},
   "outputs": [
    {
     "data": {
      "text/plain": [
       "1151"
      ]
     },
     "execution_count": 3,
     "metadata": {},
     "output_type": "execute_result"
    }
   ],
   "source": [
    "list_of_htmls = os.listdir('data/results/letters/html')\n",
    "len(list_of_htmls)\n",
    "#list_of_htmls"
   ]
  },
  {
   "cell_type": "code",
   "execution_count": 4,
   "metadata": {},
   "outputs": [
    {
     "data": {
      "text/plain": [
       "[1051,\n",
       " '26 12  1572',\n",
       " 'VINCENZO BORGHINI IN FIRENZE A GIORGIO VASARI IN ROMA',\n",
       " 'ASA, AV, 14 (XLVIII), cc. 146-148.',\n",
       " 'Molto Magnifico messer Giorgio. Ho ricevuto la vostra con la distesa delle istorie della sala, le quali considererò, e perché mi ha dato noia un po’ di scesa et non ne son libero, indugierò a questa altra settimana a darne più piena risposta. Messer Vincenzo non credo che pensi più alla messa, ma quando si potessi confermare nel privileggio del legittimare et altri indulti che non toccono il concilio, credo sarebbe contento, che qua non lo ammettono, e però forse bisognerebbe questa confermazione; pure ci sarà tempo. De la cosa mia come mi dite ne starò a buona speranza; e se voi vedete che la camini bene, il meglio sarebbe stringnere e darli fine, che cosa fatta importa assai e si schifa molte cose, che col tempo possono occorrere, che si dice che l’indugio pigla vizio; ma se ci fusse qualche difficultà, allora è bene non strignere, che il far male ha da essere l’ultima cosa. Io come ho detto vi scriverrò per altra più allungo, che le feste, la scesa mi danno che fare, e raccomandatemi caramente al Signor Protonotario Imbasciadore et a voi medesimo. Che Dio vi feliciti. Di Firenze il dì di Santo Stefano 1572. Vostro Don Vincenzo BorghiniAl Molto Magnifico Signor Cavalier Vasari Messer Giorgio Pittore Excellentissimo. Roma. ',\n",
       " 'Frey 1930, pp. 736-737.']"
      ]
     },
     "execution_count": 4,
     "metadata": {},
     "output_type": "execute_result"
    }
   ],
   "source": [
    "# test code and output for single file before iterating over 1151\n",
    "\n",
    "csv_row = list()\n",
    "\n",
    "soup = BeautifulSoup(open('data/results/letters/html/'+str(list_of_htmls[0])), \"lxml\")\n",
    "\n",
    "p_array = soup.find_all('p')\n",
    "csv_row.append(int(p_array[0].text[(len('Numero d\\'ordine:')+1):]))\n",
    "csv_row.append(((p_array[1].text[(len('Data:')+1):])))\n",
    "csv_row.append(p_array[2].text[(len('Intestazione:')+1):])\n",
    "csv_row.append(p_array[3].text[(len('Segnatura:')+1):])\n",
    "csv_row.append(p_array[4].text[(len('Fonte:')+1):])\n",
    "csv_row.append(p_array[5].text[(len('Bibliografia:')+1):])\n",
    "\n",
    "csv_row"
   ]
  },
  {
   "cell_type": "code",
   "execution_count": 34,
   "metadata": {
    "scrolled": true
   },
   "outputs": [],
   "source": [
    "# inspect data\n",
    "#soup.prettify"
   ]
  },
  {
   "cell_type": "code",
   "execution_count": 70,
   "metadata": {},
   "outputs": [
    {
     "data": {
      "text/plain": [
       "datetime.datetime(1572, 12, 26, 0, 0)"
      ]
     },
     "execution_count": 70,
     "metadata": {},
     "output_type": "execute_result"
    }
   ],
   "source": [
    "# test how to convert the date\n",
    "\n",
    "datetime_object = datetime.strptime((p_array[1].text[(len('Data:')+1):]), \"%d %m %Y\")\n",
    "datetime_object"
   ]
  },
  {
   "cell_type": "markdown",
   "metadata": {},
   "source": [
    "### Make one CSV File for all letters"
   ]
  },
  {
   "cell_type": "code",
   "execution_count": 54,
   "metadata": {},
   "outputs": [
    {
     "data": {
      "text/plain": [
       "64"
      ]
     },
     "execution_count": 54,
     "metadata": {},
     "output_type": "execute_result"
    }
   ],
   "source": [
    "# make CSV File\n",
    "# changed filename after first run from letters.csv to letters_2.csv\n",
    "\n",
    "\n",
    "\n",
    "#csv_file = csv.writer(open('data/results/letters/letters_2.csv', \"w\"))\n",
    "\n",
    "# Write column headers as the first line\n",
    "#csv_file.writerow([\"Numero d'ordine\", \"Data\", \"Intestazione\", \"Segnatura\", \"Fonte\", \"Bibliografia\"]) "
   ]
  },
  {
   "cell_type": "markdown",
   "metadata": {},
   "source": [
    "### iterate over all .html files, save as csv"
   ]
  },
  {
   "cell_type": "code",
   "execution_count": 71,
   "metadata": {},
   "outputs": [],
   "source": [
    "# open all letter.html, make soup, extract information, collect it in a list, append list as a row to csv_file\n",
    "\n",
    "for i in list_of_htmls:\n",
    "    csv_row = list() # make new row\n",
    "    soup = BeautifulSoup(open('data/results/letters/html/'+i), \"lxml\") # make soup\n",
    "    p_array = soup.find_all('p') # take the information one by one \n",
    "    csv_row.append(int(p_array[0].text[(len('Numero d\\'ordine:')+1):])) # append each to the list\n",
    "    csv_row.append(p_array[1].text[(len('Data:')+1):])\n",
    "    csv_row.append(p_array[2].text[(len('Intestazione:')+1):])\n",
    "    csv_row.append(p_array[3].text[(len('Segnatura:')+1):])\n",
    "    csv_row.append(p_array[4].text[(len('Fonte:')+1):])\n",
    "    csv_row.append(p_array[5].text[(len('Bibliografia:')+1):])\n",
    "    #csv_file.writerow(csv_row)\n",
    "\n",
    "#soup = BeautifulSoup(open('data/results/letters/vasari-letter1.html'), \"lxml\")\n",
    "# extract all \"p\"\n",
    "#p_array = soup.find_all('p')\n",
    "#p_array[1].text"
   ]
  },
  {
   "cell_type": "markdown",
   "metadata": {},
   "source": [
    "## open CSV-file as dataframe"
   ]
  },
  {
   "cell_type": "code",
   "execution_count": 7,
   "metadata": {},
   "outputs": [
    {
     "data": {
      "text/html": [
       "<div>\n",
       "<style scoped>\n",
       "    .dataframe tbody tr th:only-of-type {\n",
       "        vertical-align: middle;\n",
       "    }\n",
       "\n",
       "    .dataframe tbody tr th {\n",
       "        vertical-align: top;\n",
       "    }\n",
       "\n",
       "    .dataframe thead th {\n",
       "        text-align: right;\n",
       "    }\n",
       "</style>\n",
       "<table border=\"1\" class=\"dataframe\">\n",
       "  <thead>\n",
       "    <tr style=\"text-align: right;\">\n",
       "      <th></th>\n",
       "      <th>Numero d'ordine</th>\n",
       "      <th>Data</th>\n",
       "      <th>Intestazione</th>\n",
       "      <th>Segnatura</th>\n",
       "      <th>Fonte</th>\n",
       "      <th>Bibliografia</th>\n",
       "    </tr>\n",
       "  </thead>\n",
       "  <tbody>\n",
       "    <tr>\n",
       "      <th>0</th>\n",
       "      <td>1051</td>\n",
       "      <td>26 12  1572</td>\n",
       "      <td>VINCENZO BORGHINI IN FIRENZE A GIORGIO VASARI ...</td>\n",
       "      <td>ASA, AV, 14 (XLVIII), cc. 146-148.</td>\n",
       "      <td>Molto Magnifico messer Giorgio. Ho ricevuto la...</td>\n",
       "      <td>Frey 1930, pp. 736-737.</td>\n",
       "    </tr>\n",
       "    <tr>\n",
       "      <th>1</th>\n",
       "      <td>791</td>\n",
       "      <td>24 12  1569</td>\n",
       "      <td>GIORGIO VASARI IN FIRENZE A ORDINE DI SANTO ST...</td>\n",
       "      <td>ASPI, Carte Bonaini, IX.</td>\n",
       "      <td>Illustrissimi Signori miei observandissimi. Co...</td>\n",
       "      <td>Frey 1930, pp. 476-477.</td>\n",
       "    </tr>\n",
       "    <tr>\n",
       "      <th>2</th>\n",
       "      <td>284</td>\n",
       "      <td>20 04  1559</td>\n",
       "      <td>GABRIEL FIAMMA IN PADOVA A GIORGIO VASARI IN F...</td>\n",
       "      <td>ASA, AV, 13 (XLVII), cc. 53, 59.</td>\n",
       "      <td>Magnifico Signor mio osservandissimo. Ho scrit...</td>\n",
       "      <td>Frey 1923, pp. 513-514.</td>\n",
       "    </tr>\n",
       "    <tr>\n",
       "      <th>3</th>\n",
       "      <td>1114</td>\n",
       "      <td>1 08  1573</td>\n",
       "      <td>GIORGIO VASARI IN FIRENZE AI DEPUTATI ALLE FAB...</td>\n",
       "      <td>AAA, filza CC, Registro di lettere, i, 1569, I...</td>\n",
       "      <td>Molto magnifici Signori Deputati, Signori mia ...</td>\n",
       "      <td>Frey 1930, pp. 810-811.</td>\n",
       "    </tr>\n",
       "    <tr>\n",
       "      <th>4</th>\n",
       "      <td>904</td>\n",
       "      <td>3 09  1571</td>\n",
       "      <td>GUGLIELMO SANGALLETTI IN ROMA A GIORGIO VASARI...</td>\n",
       "      <td>ASA, AV, 15 (XLIX), cc. 174, 177.</td>\n",
       "      <td>Molto Magnifico Signor Cavaliere. La presente ...</td>\n",
       "      <td>Frey 1930, pp. 599-600.</td>\n",
       "    </tr>\n",
       "    <tr>\n",
       "      <th>...</th>\n",
       "      <td>...</td>\n",
       "      <td>...</td>\n",
       "      <td>...</td>\n",
       "      <td>...</td>\n",
       "      <td>...</td>\n",
       "      <td>...</td>\n",
       "    </tr>\n",
       "    <tr>\n",
       "      <th>1146</th>\n",
       "      <td>356</td>\n",
       "      <td>1 01  1562</td>\n",
       "      <td>GIORGIO VASARI IN FIRENZE A JACOPO GUIDI</td>\n",
       "      <td>ASF, Carte Guidi, c. 356.</td>\n",
       "      <td>Reverendissimo monsignore patron mio,io mando ...</td>\n",
       "      <td>Palli D’Addario 1985, pp. 379-380 (post 2 giug...</td>\n",
       "    </tr>\n",
       "    <tr>\n",
       "      <th>1147</th>\n",
       "      <td>585</td>\n",
       "      <td>18 06  1565</td>\n",
       "      <td>GIORGIO VASARI IN FIRENZE A VINCENZO BORGHINI...</td>\n",
       "      <td>ASF, CdA, II, I, n. 30.</td>\n",
       "      <td>Reverendo Signor mio. S’è riceuto la vostra le...</td>\n",
       "      <td>Gaye 1839-1840, III, p. 185; Milanesi 1878-18...</td>\n",
       "    </tr>\n",
       "    <tr>\n",
       "      <th>1148</th>\n",
       "      <td>839</td>\n",
       "      <td>29 08  1570</td>\n",
       "      <td>VINCENZO BORGHINI IN POPPIANO A GIORGIO VASARI</td>\n",
       "      <td>ASA, AV, 14 (XLVIII), c. 70.</td>\n",
       "      <td>Messer Giorgio mio. Io vi mando una lunga dice...</td>\n",
       "      <td>Frey 1930, pp. 522-523.</td>\n",
       "    </tr>\n",
       "    <tr>\n",
       "      <th>1149</th>\n",
       "      <td>993</td>\n",
       "      <td>6 06  1572</td>\n",
       "      <td>BARTOLOMMEO BUSSOTTO IN ROMA A GIORGIO VASARI ...</td>\n",
       "      <td>ASA, AV, 10 (XLIV), cc. 83, 86.</td>\n",
       "      <td>Molto magnifico Signor come fratello. Scrissi ...</td>\n",
       "      <td>Frey 1930, pp. 681-682.</td>\n",
       "    </tr>\n",
       "    <tr>\n",
       "      <th>1150</th>\n",
       "      <td>28</td>\n",
       "      <td>6 07  1536</td>\n",
       "      <td>GIORGIO VASARI IN AREZZO A NICCOLÒ SERGUIDI IN...</td>\n",
       "      <td>BRF, 2354, c. 26v, copia di Giorgio Vasari il ...</td>\n",
       "      <td>A messer Niccolo Serguidi sopra l’ornamento di...</td>\n",
       "      <td>Bottari-Ticozzi 1822-1825, III, pp. 63-67 (6 l...</td>\n",
       "    </tr>\n",
       "  </tbody>\n",
       "</table>\n",
       "<p>1151 rows × 6 columns</p>\n",
       "</div>"
      ],
      "text/plain": [
       "      Numero d'ordine         Data  \\\n",
       "0                1051  26 12  1572   \n",
       "1                 791  24 12  1569   \n",
       "2                 284  20 04  1559   \n",
       "3                1114   1 08  1573   \n",
       "4                 904   3 09  1571   \n",
       "...               ...          ...   \n",
       "1146              356   1 01  1562   \n",
       "1147              585  18 06  1565   \n",
       "1148              839  29 08  1570   \n",
       "1149              993   6 06  1572   \n",
       "1150               28   6 07  1536   \n",
       "\n",
       "                                           Intestazione  \\\n",
       "0     VINCENZO BORGHINI IN FIRENZE A GIORGIO VASARI ...   \n",
       "1     GIORGIO VASARI IN FIRENZE A ORDINE DI SANTO ST...   \n",
       "2     GABRIEL FIAMMA IN PADOVA A GIORGIO VASARI IN F...   \n",
       "3     GIORGIO VASARI IN FIRENZE AI DEPUTATI ALLE FAB...   \n",
       "4     GUGLIELMO SANGALLETTI IN ROMA A GIORGIO VASARI...   \n",
       "...                                                 ...   \n",
       "1146           GIORGIO VASARI IN FIRENZE A JACOPO GUIDI   \n",
       "1147   GIORGIO VASARI IN FIRENZE A VINCENZO BORGHINI...   \n",
       "1148    VINCENZO BORGHINI IN POPPIANO A GIORGIO VASARI    \n",
       "1149  BARTOLOMMEO BUSSOTTO IN ROMA A GIORGIO VASARI ...   \n",
       "1150  GIORGIO VASARI IN AREZZO A NICCOLÒ SERGUIDI IN...   \n",
       "\n",
       "                                              Segnatura  \\\n",
       "0                    ASA, AV, 14 (XLVIII), cc. 146-148.   \n",
       "1                              ASPI, Carte Bonaini, IX.   \n",
       "2                      ASA, AV, 13 (XLVII), cc. 53, 59.   \n",
       "3     AAA, filza CC, Registro di lettere, i, 1569, I...   \n",
       "4                     ASA, AV, 15 (XLIX), cc. 174, 177.   \n",
       "...                                                 ...   \n",
       "1146                          ASF, Carte Guidi, c. 356.   \n",
       "1147                            ASF, CdA, II, I, n. 30.   \n",
       "1148                       ASA, AV, 14 (XLVIII), c. 70.   \n",
       "1149                    ASA, AV, 10 (XLIV), cc. 83, 86.   \n",
       "1150  BRF, 2354, c. 26v, copia di Giorgio Vasari il ...   \n",
       "\n",
       "                                                  Fonte  \\\n",
       "0     Molto Magnifico messer Giorgio. Ho ricevuto la...   \n",
       "1     Illustrissimi Signori miei observandissimi. Co...   \n",
       "2     Magnifico Signor mio osservandissimo. Ho scrit...   \n",
       "3     Molto magnifici Signori Deputati, Signori mia ...   \n",
       "4     Molto Magnifico Signor Cavaliere. La presente ...   \n",
       "...                                                 ...   \n",
       "1146  Reverendissimo monsignore patron mio,io mando ...   \n",
       "1147  Reverendo Signor mio. S’è riceuto la vostra le...   \n",
       "1148  Messer Giorgio mio. Io vi mando una lunga dice...   \n",
       "1149  Molto magnifico Signor come fratello. Scrissi ...   \n",
       "1150  A messer Niccolo Serguidi sopra l’ornamento di...   \n",
       "\n",
       "                                           Bibliografia  \n",
       "0                               Frey 1930, pp. 736-737.  \n",
       "1                               Frey 1930, pp. 476-477.  \n",
       "2                               Frey 1923, pp. 513-514.  \n",
       "3                              Frey 1930, pp. 810-811.   \n",
       "4                               Frey 1930, pp. 599-600.  \n",
       "...                                                 ...  \n",
       "1146  Palli D’Addario 1985, pp. 379-380 (post 2 giug...  \n",
       "1147   Gaye 1839-1840, III, p. 185; Milanesi 1878-18...  \n",
       "1148                            Frey 1930, pp. 522-523.  \n",
       "1149                            Frey 1930, pp. 681-682.  \n",
       "1150  Bottari-Ticozzi 1822-1825, III, pp. 63-67 (6 l...  \n",
       "\n",
       "[1151 rows x 6 columns]"
      ]
     },
     "execution_count": 7,
     "metadata": {},
     "output_type": "execute_result"
    }
   ],
   "source": [
    "filename = 'data/results/letters/letters.csv'\n",
    "csv_file = csv.reader(open(filename, \"r\"))\n",
    "dataframe = pd.read_csv(filename)\n",
    "dataframe"
   ]
  },
  {
   "cell_type": "markdown",
   "metadata": {},
   "source": [
    "## get rid of nan-values"
   ]
  },
  {
   "cell_type": "markdown",
   "metadata": {},
   "source": [
    "'nan' count in total: 11 rows with nan values \n",
    "--> replace with '0' and collect index for documentation (row-indices found: 17, 101, 268, 368, 491, 569, 617, 703, 740, 928, 985)"
   ]
  },
  {
   "cell_type": "code",
   "execution_count": 8,
   "metadata": {},
   "outputs": [
    {
     "name": "stdout",
     "output_type": "stream",
     "text": [
      "Intestazione,  17\n",
      "Intestazione,  101\n",
      "Intestazione,  268\n",
      "Intestazione,  368\n",
      "Intestazione,  491\n",
      "Intestazione,  569\n",
      "Intestazione,  617\n",
      "Intestazione,  703\n",
      "Intestazione,  740\n",
      "Intestazione,  928\n",
      "Intestazione,  985\n"
     ]
    },
    {
     "name": "stderr",
     "output_type": "stream",
     "text": [
      "<ipython-input-8-f6e2de138291>:6: SettingWithCopyWarning: \n",
      "A value is trying to be set on a copy of a slice from a DataFrame\n",
      "\n",
      "See the caveats in the documentation: https://pandas.pydata.org/pandas-docs/stable/user_guide/indexing.html#returning-a-view-versus-a-copy\n",
      "  (dataframe['Intestazione'][i]) = '0'\n",
      "<ipython-input-8-f6e2de138291>:10: SettingWithCopyWarning: \n",
      "A value is trying to be set on a copy of a slice from a DataFrame\n",
      "\n",
      "See the caveats in the documentation: https://pandas.pydata.org/pandas-docs/stable/user_guide/indexing.html#returning-a-view-versus-a-copy\n",
      "  (dataframe['Segnatura'][i]) = '0'\n",
      "<ipython-input-8-f6e2de138291>:14: SettingWithCopyWarning: \n",
      "A value is trying to be set on a copy of a slice from a DataFrame\n",
      "\n",
      "See the caveats in the documentation: https://pandas.pydata.org/pandas-docs/stable/user_guide/indexing.html#returning-a-view-versus-a-copy\n",
      "  (dataframe['Fonte'][i]) = '0'\n",
      "<ipython-input-8-f6e2de138291>:18: SettingWithCopyWarning: \n",
      "A value is trying to be set on a copy of a slice from a DataFrame\n",
      "\n",
      "See the caveats in the documentation: https://pandas.pydata.org/pandas-docs/stable/user_guide/indexing.html#returning-a-view-versus-a-copy\n",
      "  (dataframe['Bibliografia'][i]) = '0'\n"
     ]
    }
   ],
   "source": [
    "count = 0\n",
    "for i in range(len(dataframe)): # check column by column if isnan and replace with '0'\n",
    "    \n",
    "    if isnan(dataframe['Intestazione'][i]): \n",
    "        print('Intestazione, ', count)\n",
    "        (dataframe['Intestazione'][i]) = '0'\n",
    "        \n",
    "    if isnan(dataframe['Segnatura'][i]):\n",
    "        #print('Segnatura', count)\n",
    "        (dataframe['Segnatura'][i]) = '0'\n",
    "        \n",
    "    if isnan(dataframe['Fonte'][i]):\n",
    "        #print('Fonte', count)\n",
    "        (dataframe['Fonte'][i]) = '0'\n",
    "        \n",
    "    if isnan(dataframe['Bibliografia'][i]):\n",
    "        #print('Bibliografia', count)\n",
    "        (dataframe['Bibliografia'][i]) = '0'\n",
    "    \n",
    "    \n",
    "    count+=1\n",
    "            "
   ]
  },
  {
   "cell_type": "markdown",
   "metadata": {},
   "source": [
    "# Distinguish letters written by Vasari from himself copies of his nefew"
   ]
  },
  {
   "cell_type": "markdown",
   "metadata": {},
   "source": [
    "example for signature of letter copied by nefew (called Giorgio Vasari the younger) \n",
    "BRF, 2354, cc. 12v-14, copia di Giorgio Vasari il Giovane.\n",
    "\n",
    "number of letters filtered at http://vasariscrittore.memofonte.it/archivio?\n",
    "390"
   ]
  },
  {
   "cell_type": "code",
   "execution_count": 34,
   "metadata": {
    "scrolled": false
   },
   "outputs": [
    {
     "data": {
      "text/plain": [
       "(404, 363)"
      ]
     },
     "execution_count": 34,
     "metadata": {},
     "output_type": "execute_result"
    }
   ],
   "source": [
    "Vasari = list() # list for letters sent by Vasari\n",
    "Vasari_no_copies = list() # filter out the copies of his nefew\n",
    "#Va_indices = list()\n",
    "\n",
    "\n",
    "\n",
    "#    if dataframe['Intestazione'][i].startswith('GIORGIO VASARI') or dataframe['Intestazione'][i].startswith(' VINCENZO BORGHINI'): # VINCENZO BORGHINI\n",
    "count = 0\n",
    "for i in range(len(dataframe)):\n",
    "    count +=1 \n",
    "    # all letters Vasari sent\n",
    "    if dataframe['Intestazione'][i].startswith('GIORGIO VASARI') or dataframe['Intestazione'][i].startswith(' GIORGIO VASARI'): # GIORGIO VASARI\n",
    "        #print(dataframe['Intestazione'][i])\n",
    "        #print(dataframe['Segnatura'][i], count)\n",
    "        Vasari.append(list(dataframe.iloc[i]))\n",
    "    # copies filtered out\n",
    "    if (dataframe['Intestazione'][i].startswith('GIORGIO VASARI') or dataframe['Intestazione'][i].startswith(' GIORGIO VASARI')) and 'copia' not in dataframe['Segnatura'][i]: # filter out copies\n",
    "        #print(dataframe['Segnatura'][i], count)\n",
    "        Vasari_no_copies.append(list(dataframe.iloc[i]))\n",
    "\n",
    "        \n",
    "len(Vasari), len(Vasari_no_copies)"
   ]
  },
  {
   "cell_type": "code",
   "execution_count": 35,
   "metadata": {},
   "outputs": [
    {
     "data": {
      "text/plain": [
       "True"
      ]
     },
     "execution_count": 35,
     "metadata": {},
     "output_type": "execute_result"
    }
   ],
   "source": [
    "# check\n",
    "'copia' in dataframe['Segnatura'][29]"
   ]
  },
  {
   "cell_type": "markdown",
   "metadata": {},
   "source": [
    "Make new dataframes and save as csv files"
   ]
  },
  {
   "cell_type": "code",
   "execution_count": 18,
   "metadata": {},
   "outputs": [],
   "source": [
    "columns = [\"Numero d'ordine\", \"Data\", \"Intestazione\", \"Segnatura\", \"Fonte\", \"Bibliografia\"]\n",
    "data_path = 'data/results/letters/'"
   ]
  },
  {
   "cell_type": "code",
   "execution_count": 36,
   "metadata": {},
   "outputs": [],
   "source": [
    "df_Vasari = pd.DataFrame(Vasari, columns = columns)\n",
    "df_Vasari_no_copies = pd.DataFrame(Vasari_no_copies, columns = columns)\n"
   ]
  },
  {
   "cell_type": "code",
   "execution_count": 37,
   "metadata": {},
   "outputs": [],
   "source": [
    "df_Vasari.to_csv(data_path + 'Vasari-all.csv', index = False, header=True)\n",
    "df_Vasari_no_copies.to_csv(data_path + 'Vasari-no_copies.csv', index = False, header=True)\n"
   ]
  },
  {
   "cell_type": "markdown",
   "metadata": {},
   "source": [
    "## split dataframe for different involved authors / contributing authorship candidates"
   ]
  },
  {
   "cell_type": "markdown",
   "metadata": {},
   "source": [
    "Cosimo Bartoli and Pierfrancesco Giambullari involved as Co-Authors after Gerd Blum (https://archiv.ub.uni-heidelberg.de/artdok/1948/1/Blum_Provvidenza_e_progresso_2010.pdf) "
   ]
  },
  {
   "cell_type": "markdown",
   "metadata": {},
   "source": [
    "Pierfrancesco Giambullari, Cosimo Bartoli, Giovan Battista Gelli und Carlo Lenzoni involved in the preparation of the edition of 1550; massive contribution of Vincenzio Borghinis concerning the indices and growing involvement over the following decennies (Alessandro Nova: Vasari versus Vasari, S.151)"
   ]
  },
  {
   "cell_type": "code",
   "execution_count": 9,
   "metadata": {},
   "outputs": [
    {
     "name": "stdout",
     "output_type": "stream",
     "text": [
      "Giambullari:  6 Borghini:  136 Bartoli:  73\n"
     ]
    }
   ],
   "source": [
    "# get Pierfrancesco Giambullari, Cosimo Bartoli, Vincenzio Borghini\n",
    "# examples of the signatures copied from http://vasariscrittore.memofonte.it/archivio# \n",
    "# COSIMO BARTOLI IN FIRENZE A GIORGIO VASARI IN ROMA (73 letters)\n",
    "# VINCENZO BORGHINI IN FIRENZE A GIORGIO VASARI IN ROMA (131 letters)\n",
    "# PIERFRANCESCO GIAMBULLARI IN FIRENZE A GIORGIO VASARI IN AREZZO (6 letters)\n",
    "\n",
    "Borghini = list() # collect whole entries written by Vincenzo Borghini\n",
    "Bo_indices = list() # collect indices of Borghini entries\n",
    "\n",
    "Giambullari = list() # collect Pierfrancesco Giambullari\n",
    "G_indices = list()\n",
    "\n",
    "Bartoli = list() # collect Pierfrancesco Giambullari\n",
    "Ba_indices = list()\n",
    "\n",
    "for i in range(len(dataframe)):\n",
    "\n",
    "    \n",
    "    if dataframe['Intestazione'][i].startswith('VINCENZO BORGHINI') or dataframe['Intestazione'][i].startswith(' VINCENZO BORGHINI'): # VINCENZO BORGHINI\n",
    "        Borghini.append(list(dataframe.iloc[i]))\n",
    "    \n",
    "    if 'COSIMO BARTOLI' in dataframe['Intestazione'][i]: # COSIMO BARTOLI\n",
    "        Bartoli.append(list(dataframe.iloc[i]))\n",
    "    \n",
    "    if 'PIERFRANCESCO GIAMBULLARI' in dataframe['Intestazione'][i]:\n",
    "        Giambullari.append(list(dataframe.iloc[i]))\n",
    "        \n",
    "    count += 1\n",
    "    \n",
    "    \n",
    "print('Giambullari: ', len(Giambullari), 'Borghini: ', len(Borghini), 'Bartoli: ', len(Bartoli))"
   ]
  },
  {
   "cell_type": "markdown",
   "metadata": {},
   "source": [
    "### make single dataframes for Borghini, Bartoli and Giambullari"
   ]
  },
  {
   "cell_type": "code",
   "execution_count": 10,
   "metadata": {},
   "outputs": [],
   "source": [
    "columns = [\"Numero d'ordine\", \"Data\", \"Intestazione\", \"Segnatura\", \"Fonte\", \"Bibliografia\"]"
   ]
  },
  {
   "cell_type": "code",
   "execution_count": 11,
   "metadata": {},
   "outputs": [],
   "source": [
    "df_Giambullari = pd.DataFrame(Giambullari, columns = columns)\n",
    "df_Borghini = pd.DataFrame(Borghini, columns = columns)\n",
    "df_Bartoli = pd.DataFrame(Bartoli, columns = columns)"
   ]
  },
  {
   "cell_type": "code",
   "execution_count": 12,
   "metadata": {},
   "outputs": [
    {
     "data": {
      "text/html": [
       "<div>\n",
       "<style scoped>\n",
       "    .dataframe tbody tr th:only-of-type {\n",
       "        vertical-align: middle;\n",
       "    }\n",
       "\n",
       "    .dataframe tbody tr th {\n",
       "        vertical-align: top;\n",
       "    }\n",
       "\n",
       "    .dataframe thead th {\n",
       "        text-align: right;\n",
       "    }\n",
       "</style>\n",
       "<table border=\"1\" class=\"dataframe\">\n",
       "  <thead>\n",
       "    <tr style=\"text-align: right;\">\n",
       "      <th></th>\n",
       "      <th>Numero d'ordine</th>\n",
       "      <th>Data</th>\n",
       "      <th>Intestazione</th>\n",
       "      <th>Segnatura</th>\n",
       "      <th>Fonte</th>\n",
       "      <th>Bibliografia</th>\n",
       "    </tr>\n",
       "  </thead>\n",
       "  <tbody>\n",
       "    <tr>\n",
       "      <th>0</th>\n",
       "      <td>1051</td>\n",
       "      <td>26 12  1572</td>\n",
       "      <td>VINCENZO BORGHINI IN FIRENZE A GIORGIO VASARI ...</td>\n",
       "      <td>ASA, AV, 14 (XLVIII), cc. 146-148.</td>\n",
       "      <td>Molto Magnifico messer Giorgio. Ho ricevuto la...</td>\n",
       "      <td>Frey 1930, pp. 736-737.</td>\n",
       "    </tr>\n",
       "    <tr>\n",
       "      <th>1</th>\n",
       "      <td>512</td>\n",
       "      <td>8 06  1564</td>\n",
       "      <td>VINCENZO BORGHINI IN GLI ALBERI A GIORGIO VAS...</td>\n",
       "      <td>ASA, AV, 14 (XLVIII), c. 41.</td>\n",
       "      <td>Magnifico Messer Giorgio. Io mi muoio di sonno...</td>\n",
       "      <td>Frey 1930, p. 84.</td>\n",
       "    </tr>\n",
       "    <tr>\n",
       "      <th>2</th>\n",
       "      <td>912</td>\n",
       "      <td>22 09  1571</td>\n",
       "      <td>VINCENZO BORGHINI IN FIRENZE A GIORGIO VASARI ...</td>\n",
       "      <td>ASA, AV, 14 (XLVIII), c. 101.</td>\n",
       "      <td>Molto Magnifico Signor Cavalier. Il Gabburra a...</td>\n",
       "      <td>Frey 1930, pp. 607-608.</td>\n",
       "    </tr>\n",
       "    <tr>\n",
       "      <th>3</th>\n",
       "      <td>302</td>\n",
       "      <td>3 03  1560</td>\n",
       "      <td>VINCENZO BORGHINI IN POPPIANO A GIORGIO VASARI...</td>\n",
       "      <td>ASA, AV, 14 (XLVIII), cc. 195-198.</td>\n",
       "      <td>Magnifico messer Giorgio. Come io son giunto i...</td>\n",
       "      <td>Frey 1923, pp. 534-535.</td>\n",
       "    </tr>\n",
       "    <tr>\n",
       "      <th>4</th>\n",
       "      <td>617</td>\n",
       "      <td>6 05  1566</td>\n",
       "      <td>VINCENZO BORGHINI IN POPPIANO A GIORGIO VASARI...</td>\n",
       "      <td>ASA, AV, 14 (XLVIII), cc. 219-220.</td>\n",
       "      <td>Molto Magnifico messer Giorgio. Trovandomi a P...</td>\n",
       "      <td>Frey 1930, pp. 236-238.</td>\n",
       "    </tr>\n",
       "    <tr>\n",
       "      <th>...</th>\n",
       "      <td>...</td>\n",
       "      <td>...</td>\n",
       "      <td>...</td>\n",
       "      <td>...</td>\n",
       "      <td>...</td>\n",
       "      <td>...</td>\n",
       "    </tr>\n",
       "    <tr>\n",
       "      <th>131</th>\n",
       "      <td>602</td>\n",
       "      <td>1 01  1565</td>\n",
       "      <td>VINCENZO BORGHINI IN FIRENZE A GIOVANNI CACCIN...</td>\n",
       "      <td>ASA, AV, 14 (XLVIII), c. 181.</td>\n",
       "      <td>Messer Giovanni. Se e’ non si pensa al canto a...</td>\n",
       "      <td>Frey 1930, p. 217 (fine novembre-inizio dicemb...</td>\n",
       "    </tr>\n",
       "    <tr>\n",
       "      <th>132</th>\n",
       "      <td>897</td>\n",
       "      <td>1 01  1571</td>\n",
       "      <td>VINCENZO BORGHINI IN FIRENZE A GIORGIO VASARI ...</td>\n",
       "      <td>ASA, AV, 14 (XLVIII), c. 176.</td>\n",
       "      <td>Magnifico Signor mio. Non occorre dir cosa alc...</td>\n",
       "      <td>Frey 1930, pp. 594-595 (fine luglio).</td>\n",
       "    </tr>\n",
       "    <tr>\n",
       "      <th>133</th>\n",
       "      <td>751</td>\n",
       "      <td>15 05  1569</td>\n",
       "      <td>VINCENZO BORGHINI IN FIRENZE A GIORGIO VASARI ...</td>\n",
       "      <td>ASPI, AOST, Suppliche ed Informazioni, Filza I...</td>\n",
       "      <td>Messer Giorgio onorando. Ho considerata questa...</td>\n",
       "      <td>Frey 1930, pp. 423-424.</td>\n",
       "    </tr>\n",
       "    <tr>\n",
       "      <th>134</th>\n",
       "      <td>1091</td>\n",
       "      <td>8 05  1573</td>\n",
       "      <td>VINCENZO BORGHINI IN FIRENZE A GIORGIO VASARI ...</td>\n",
       "      <td>ASA, AV, 14 (XLVIII), cc. 161-182.</td>\n",
       "      <td>Molto Magnifico messer Giorgio mio. Ho la vost...</td>\n",
       "      <td>Frey 1930, pp. 783-784.</td>\n",
       "    </tr>\n",
       "    <tr>\n",
       "      <th>135</th>\n",
       "      <td>839</td>\n",
       "      <td>29 08  1570</td>\n",
       "      <td>VINCENZO BORGHINI IN POPPIANO A GIORGIO VASARI</td>\n",
       "      <td>ASA, AV, 14 (XLVIII), c. 70.</td>\n",
       "      <td>Messer Giorgio mio. Io vi mando una lunga dice...</td>\n",
       "      <td>Frey 1930, pp. 522-523.</td>\n",
       "    </tr>\n",
       "  </tbody>\n",
       "</table>\n",
       "<p>136 rows × 6 columns</p>\n",
       "</div>"
      ],
      "text/plain": [
       "     Numero d'ordine         Data  \\\n",
       "0               1051  26 12  1572   \n",
       "1                512   8 06  1564   \n",
       "2                912  22 09  1571   \n",
       "3                302   3 03  1560   \n",
       "4                617   6 05  1566   \n",
       "..               ...          ...   \n",
       "131              602   1 01  1565   \n",
       "132              897   1 01  1571   \n",
       "133              751  15 05  1569   \n",
       "134             1091   8 05  1573   \n",
       "135              839  29 08  1570   \n",
       "\n",
       "                                          Intestazione  \\\n",
       "0    VINCENZO BORGHINI IN FIRENZE A GIORGIO VASARI ...   \n",
       "1     VINCENZO BORGHINI IN GLI ALBERI A GIORGIO VAS...   \n",
       "2    VINCENZO BORGHINI IN FIRENZE A GIORGIO VASARI ...   \n",
       "3    VINCENZO BORGHINI IN POPPIANO A GIORGIO VASARI...   \n",
       "4    VINCENZO BORGHINI IN POPPIANO A GIORGIO VASARI...   \n",
       "..                                                 ...   \n",
       "131  VINCENZO BORGHINI IN FIRENZE A GIOVANNI CACCIN...   \n",
       "132  VINCENZO BORGHINI IN FIRENZE A GIORGIO VASARI ...   \n",
       "133  VINCENZO BORGHINI IN FIRENZE A GIORGIO VASARI ...   \n",
       "134  VINCENZO BORGHINI IN FIRENZE A GIORGIO VASARI ...   \n",
       "135    VINCENZO BORGHINI IN POPPIANO A GIORGIO VASARI    \n",
       "\n",
       "                                             Segnatura  \\\n",
       "0                   ASA, AV, 14 (XLVIII), cc. 146-148.   \n",
       "1                         ASA, AV, 14 (XLVIII), c. 41.   \n",
       "2                        ASA, AV, 14 (XLVIII), c. 101.   \n",
       "3                   ASA, AV, 14 (XLVIII), cc. 195-198.   \n",
       "4                   ASA, AV, 14 (XLVIII), cc. 219-220.   \n",
       "..                                                 ...   \n",
       "131                      ASA, AV, 14 (XLVIII), c. 181.   \n",
       "132                      ASA, AV, 14 (XLVIII), c. 176.   \n",
       "133  ASPI, AOST, Suppliche ed Informazioni, Filza I...   \n",
       "134                 ASA, AV, 14 (XLVIII), cc. 161-182.   \n",
       "135                       ASA, AV, 14 (XLVIII), c. 70.   \n",
       "\n",
       "                                                 Fonte  \\\n",
       "0    Molto Magnifico messer Giorgio. Ho ricevuto la...   \n",
       "1    Magnifico Messer Giorgio. Io mi muoio di sonno...   \n",
       "2    Molto Magnifico Signor Cavalier. Il Gabburra a...   \n",
       "3    Magnifico messer Giorgio. Come io son giunto i...   \n",
       "4    Molto Magnifico messer Giorgio. Trovandomi a P...   \n",
       "..                                                 ...   \n",
       "131  Messer Giovanni. Se e’ non si pensa al canto a...   \n",
       "132  Magnifico Signor mio. Non occorre dir cosa alc...   \n",
       "133  Messer Giorgio onorando. Ho considerata questa...   \n",
       "134  Molto Magnifico messer Giorgio mio. Ho la vost...   \n",
       "135  Messer Giorgio mio. Io vi mando una lunga dice...   \n",
       "\n",
       "                                          Bibliografia  \n",
       "0                              Frey 1930, pp. 736-737.  \n",
       "1                                    Frey 1930, p. 84.  \n",
       "2                              Frey 1930, pp. 607-608.  \n",
       "3                              Frey 1923, pp. 534-535.  \n",
       "4                              Frey 1930, pp. 236-238.  \n",
       "..                                                 ...  \n",
       "131  Frey 1930, p. 217 (fine novembre-inizio dicemb...  \n",
       "132              Frey 1930, pp. 594-595 (fine luglio).  \n",
       "133                            Frey 1930, pp. 423-424.  \n",
       "134                            Frey 1930, pp. 783-784.  \n",
       "135                            Frey 1930, pp. 522-523.  \n",
       "\n",
       "[136 rows x 6 columns]"
      ]
     },
     "execution_count": 12,
     "metadata": {},
     "output_type": "execute_result"
    }
   ],
   "source": [
    "df_Borghini"
   ]
  },
  {
   "cell_type": "markdown",
   "metadata": {},
   "source": [
    "### save dataframes as csv files"
   ]
  },
  {
   "cell_type": "code",
   "execution_count": 58,
   "metadata": {},
   "outputs": [],
   "source": [
    "data_path = 'data/results/letters/'"
   ]
  },
  {
   "cell_type": "code",
   "execution_count": 59,
   "metadata": {},
   "outputs": [],
   "source": [
    "df_Giambullari.to_csv(data_path + 'Giambullari.csv', index = False, header=True)\n",
    "df_Borghini.to_csv(data_path + 'Borghini.csv', index = False, header=True)\n",
    "df_Bartoli.to_csv(data_path + 'Bartoli.csv', index = False, header=True)"
   ]
  },
  {
   "cell_type": "markdown",
   "metadata": {},
   "source": [
    "### open csv files as dataframes"
   ]
  },
  {
   "cell_type": "code",
   "execution_count": null,
   "metadata": {},
   "outputs": [],
   "source": [
    "data_path = 'data/results/letters/'\n",
    "Gia = 'Giambullari.csv'\n",
    "Bor = 'Borghini.csv'\n",
    "Bar = 'Bartoli.csv'\n",
    "\n",
    "df_Giambullari = pd.read_csv(data_path+Gia)\n",
    "df_Borghini = pd.read_csv(data_path+Bor)\n",
    "df_Bartoli = pd.read_csv(data_path+Bar)"
   ]
  },
  {
   "cell_type": "markdown",
   "metadata": {},
   "source": [
    "### Helper Funcitons"
   ]
  },
  {
   "cell_type": "code",
   "execution_count": 17,
   "metadata": {},
   "outputs": [],
   "source": [
    "# get rid of strange line break \"\\xa0\"\n",
    "# open a file and overwrite it\n",
    "\n",
    "def fix(name):\n",
    "    \"\"\" Fix a single .txt file\n",
    "    \"\"\"\n",
    "    input = open(name, \"rt\")\n",
    "    text = input.read()\n",
    "    input.close()\n",
    "    text = text.decode(\"utf-8\")\n",
    "\n",
    "    # Show if we get bad hits\n",
    "    for c in text:\n",
    "        if c == u\"\\xa0\":\n",
    "            print(\"Ufff\")\n",
    "\n",
    "    text = text.replace(u\"\\xa0\", u\" \")\n",
    "    text = text.encode(\"utf-8\")\n",
    "\n",
    "    output = open(name, \"wt\")\n",
    "    output.write(text)\n",
    "    output.close()\n",
    "\n",
    "\n",
    "# Process all .txt files in the\n",
    "# current folder\n",
    "for f in os.listdir(os.getcwd()):\n",
    "    if f.endswith(\".txt\"):\n",
    "        fix(f)"
   ]
  },
  {
   "cell_type": "code",
   "execution_count": 18,
   "metadata": {},
   "outputs": [],
   "source": [
    "# obo.py\n",
    "# get rid of tags without Beautiful Soup\n",
    "\n",
    "def stripTags(pageContent):\n",
    "    pageContents = str(pageContent)\n",
    "\n",
    "    inside = 0\n",
    "    text = ''\n",
    "\n",
    "    for char in pageContents:\n",
    "        if char == '<':\n",
    "            inside = 1\n",
    "        elif (inside == 1 and char == '>'):\n",
    "            inside = 0\n",
    "        elif inside == 1:\n",
    "            continue\n",
    "        else:\n",
    "            text += char\n",
    "\n",
    "    return text"
   ]
  }
 ],
 "metadata": {
  "kernelspec": {
   "display_name": "Python 3",
   "language": "python",
   "name": "python3"
  },
  "language_info": {
   "codemirror_mode": {
    "name": "ipython",
    "version": 3
   },
   "file_extension": ".py",
   "mimetype": "text/x-python",
   "name": "python",
   "nbconvert_exporter": "python",
   "pygments_lexer": "ipython3",
   "version": "3.8.5"
  }
 },
 "nbformat": 4,
 "nbformat_minor": 4
}
