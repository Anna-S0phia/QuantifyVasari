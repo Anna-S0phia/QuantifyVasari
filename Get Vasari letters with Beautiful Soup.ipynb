{
 "cells": [
  {
   "cell_type": "markdown",
   "metadata": {},
   "source": [
    "# Get Vasari letters from Fondazione Memofonte (https://www.memofonte.it/ricerche/giorgio-vasari/) with Beautiful Soup"
   ]
  },
  {
   "cell_type": "markdown",
   "metadata": {},
   "source": [
    "#### based on Jeri Wieringa, \"Intro to Beautiful Soup,\" The Programming Historian 1 (2012), https://doi.org/10.46430/phen0008."
   ]
  },
  {
   "cell_type": "code",
   "execution_count": 1,
   "metadata": {},
   "outputs": [],
   "source": [
    "import urllib.request, urllib.error, urllib.parse\n",
    "import csv\n",
    "from bs4 import BeautifulSoup\n",
    "import html2text\n",
    "import os\n",
    "from datetime import datetime\n",
    "import numpy as np\n",
    "import pandas as pd"
   ]
  },
  {
   "cell_type": "code",
   "execution_count": 2,
   "metadata": {},
   "outputs": [],
   "source": [
    "# function to check if 'nan'\n",
    "\n",
    "def isnan(x):\n",
    "    return x != x\n",
    "    "
   ]
  },
  {
   "cell_type": "code",
   "execution_count": 3,
   "metadata": {},
   "outputs": [],
   "source": [
    "data_path = 'data/results/letters/'"
   ]
  },
  {
   "cell_type": "markdown",
   "metadata": {},
   "source": [
    "## Iterate over all URLs and save as .html"
   ]
  },
  {
   "cell_type": "markdown",
   "metadata": {},
   "source": [
    "#### make list of URLs"
   ]
  },
  {
   "cell_type": "code",
   "execution_count": 2,
   "metadata": {},
   "outputs": [
    {
     "data": {
      "text/plain": [
       "1151"
      ]
     },
     "execution_count": 2,
     "metadata": {},
     "output_type": "execute_result"
    }
   ],
   "source": [
    "# letter-id ranging from 1 to 1151\n",
    "\n",
    "url_list = []\n",
    "url_base = \"https://www.memofonte.it/home/ricerca/singolo_17.php?id=\"\n",
    "for i in range (1151):\n",
    "    url_list.append(url_base+ str(i+1))\n",
    "    \n",
    "len(url_list)"
   ]
  },
  {
   "cell_type": "markdown",
   "metadata": {},
   "source": [
    "### save all as .html"
   ]
  },
  {
   "cell_type": "code",
   "execution_count": 40,
   "metadata": {},
   "outputs": [],
   "source": [
    "count = 0\n",
    "for i in url_list:\n",
    "    count+=1\n",
    "    response = urllib.request.urlopen(i)\n",
    "    webContent = response.read()\n",
    "    #filename = 'data/results/letters/html/letter-'+str(i)'.html'\n",
    "    f = open('data/results/letters/html/letter-'+str(count)+'.html', 'wb')\n",
    "    f.write(webContent)\n",
    "    f.close()\n",
    "    "
   ]
  },
  {
   "cell_type": "markdown",
   "metadata": {},
   "source": [
    "## Open all .html, make Beautiful Soups, extract information, save all letters in a single CSV"
   ]
  },
  {
   "cell_type": "code",
   "execution_count": 6,
   "metadata": {},
   "outputs": [
    {
     "data": {
      "text/plain": [
       "1151"
      ]
     },
     "execution_count": 6,
     "metadata": {},
     "output_type": "execute_result"
    }
   ],
   "source": [
    "list_of_htmls = os.listdir('data/results/Vasari_letters_csv/html')\n",
    "len(list_of_htmls)\n",
    "#list_of_htmls"
   ]
  },
  {
   "cell_type": "code",
   "execution_count": 7,
   "metadata": {},
   "outputs": [],
   "source": [
    "# obo.py\n",
    "# get rid of tags without Beautiful Soup\n",
    "# because there is a space \" \" missing after some <br/> tags\n",
    "\n",
    "def stripTags(pageContent):\n",
    "    pageContents = str(pageContent)\n",
    "\n",
    "    inside = 0\n",
    "    text = ''\n",
    "    storage = \" \"\n",
    "\n",
    "    for char in pageContents:\n",
    "        if (char == '<' and storage == \" \"):\n",
    "            inside = 1\n",
    "        elif (char == '<' and storage != \" \"):\n",
    "            inside = 1\n",
    "            text += \" \"     \n",
    "        elif (inside == 1 and char == '>'):\n",
    "            inside = 0\n",
    "            #text += \" \"\n",
    "        elif inside == 1:\n",
    "            continue\n",
    "        else:\n",
    "            text += char\n",
    "        storage = char\n",
    "\n",
    "    return text"
   ]
  },
  {
   "cell_type": "code",
   "execution_count": 34,
   "metadata": {
    "scrolled": true
   },
   "outputs": [],
   "source": [
    "# inspect data\n",
    "#soup.prettify"
   ]
  },
  {
   "cell_type": "markdown",
   "metadata": {},
   "source": [
    "### Make one CSV File for all letters"
   ]
  },
  {
   "cell_type": "code",
   "execution_count": 129,
   "metadata": {},
   "outputs": [
    {
     "data": {
      "text/plain": [
       "64"
      ]
     },
     "execution_count": 129,
     "metadata": {},
     "output_type": "execute_result"
    }
   ],
   "source": [
    "# make CSV File\n",
    "# changed filename after first run from letters.csv to letters_x.csv\n",
    "csv_file = csv.writer(open('data/results/Vasari_letters_csv/letters_x.csv', \"w\"))\n",
    "\n",
    "# Write column headers as the first line\n",
    "csv_file.writerow([\"Numero d'ordine\", \"Data\", \"Intestazione\", \"Segnatura\", \"Fonte\", \"Bibliografia\"]) "
   ]
  },
  {
   "cell_type": "markdown",
   "metadata": {},
   "source": [
    "#### iterate over all .html files, save as csv"
   ]
  },
  {
   "cell_type": "code",
   "execution_count": 130,
   "metadata": {},
   "outputs": [],
   "source": [
    "# open all letter.html, make soup, extract information, collect it in a list, append list as a row to csv_file\n",
    "\n",
    "for i in list_of_htmls:\n",
    "    csv_row = list() # make new row\n",
    "    soup = BeautifulSoup(open('data/results/letters/html/'+i), \"lxml\") # make soup\n",
    "    p_array = soup.find_all('p') # take the information one by one \n",
    "    csv_row.append(int(p_array[0].text[(len('Numero d\\'ordine:')+1):])) # append each to the list\n",
    "    csv_row.append(p_array[1].text[(len('Data:')+1):])\n",
    "    csv_row.append(p_array[2].text[(len('Intestazione:')+1):])\n",
    "    csv_row.append(p_array[3].text[(len('Segnatura:')+1):])\n",
    "    #csv_row.append(p_array[4].text[(len('Fonte:')+1):])\n",
    "    x = (p_array[4])\n",
    "    formatted_text = stripTags(str(x)[12:]) # remove html tags without beautiful soup\n",
    "    csv_row.append(formatted_text.replace(\"\\xa0\", ''))\n",
    "    \n",
    "    csv_row.append(p_array[5].text[(len('Bibliografia:')+1):])\n",
    "    csv_file.writerow(csv_row)"
   ]
  },
  {
   "cell_type": "markdown",
   "metadata": {},
   "source": [
    "## open or save CSV-file as dataframe"
   ]
  },
  {
   "cell_type": "code",
   "execution_count": 47,
   "metadata": {},
   "outputs": [
    {
     "data": {
      "text/plain": [
       "'Reverendissimo monsignore patron mio, io mando alla Signoria Vostra Reverendissima questa inclusa ch’è della Comunità d’Arezzo; la Signoria Vostra sia contenta, spedita ch’ella sarà, di rimandamela in mano, perché importa alla mia Comunità e ve ne arò obligo. Io vi ho scritto e Sua Eccellenzia doverrà deliberare quanto gli piacerà delle cose che bosogniano per qua per servizio suo. Ebbi un’ultima sua col sugel grosso, farò quanto m’è comesso e tuttavia si atende; così potessi voi con tutta la corte goder quel ch’è fatto senza avere a star ne’ luoghi che son disfatti, pure il faro che vi conduce lo debbe saper lui; andrò pregando Dio che vi riconduca a noi e che vi dia pazienzia che questo santo ch’è oggi nel giorno, che io scrivo, i diavoli gniene scossono coi bastoni; dove il nostro Bernia dice in questi due versi: a giorni diciassette l’Alcionio fu bastonato come santo Antonio. E con questo fo fine, restando al suo comando. Di vostra Signoria reverendissimo servitore Giorgio Vasari Al reverendissimo monsignore il Vescovo Guidi, segretario di Sua Eccellenzia illustrissima alla Corte. '"
      ]
     },
     "execution_count": 47,
     "metadata": {},
     "output_type": "execute_result"
    }
   ],
   "source": [
    "#filename = 'data/results/Vasari_letters_csv/letters_2.csv'\n",
    "filename = 'data/results/Vasari_letters_csv/letters_4.csv'\n",
    "\n",
    "dataframe = pd.read_csv(filename) # open csv\n",
    "#dataframe.to_csv(filename, index = False, header = True) # save as csv\n",
    "\n",
    "dataframe[\"Fonte\"][1146]"
   ]
  },
  {
   "cell_type": "markdown",
   "metadata": {},
   "source": [
    "## get rid of nan-values"
   ]
  },
  {
   "cell_type": "markdown",
   "metadata": {},
   "source": [
    "'nan' count in total: 11 rows with nan values \n",
    "--> replace with '0' and collect index for documentation (row-indices found: 17, 101, 268, 368, 491, 569, 617, 703, 740, 928, 985)"
   ]
  },
  {
   "cell_type": "code",
   "execution_count": 9,
   "metadata": {},
   "outputs": [
    {
     "name": "stdout",
     "output_type": "stream",
     "text": [
      "Intestazione,  17\n",
      "Intestazione,  101\n",
      "Intestazione,  268\n",
      "Intestazione,  368\n",
      "Intestazione,  491\n",
      "Intestazione,  569\n",
      "Intestazione,  617\n",
      "Intestazione,  703\n",
      "Intestazione,  740\n",
      "Intestazione,  928\n",
      "Intestazione,  985\n"
     ]
    },
    {
     "name": "stderr",
     "output_type": "stream",
     "text": [
      "<ipython-input-9-f6e2de138291>:6: SettingWithCopyWarning: \n",
      "A value is trying to be set on a copy of a slice from a DataFrame\n",
      "\n",
      "See the caveats in the documentation: https://pandas.pydata.org/pandas-docs/stable/user_guide/indexing.html#returning-a-view-versus-a-copy\n",
      "  (dataframe['Intestazione'][i]) = '0'\n",
      "<ipython-input-9-f6e2de138291>:10: SettingWithCopyWarning: \n",
      "A value is trying to be set on a copy of a slice from a DataFrame\n",
      "\n",
      "See the caveats in the documentation: https://pandas.pydata.org/pandas-docs/stable/user_guide/indexing.html#returning-a-view-versus-a-copy\n",
      "  (dataframe['Segnatura'][i]) = '0'\n",
      "<ipython-input-9-f6e2de138291>:18: SettingWithCopyWarning: \n",
      "A value is trying to be set on a copy of a slice from a DataFrame\n",
      "\n",
      "See the caveats in the documentation: https://pandas.pydata.org/pandas-docs/stable/user_guide/indexing.html#returning-a-view-versus-a-copy\n",
      "  (dataframe['Bibliografia'][i]) = '0'\n"
     ]
    }
   ],
   "source": [
    "count = 0\n",
    "for i in range(len(dataframe)): # check column by column if isnan and replace with '0'\n",
    "    \n",
    "    if isnan(dataframe['Intestazione'][i]): \n",
    "        print('Intestazione, ', count)\n",
    "        (dataframe['Intestazione'][i]) = '0'\n",
    "        \n",
    "    if isnan(dataframe['Segnatura'][i]):\n",
    "        #print('Segnatura', count)\n",
    "        (dataframe['Segnatura'][i]) = '0'\n",
    "        \n",
    "    if isnan(dataframe['Fonte'][i]):\n",
    "        #print('Fonte', count)\n",
    "        (dataframe['Fonte'][i]) = '0'\n",
    "        \n",
    "    if isnan(dataframe['Bibliografia'][i]):\n",
    "        #print('Bibliografia', count)\n",
    "        (dataframe['Bibliografia'][i]) = '0'\n",
    "    \n",
    "    count+=1"
   ]
  },
  {
   "cell_type": "markdown",
   "metadata": {},
   "source": [
    "# Distinguish letters by Vasari himself, copied by his nefew and authorship candidates"
   ]
  },
  {
   "cell_type": "markdown",
   "metadata": {},
   "source": [
    "example for signature of letter copied by nefew (called Giorgio Vasari the younger) \n",
    "BRF, 2354, cc. 12v-14, copia di Giorgio Vasari il Giovane.\n",
    "\n",
    "number of letters filtered at http://vasariscrittore.memofonte.it/archivio\n",
    "390"
   ]
  },
  {
   "cell_type": "code",
   "execution_count": null,
   "metadata": {},
   "outputs": [],
   "source": [
    "filename = 'data/results/Vasari_letters_csv/letters_4.csv'\n",
    "#dataframe = pd.read_csv(filename) # open csv"
   ]
  },
  {
   "cell_type": "code",
   "execution_count": 73,
   "metadata": {},
   "outputs": [],
   "source": [
    "dataframe['Intestazione'] = [i.strip(' ') for i in dataframe['Intestazione']]"
   ]
  },
  {
   "cell_type": "code",
   "execution_count": 31,
   "metadata": {
    "scrolled": true
   },
   "outputs": [
    {
     "name": "stdout",
     "output_type": "stream",
     "text": [
      "RETTORI E DEPUT 2\n",
      "JACOPO APPIANI  1\n",
      "JACOPO GUIDI IN 5\n",
      "CRISTOFANO DI M 5\n",
      "FEDERICO DI MON 12\n",
      "AVERARDO SERRIS 1\n",
      "BARTOLOMEO CONC 14\n",
      "LELIO BONSI IN  2\n",
      "GIORGIO VASARI  404\n",
      "VINCENZO BORGHI 136\n",
      "DANIELE RICCIAR 2\n",
      "ANTONIO SERGUID 1\n",
      "0 11\n",
      "GABRIELE BOMBAS 1\n",
      "TIBERIO CALCAGN 1\n",
      "FRANCESCO DE’ M 7\n",
      "GIOVANNI DI MON 1\n",
      "ALESSANDRO FARN 1\n",
      "GIROLAMO RUSTIC 1\n",
      "LEONARDO BUONAR 1\n",
      "VESCOVO SARACIN 1\n",
      "BENEDETTO LOMEL 3\n",
      "FRANCESCO DI SE 1\n",
      "PIO V A GIORGIO 1\n",
      "SPINELLO BENCI  3\n",
      "GABRIELE PALEOT 1\n",
      "PIER VETTORI IN 1\n",
      "PRIORE DELL’ORA 1\n",
      "BATTISTA LORENZ 1\n",
      "STEFANO VELTRON 1\n",
      "MARCHESE DI CET 1\n",
      "GABRIEL FIAMMA  16\n",
      "PROVEDITORI DE’ 2\n",
      "GIOVAN MARIA DE 1\n",
      "FILIPPO BUONCOM 14\n",
      "ALESSANDRO MUSO 2\n",
      "CHIAPPINO VITEL 1\n",
      "PIETRO ARETINO  10\n",
      "VESCOVO CORNARO 1\n",
      "FRA’ STEFANO IN 2\n",
      "DON ANTONIO IN  1\n",
      "PIERGIOVANNI AL 1\n",
      "COSIMO DE’ MEDI 43\n",
      "GIOVANNI BATTIS 12\n",
      "TOLOMEO GALLI I 2\n",
      "ORDINE DI SANTO 10\n",
      "ALESSANDRO STRO 2\n",
      "PIERFRANCESCO G 6\n",
      "MARCO SARACINI  1\n",
      "ANONIMO DA PRAT 1\n",
      "MINIATO PITTI I 23\n",
      "LEONARDO MARINO 1\n",
      "COSIMO BARTOLI  73\n",
      "GIULIO RICASOLI 1\n",
      "LUDOVICO CESI I 6\n",
      "GUIDO FERRERI I 5\n",
      "IPPOLITO OLIVET 19\n",
      "ANTONIO CARAFA  1\n",
      "PIER DONATO CES 9\n",
      "SIGNORE DI PIOM 2\n",
      "GIOVANNI GORI E 1\n",
      "DON SAMUELE IN  1\n",
      "PIETRO VASARI I 2\n",
      "VITELLOZZO VITE 1\n",
      "LORENZO SABATIN 1\n",
      "RETTORI DELLA M 4\n",
      "ALESSANDRO DE’  3\n",
      "ANONIMO IN FIRE 1\n",
      "LUDOVICO ANTINO 2\n",
      "ARCIVESCOVO DI  1\n",
      "PAOLO GIOVIO IN 18\n",
      "FRANCESCO VINTA 2\n",
      "MICHELE DEGLI A 1\n",
      "LAMBERT LOMBARD 1\n",
      "BERNARDINO E FE 1\n",
      "BARTOLOMMEO BUS 7\n",
      "GIOVANNI FRANCE 1\n",
      "BERNARDETTO MIN 66\n",
      "DEPUTATI ALLE F 1\n",
      "LODOVICO DOMENI 1\n",
      "ANNIBAL CARO IN 4\n",
      "MICHELE BONELLI 3\n",
      "GUGLIELMO SANGA 108\n",
      "PIER JACOPO, MA 2\n",
      "MICHELANGELO BU 17\n",
      "ANONIMO IN PISA 1\n",
      "FRANCESCO ALCIA 1\n",
      "DOMINIKUS LAMPS 2\n",
      "PIETRO CAMAIANI 5\n"
     ]
    }
   ],
   "source": [
    "# check who has sent how many letters\n",
    "sender = df_labeled['Intestazione']\n",
    "store = []\n",
    "for i in sender:\n",
    "    store.append(i[:15])    \n",
    "for i in set(store):\n",
    "    print(i, store.count(i))"
   ]
  },
  {
   "cell_type": "markdown",
   "metadata": {},
   "source": [
    "- BERNARDETTO MIN 66\n",
    "- GUGLIELMO SANGA 108\n",
    "- GIORGIO VASARI  404\n",
    "- VINCENZO BORGHI 136\n",
    "- COSIMO BARTOLI  73"
   ]
  },
  {
   "cell_type": "markdown",
   "metadata": {},
   "source": [
    "### split and label dataframe of letters for different involved authorship candidates"
   ]
  },
  {
   "cell_type": "markdown",
   "metadata": {},
   "source": [
    "Cosimo Bartoli and Pierfrancesco Giambullari involved as Co-Authors after Gerd Blum (https://archiv.ub.uni-heidelberg.de/artdok/1948/1/Blum_Provvidenza_e_progresso_2010.pdf) "
   ]
  },
  {
   "cell_type": "markdown",
   "metadata": {},
   "source": [
    "Pierfrancesco Giambullari, Cosimo Bartoli, Giovan Battista Gelli und Carlo Lenzoni involved in the preparation of the edition of 1550; massive contribution of Vincenzio Borghinis concerning the indices and growing involvement over the following decennies (Alessandro Nova: Vasari versus Vasari, S.151)"
   ]
  },
  {
   "cell_type": "code",
   "execution_count": 74,
   "metadata": {},
   "outputs": [
    {
     "name": "stdout",
     "output_type": "stream",
     "text": [
      "Giambullari:  6 Borghini:  136 Bartoli:  73 Sanga:  108 Minerbetti:  66 Vasari:  363 Vasari_c:  41\n"
     ]
    }
   ],
   "source": [
    "# get Pierfrancesco Giambullari, Cosimo Bartoli, Vincenzio Borghini, Minerbetti Bernadetto, Sangaletti Guglielmo\n",
    "\n",
    "# examples of the signatures copied from http://vasariscrittore.memofonte.it/archivio# \n",
    "# COSIMO BARTOLI IN FIRENZE A GIORGIO VASARI IN ROMA (73 letters)\n",
    "# VINCENZO BORGHINI IN FIRENZE A GIORGIO VASARI IN ROMA (131 letters)\n",
    "# PIERFRANCESCO GIAMBULLARI IN FIRENZE A GIORGIO VASARI IN AREZZO (6 letters)\n",
    "# MINERBETTI BERNARDETTO 108 letters\n",
    "# SANGALLETTI GUGLIELMo 66 letters\n",
    "# GIORGIO VASARI 363\n",
    "# GIORGIO VASARI copied by his nephew 41\n",
    "\n",
    "\n",
    "\n",
    "Borghini = list() # collect whole entries written by Vincenzo Borghini\n",
    "Giambullari = list() # collect Pierfrancesco Giambullari\n",
    "Bartoli = list() # collect Cosimo Bartoli\n",
    "Minerbetti = list() # collect MINERBETTI BERNARDETTO\n",
    "Sanga = list()  # collect SANGALLETTI GUGLIELMO\n",
    "Vasari = list() # Giorgio Vasari 363\n",
    "Vasari_c = list() # Giorgio Vasari copies 41\n",
    "\n",
    "new_column = list()\n",
    "\n",
    "for i in range(len(dataframe)):\n",
    "\n",
    "    if dataframe['Intestazione'][i].startswith('VINCENZO BORGHINI'): # VINCENZO BORGHINI\n",
    "        Borghini.append(list(dataframe.iloc[i]))\n",
    "        new_column.append('Borghini')\n",
    "    \n",
    "    elif 'COSIMO BARTOLI' in dataframe['Intestazione'][i]: # COSIMO BARTOLI\n",
    "        Bartoli.append(list(dataframe.iloc[i]))\n",
    "        new_column.append('Bartoli')\n",
    "    \n",
    "    elif 'PIERFRANCESCO GIAMBULLARI' in dataframe['Intestazione'][i]: # Pierfrancesco Giambullari\n",
    "        Giambullari.append(list(dataframe.iloc[i]))\n",
    "        new_column.append('Giambullari')\n",
    "        \n",
    "    elif dataframe['Intestazione'][i].startswith('BERNARDETTO MIN'): # BERNADETTO MINERBETTI\n",
    "        Minerbetti.append(list(dataframe.iloc[i]))\n",
    "        new_column.append('Minerbetti')\n",
    "        \n",
    "    elif dataframe['Intestazione'][i].startswith('GUGLIELMO SANGA'): # VINCENZO BORGHINI\n",
    "        Sanga.append(list(dataframe.iloc[i]))\n",
    "        new_column.append('Sanga')\n",
    "        \n",
    "    elif dataframe['Intestazione'][i].startswith('GIORGIO VASARI') and 'copia' in dataframe['Segnatura'][i]: # VINCENZO BORGHINI\n",
    "        Vasari_c.append(list(dataframe.iloc[i]))\n",
    "        new_column.append('Vasari_c')\n",
    "    \n",
    "    elif dataframe['Intestazione'][i].startswith('GIORGIO VASARI') and 'copia' not in dataframe['Segnatura'][i]: # filter out copies        \n",
    "        Vasari.append(list(dataframe.iloc[i]))\n",
    "        new_column.append('Vasari')\n",
    "        \n",
    "    else:\n",
    "        new_column.append('other')\n",
    "        \n",
    "dataframe['author'] = new_column\n",
    "print('Giambullari: ', len(Giambullari), 'Borghini: ', len(Borghini), 'Bartoli: ', len(Bartoli), 'Sanga: ', len(Sanga), 'Minerbetti: ', len(Minerbetti), 'Vasari: ', len(Vasari), 'Vasari_c: ', len(Vasari_c))"
   ]
  },
  {
   "cell_type": "code",
   "execution_count": 55,
   "metadata": {},
   "outputs": [],
   "source": [
    "columns = [\"Numero d'ordine\", \"Data\", \"Intestazione\", \"Segnatura\", \"Fonte\", \"Bibliografia\", \"Label\", \"author\" ]\n",
    "data_path = 'data/results/Vasari_letters_csv/'"
   ]
  },
  {
   "cell_type": "code",
   "execution_count": 75,
   "metadata": {},
   "outputs": [
    {
     "data": {
      "text/html": [
       "<div>\n",
       "<style scoped>\n",
       "    .dataframe tbody tr th:only-of-type {\n",
       "        vertical-align: middle;\n",
       "    }\n",
       "\n",
       "    .dataframe tbody tr th {\n",
       "        vertical-align: top;\n",
       "    }\n",
       "\n",
       "    .dataframe thead th {\n",
       "        text-align: right;\n",
       "    }\n",
       "</style>\n",
       "<table border=\"1\" class=\"dataframe\">\n",
       "  <thead>\n",
       "    <tr style=\"text-align: right;\">\n",
       "      <th></th>\n",
       "      <th>Unnamed: 0</th>\n",
       "      <th>Numero d'ordine</th>\n",
       "      <th>Data</th>\n",
       "      <th>Intestazione</th>\n",
       "      <th>Segnatura</th>\n",
       "      <th>Fonte</th>\n",
       "      <th>Bibliografia</th>\n",
       "      <th>author</th>\n",
       "    </tr>\n",
       "  </thead>\n",
       "  <tbody>\n",
       "    <tr>\n",
       "      <th>0</th>\n",
       "      <td>0</td>\n",
       "      <td>1051</td>\n",
       "      <td>26 12  1572</td>\n",
       "      <td>VINCENZO BORGHINI IN FIRENZE A GIORGIO VASARI ...</td>\n",
       "      <td>ASA, AV, 14 (XLVIII), cc. 146-148.</td>\n",
       "      <td>Molto Magnifico messer Giorgio. Ho ricevuto la...</td>\n",
       "      <td>Frey 1930, pp. 736-737.</td>\n",
       "      <td>Borghini</td>\n",
       "    </tr>\n",
       "    <tr>\n",
       "      <th>1</th>\n",
       "      <td>1</td>\n",
       "      <td>791</td>\n",
       "      <td>24 12  1569</td>\n",
       "      <td>GIORGIO VASARI IN FIRENZE A ORDINE DI SANTO ST...</td>\n",
       "      <td>ASPI, Carte Bonaini, IX.</td>\n",
       "      <td>Illustrissimi Signori miei observandissimi. Co...</td>\n",
       "      <td>Frey 1930, pp. 476-477.</td>\n",
       "      <td>Vasari</td>\n",
       "    </tr>\n",
       "    <tr>\n",
       "      <th>2</th>\n",
       "      <td>2</td>\n",
       "      <td>284</td>\n",
       "      <td>20 04  1559</td>\n",
       "      <td>GABRIEL FIAMMA IN PADOVA A GIORGIO VASARI IN F...</td>\n",
       "      <td>ASA, AV, 13 (XLVII), cc. 53, 59.</td>\n",
       "      <td>Magnifico Signor mio osservandissimo. Ho scrit...</td>\n",
       "      <td>Frey 1923, pp. 513-514.</td>\n",
       "      <td>other</td>\n",
       "    </tr>\n",
       "    <tr>\n",
       "      <th>3</th>\n",
       "      <td>3</td>\n",
       "      <td>1114</td>\n",
       "      <td>1 08  1573</td>\n",
       "      <td>GIORGIO VASARI IN FIRENZE AI DEPUTATI ALLE FAB...</td>\n",
       "      <td>AAA, filza CC, Registro di lettere, i, 1569, I...</td>\n",
       "      <td>Molto magnifici Signori Deputati, Signori mia ...</td>\n",
       "      <td>Frey 1930, pp. 810-811.</td>\n",
       "      <td>Vasari</td>\n",
       "    </tr>\n",
       "    <tr>\n",
       "      <th>4</th>\n",
       "      <td>4</td>\n",
       "      <td>904</td>\n",
       "      <td>3 09  1571</td>\n",
       "      <td>GUGLIELMO SANGALLETTI IN ROMA A GIORGIO VASARI...</td>\n",
       "      <td>ASA, AV, 15 (XLIX), cc. 174, 177.</td>\n",
       "      <td>Molto Magnifico Signor Cavaliere. La presente ...</td>\n",
       "      <td>Frey 1930, pp. 599-600.</td>\n",
       "      <td>Sanga</td>\n",
       "    </tr>\n",
       "    <tr>\n",
       "      <th>...</th>\n",
       "      <td>...</td>\n",
       "      <td>...</td>\n",
       "      <td>...</td>\n",
       "      <td>...</td>\n",
       "      <td>...</td>\n",
       "      <td>...</td>\n",
       "      <td>...</td>\n",
       "      <td>...</td>\n",
       "    </tr>\n",
       "    <tr>\n",
       "      <th>1146</th>\n",
       "      <td>1146</td>\n",
       "      <td>356</td>\n",
       "      <td>1 01  1562</td>\n",
       "      <td>GIORGIO VASARI IN FIRENZE A JACOPO GUIDI</td>\n",
       "      <td>ASF, Carte Guidi, c. 356.</td>\n",
       "      <td>Reverendissimo monsignore patron mio, io mando...</td>\n",
       "      <td>Palli D’Addario 1985, pp. 379-380 (post 2 giug...</td>\n",
       "      <td>Vasari</td>\n",
       "    </tr>\n",
       "    <tr>\n",
       "      <th>1147</th>\n",
       "      <td>1147</td>\n",
       "      <td>585</td>\n",
       "      <td>18 06  1565</td>\n",
       "      <td>GIORGIO VASARI IN FIRENZE A VINCENZO BORGHINI ...</td>\n",
       "      <td>ASF, CdA, II, I, n. 30.</td>\n",
       "      <td>Reverendo Signor mio. S’è riceuto la vostra le...</td>\n",
       "      <td>Gaye 1839-1840, III, p. 185; Milanesi 1878-18...</td>\n",
       "      <td>Vasari</td>\n",
       "    </tr>\n",
       "    <tr>\n",
       "      <th>1148</th>\n",
       "      <td>1148</td>\n",
       "      <td>839</td>\n",
       "      <td>29 08  1570</td>\n",
       "      <td>VINCENZO BORGHINI IN POPPIANO A GIORGIO VASARI</td>\n",
       "      <td>ASA, AV, 14 (XLVIII), c. 70.</td>\n",
       "      <td>Messer Giorgio mio. Io vi mando una lunga dice...</td>\n",
       "      <td>Frey 1930, pp. 522-523.</td>\n",
       "      <td>Borghini</td>\n",
       "    </tr>\n",
       "    <tr>\n",
       "      <th>1149</th>\n",
       "      <td>1149</td>\n",
       "      <td>993</td>\n",
       "      <td>6 06  1572</td>\n",
       "      <td>BARTOLOMMEO BUSSOTTO IN ROMA A GIORGIO VASARI ...</td>\n",
       "      <td>ASA, AV, 10 (XLIV), cc. 83, 86.</td>\n",
       "      <td>Molto magnifico Signor come fratello. Scrissi ...</td>\n",
       "      <td>Frey 1930, pp. 681-682.</td>\n",
       "      <td>other</td>\n",
       "    </tr>\n",
       "    <tr>\n",
       "      <th>1150</th>\n",
       "      <td>1150</td>\n",
       "      <td>28</td>\n",
       "      <td>6 07  1536</td>\n",
       "      <td>GIORGIO VASARI IN AREZZO A NICCOLÒ SERGUIDI IN...</td>\n",
       "      <td>BRF, 2354, c. 26v, copia di Giorgio Vasari il ...</td>\n",
       "      <td>A messer Niccolo Serguidi sopra l’ornamento di...</td>\n",
       "      <td>Bottari-Ticozzi 1822-1825, III, pp. 63-67 (6 l...</td>\n",
       "      <td>Vasari_c</td>\n",
       "    </tr>\n",
       "  </tbody>\n",
       "</table>\n",
       "<p>1151 rows × 8 columns</p>\n",
       "</div>"
      ],
      "text/plain": [
       "      Unnamed: 0  Numero d'ordine         Data  \\\n",
       "0              0             1051  26 12  1572   \n",
       "1              1              791  24 12  1569   \n",
       "2              2              284  20 04  1559   \n",
       "3              3             1114   1 08  1573   \n",
       "4              4              904   3 09  1571   \n",
       "...          ...              ...          ...   \n",
       "1146        1146              356   1 01  1562   \n",
       "1147        1147              585  18 06  1565   \n",
       "1148        1148              839  29 08  1570   \n",
       "1149        1149              993   6 06  1572   \n",
       "1150        1150               28   6 07  1536   \n",
       "\n",
       "                                           Intestazione  \\\n",
       "0     VINCENZO BORGHINI IN FIRENZE A GIORGIO VASARI ...   \n",
       "1     GIORGIO VASARI IN FIRENZE A ORDINE DI SANTO ST...   \n",
       "2     GABRIEL FIAMMA IN PADOVA A GIORGIO VASARI IN F...   \n",
       "3     GIORGIO VASARI IN FIRENZE AI DEPUTATI ALLE FAB...   \n",
       "4     GUGLIELMO SANGALLETTI IN ROMA A GIORGIO VASARI...   \n",
       "...                                                 ...   \n",
       "1146           GIORGIO VASARI IN FIRENZE A JACOPO GUIDI   \n",
       "1147  GIORGIO VASARI IN FIRENZE A VINCENZO BORGHINI ...   \n",
       "1148     VINCENZO BORGHINI IN POPPIANO A GIORGIO VASARI   \n",
       "1149  BARTOLOMMEO BUSSOTTO IN ROMA A GIORGIO VASARI ...   \n",
       "1150  GIORGIO VASARI IN AREZZO A NICCOLÒ SERGUIDI IN...   \n",
       "\n",
       "                                              Segnatura  \\\n",
       "0                    ASA, AV, 14 (XLVIII), cc. 146-148.   \n",
       "1                              ASPI, Carte Bonaini, IX.   \n",
       "2                      ASA, AV, 13 (XLVII), cc. 53, 59.   \n",
       "3     AAA, filza CC, Registro di lettere, i, 1569, I...   \n",
       "4                     ASA, AV, 15 (XLIX), cc. 174, 177.   \n",
       "...                                                 ...   \n",
       "1146                          ASF, Carte Guidi, c. 356.   \n",
       "1147                            ASF, CdA, II, I, n. 30.   \n",
       "1148                       ASA, AV, 14 (XLVIII), c. 70.   \n",
       "1149                    ASA, AV, 10 (XLIV), cc. 83, 86.   \n",
       "1150  BRF, 2354, c. 26v, copia di Giorgio Vasari il ...   \n",
       "\n",
       "                                                  Fonte  \\\n",
       "0     Molto Magnifico messer Giorgio. Ho ricevuto la...   \n",
       "1     Illustrissimi Signori miei observandissimi. Co...   \n",
       "2     Magnifico Signor mio osservandissimo. Ho scrit...   \n",
       "3     Molto magnifici Signori Deputati, Signori mia ...   \n",
       "4     Molto Magnifico Signor Cavaliere. La presente ...   \n",
       "...                                                 ...   \n",
       "1146  Reverendissimo monsignore patron mio, io mando...   \n",
       "1147  Reverendo Signor mio. S’è riceuto la vostra le...   \n",
       "1148  Messer Giorgio mio. Io vi mando una lunga dice...   \n",
       "1149  Molto magnifico Signor come fratello. Scrissi ...   \n",
       "1150  A messer Niccolo Serguidi sopra l’ornamento di...   \n",
       "\n",
       "                                           Bibliografia    author  \n",
       "0                               Frey 1930, pp. 736-737.  Borghini  \n",
       "1                               Frey 1930, pp. 476-477.    Vasari  \n",
       "2                               Frey 1923, pp. 513-514.     other  \n",
       "3                              Frey 1930, pp. 810-811.     Vasari  \n",
       "4                               Frey 1930, pp. 599-600.     Sanga  \n",
       "...                                                 ...       ...  \n",
       "1146  Palli D’Addario 1985, pp. 379-380 (post 2 giug...    Vasari  \n",
       "1147   Gaye 1839-1840, III, p. 185; Milanesi 1878-18...    Vasari  \n",
       "1148                            Frey 1930, pp. 522-523.  Borghini  \n",
       "1149                            Frey 1930, pp. 681-682.     other  \n",
       "1150  Bottari-Ticozzi 1822-1825, III, pp. 63-67 (6 l...  Vasari_c  \n",
       "\n",
       "[1151 rows x 8 columns]"
      ]
     },
     "execution_count": 75,
     "metadata": {},
     "output_type": "execute_result"
    }
   ],
   "source": [
    "dataframe"
   ]
  },
  {
   "cell_type": "code",
   "execution_count": 76,
   "metadata": {},
   "outputs": [
    {
     "data": {
      "text/html": [
       "<div>\n",
       "<style scoped>\n",
       "    .dataframe tbody tr th:only-of-type {\n",
       "        vertical-align: middle;\n",
       "    }\n",
       "\n",
       "    .dataframe tbody tr th {\n",
       "        vertical-align: top;\n",
       "    }\n",
       "\n",
       "    .dataframe thead th {\n",
       "        text-align: right;\n",
       "    }\n",
       "</style>\n",
       "<table border=\"1\" class=\"dataframe\">\n",
       "  <thead>\n",
       "    <tr style=\"text-align: right;\">\n",
       "      <th></th>\n",
       "      <th>Unnamed: 0</th>\n",
       "      <th>Numero d'ordine</th>\n",
       "      <th>Data</th>\n",
       "      <th>Intestazione</th>\n",
       "      <th>Segnatura</th>\n",
       "      <th>Fonte</th>\n",
       "      <th>Bibliografia</th>\n",
       "      <th>author</th>\n",
       "    </tr>\n",
       "  </thead>\n",
       "  <tbody>\n",
       "    <tr>\n",
       "      <th>0</th>\n",
       "      <td>0</td>\n",
       "      <td>1051</td>\n",
       "      <td>26 12  1572</td>\n",
       "      <td>VINCENZO BORGHINI IN FIRENZE A GIORGIO VASARI ...</td>\n",
       "      <td>ASA, AV, 14 (XLVIII), cc. 146-148.</td>\n",
       "      <td>Molto Magnifico messer Giorgio. Ho ricevuto la...</td>\n",
       "      <td>Frey 1930, pp. 736-737.</td>\n",
       "      <td>Borghini</td>\n",
       "    </tr>\n",
       "    <tr>\n",
       "      <th>1</th>\n",
       "      <td>1</td>\n",
       "      <td>791</td>\n",
       "      <td>24 12  1569</td>\n",
       "      <td>GIORGIO VASARI IN FIRENZE A ORDINE DI SANTO ST...</td>\n",
       "      <td>ASPI, Carte Bonaini, IX.</td>\n",
       "      <td>Illustrissimi Signori miei observandissimi. Co...</td>\n",
       "      <td>Frey 1930, pp. 476-477.</td>\n",
       "      <td>Vasari</td>\n",
       "    </tr>\n",
       "    <tr>\n",
       "      <th>2</th>\n",
       "      <td>2</td>\n",
       "      <td>284</td>\n",
       "      <td>20 04  1559</td>\n",
       "      <td>GABRIEL FIAMMA IN PADOVA A GIORGIO VASARI IN F...</td>\n",
       "      <td>ASA, AV, 13 (XLVII), cc. 53, 59.</td>\n",
       "      <td>Magnifico Signor mio osservandissimo. Ho scrit...</td>\n",
       "      <td>Frey 1923, pp. 513-514.</td>\n",
       "      <td>other</td>\n",
       "    </tr>\n",
       "    <tr>\n",
       "      <th>3</th>\n",
       "      <td>3</td>\n",
       "      <td>1114</td>\n",
       "      <td>1 08  1573</td>\n",
       "      <td>GIORGIO VASARI IN FIRENZE AI DEPUTATI ALLE FAB...</td>\n",
       "      <td>AAA, filza CC, Registro di lettere, i, 1569, I...</td>\n",
       "      <td>Molto magnifici Signori Deputati, Signori mia ...</td>\n",
       "      <td>Frey 1930, pp. 810-811.</td>\n",
       "      <td>Vasari</td>\n",
       "    </tr>\n",
       "    <tr>\n",
       "      <th>4</th>\n",
       "      <td>4</td>\n",
       "      <td>904</td>\n",
       "      <td>3 09  1571</td>\n",
       "      <td>GUGLIELMO SANGALLETTI IN ROMA A GIORGIO VASARI...</td>\n",
       "      <td>ASA, AV, 15 (XLIX), cc. 174, 177.</td>\n",
       "      <td>Molto Magnifico Signor Cavaliere. La presente ...</td>\n",
       "      <td>Frey 1930, pp. 599-600.</td>\n",
       "      <td>Sanga</td>\n",
       "    </tr>\n",
       "    <tr>\n",
       "      <th>...</th>\n",
       "      <td>...</td>\n",
       "      <td>...</td>\n",
       "      <td>...</td>\n",
       "      <td>...</td>\n",
       "      <td>...</td>\n",
       "      <td>...</td>\n",
       "      <td>...</td>\n",
       "      <td>...</td>\n",
       "    </tr>\n",
       "    <tr>\n",
       "      <th>1146</th>\n",
       "      <td>1146</td>\n",
       "      <td>356</td>\n",
       "      <td>1 01  1562</td>\n",
       "      <td>GIORGIO VASARI IN FIRENZE A JACOPO GUIDI</td>\n",
       "      <td>ASF, Carte Guidi, c. 356.</td>\n",
       "      <td>Reverendissimo monsignore patron mio, io mando...</td>\n",
       "      <td>Palli D’Addario 1985, pp. 379-380 (post 2 giug...</td>\n",
       "      <td>Vasari</td>\n",
       "    </tr>\n",
       "    <tr>\n",
       "      <th>1147</th>\n",
       "      <td>1147</td>\n",
       "      <td>585</td>\n",
       "      <td>18 06  1565</td>\n",
       "      <td>GIORGIO VASARI IN FIRENZE A VINCENZO BORGHINI ...</td>\n",
       "      <td>ASF, CdA, II, I, n. 30.</td>\n",
       "      <td>Reverendo Signor mio. S’è riceuto la vostra le...</td>\n",
       "      <td>Gaye 1839-1840, III, p. 185; Milanesi 1878-18...</td>\n",
       "      <td>Vasari</td>\n",
       "    </tr>\n",
       "    <tr>\n",
       "      <th>1148</th>\n",
       "      <td>1148</td>\n",
       "      <td>839</td>\n",
       "      <td>29 08  1570</td>\n",
       "      <td>VINCENZO BORGHINI IN POPPIANO A GIORGIO VASARI</td>\n",
       "      <td>ASA, AV, 14 (XLVIII), c. 70.</td>\n",
       "      <td>Messer Giorgio mio. Io vi mando una lunga dice...</td>\n",
       "      <td>Frey 1930, pp. 522-523.</td>\n",
       "      <td>Borghini</td>\n",
       "    </tr>\n",
       "    <tr>\n",
       "      <th>1149</th>\n",
       "      <td>1149</td>\n",
       "      <td>993</td>\n",
       "      <td>6 06  1572</td>\n",
       "      <td>BARTOLOMMEO BUSSOTTO IN ROMA A GIORGIO VASARI ...</td>\n",
       "      <td>ASA, AV, 10 (XLIV), cc. 83, 86.</td>\n",
       "      <td>Molto magnifico Signor come fratello. Scrissi ...</td>\n",
       "      <td>Frey 1930, pp. 681-682.</td>\n",
       "      <td>other</td>\n",
       "    </tr>\n",
       "    <tr>\n",
       "      <th>1150</th>\n",
       "      <td>1150</td>\n",
       "      <td>28</td>\n",
       "      <td>6 07  1536</td>\n",
       "      <td>GIORGIO VASARI IN AREZZO A NICCOLÒ SERGUIDI IN...</td>\n",
       "      <td>BRF, 2354, c. 26v, copia di Giorgio Vasari il ...</td>\n",
       "      <td>A messer Niccolo Serguidi sopra l’ornamento di...</td>\n",
       "      <td>Bottari-Ticozzi 1822-1825, III, pp. 63-67 (6 l...</td>\n",
       "      <td>Vasari_c</td>\n",
       "    </tr>\n",
       "  </tbody>\n",
       "</table>\n",
       "<p>1151 rows × 8 columns</p>\n",
       "</div>"
      ],
      "text/plain": [
       "      Unnamed: 0  Numero d'ordine         Data  \\\n",
       "0              0             1051  26 12  1572   \n",
       "1              1              791  24 12  1569   \n",
       "2              2              284  20 04  1559   \n",
       "3              3             1114   1 08  1573   \n",
       "4              4              904   3 09  1571   \n",
       "...          ...              ...          ...   \n",
       "1146        1146              356   1 01  1562   \n",
       "1147        1147              585  18 06  1565   \n",
       "1148        1148              839  29 08  1570   \n",
       "1149        1149              993   6 06  1572   \n",
       "1150        1150               28   6 07  1536   \n",
       "\n",
       "                                           Intestazione  \\\n",
       "0     VINCENZO BORGHINI IN FIRENZE A GIORGIO VASARI ...   \n",
       "1     GIORGIO VASARI IN FIRENZE A ORDINE DI SANTO ST...   \n",
       "2     GABRIEL FIAMMA IN PADOVA A GIORGIO VASARI IN F...   \n",
       "3     GIORGIO VASARI IN FIRENZE AI DEPUTATI ALLE FAB...   \n",
       "4     GUGLIELMO SANGALLETTI IN ROMA A GIORGIO VASARI...   \n",
       "...                                                 ...   \n",
       "1146           GIORGIO VASARI IN FIRENZE A JACOPO GUIDI   \n",
       "1147  GIORGIO VASARI IN FIRENZE A VINCENZO BORGHINI ...   \n",
       "1148     VINCENZO BORGHINI IN POPPIANO A GIORGIO VASARI   \n",
       "1149  BARTOLOMMEO BUSSOTTO IN ROMA A GIORGIO VASARI ...   \n",
       "1150  GIORGIO VASARI IN AREZZO A NICCOLÒ SERGUIDI IN...   \n",
       "\n",
       "                                              Segnatura  \\\n",
       "0                    ASA, AV, 14 (XLVIII), cc. 146-148.   \n",
       "1                              ASPI, Carte Bonaini, IX.   \n",
       "2                      ASA, AV, 13 (XLVII), cc. 53, 59.   \n",
       "3     AAA, filza CC, Registro di lettere, i, 1569, I...   \n",
       "4                     ASA, AV, 15 (XLIX), cc. 174, 177.   \n",
       "...                                                 ...   \n",
       "1146                          ASF, Carte Guidi, c. 356.   \n",
       "1147                            ASF, CdA, II, I, n. 30.   \n",
       "1148                       ASA, AV, 14 (XLVIII), c. 70.   \n",
       "1149                    ASA, AV, 10 (XLIV), cc. 83, 86.   \n",
       "1150  BRF, 2354, c. 26v, copia di Giorgio Vasari il ...   \n",
       "\n",
       "                                                  Fonte  \\\n",
       "0     Molto Magnifico messer Giorgio. Ho ricevuto la...   \n",
       "1     Illustrissimi Signori miei observandissimi. Co...   \n",
       "2     Magnifico Signor mio osservandissimo. Ho scrit...   \n",
       "3     Molto magnifici Signori Deputati, Signori mia ...   \n",
       "4     Molto Magnifico Signor Cavaliere. La presente ...   \n",
       "...                                                 ...   \n",
       "1146  Reverendissimo monsignore patron mio, io mando...   \n",
       "1147  Reverendo Signor mio. S’è riceuto la vostra le...   \n",
       "1148  Messer Giorgio mio. Io vi mando una lunga dice...   \n",
       "1149  Molto magnifico Signor come fratello. Scrissi ...   \n",
       "1150  A messer Niccolo Serguidi sopra l’ornamento di...   \n",
       "\n",
       "                                           Bibliografia    author  \n",
       "0                               Frey 1930, pp. 736-737.  Borghini  \n",
       "1                               Frey 1930, pp. 476-477.    Vasari  \n",
       "2                               Frey 1923, pp. 513-514.     other  \n",
       "3                              Frey 1930, pp. 810-811.     Vasari  \n",
       "4                               Frey 1930, pp. 599-600.     Sanga  \n",
       "...                                                 ...       ...  \n",
       "1146  Palli D’Addario 1985, pp. 379-380 (post 2 giug...    Vasari  \n",
       "1147   Gaye 1839-1840, III, p. 185; Milanesi 1878-18...    Vasari  \n",
       "1148                            Frey 1930, pp. 522-523.  Borghini  \n",
       "1149                            Frey 1930, pp. 681-682.     other  \n",
       "1150  Bottari-Ticozzi 1822-1825, III, pp. 63-67 (6 l...  Vasari_c  \n",
       "\n",
       "[1151 rows x 8 columns]"
      ]
     },
     "execution_count": 76,
     "metadata": {},
     "output_type": "execute_result"
    }
   ],
   "source": [
    "dataframe.to_csv(data_path + 'letters_4.csv', index = False, header=True)\n",
    "#df_labeled = pd.read_csv(data_path + 'all_letters_labeled_author.csv')\n",
    "dataframe"
   ]
  },
  {
   "cell_type": "markdown",
   "metadata": {},
   "source": [
    "#### make single dataframes"
   ]
  },
  {
   "cell_type": "code",
   "execution_count": 63,
   "metadata": {},
   "outputs": [],
   "source": [
    "columns = [\"Numero d'ordine\", \"Data\", \"Intestazione\", \"Segnatura\", \"Fonte\", \"Bibliografia\", 'author']"
   ]
  },
  {
   "cell_type": "code",
   "execution_count": 64,
   "metadata": {},
   "outputs": [],
   "source": [
    "df_Giambullari = pd.DataFrame(Giambullari, columns = columns)\n",
    "df_Borghini = pd.DataFrame(Borghini, columns = columns)\n",
    "df_Bartoli = pd.DataFrame(Bartoli, columns = columns)\n",
    "df_Minerbetti = pd.DataFrame(Minerbetti, columns = columns)\n",
    "df_Sanga = pd.DataFrame(Sanga, columns = columns)\n",
    "df_Vasari = pd.DataFrame(Vasari, columns = columns)\n",
    "df_Vasari_c = pd.DataFrame(Vasari_c, columns = columns)"
   ]
  },
  {
   "cell_type": "markdown",
   "metadata": {},
   "source": [
    "## save dataframes as csv files"
   ]
  },
  {
   "cell_type": "code",
   "execution_count": 42,
   "metadata": {},
   "outputs": [],
   "source": [
    "data_path = 'data/results/Vasari_letters_csv/'"
   ]
  },
  {
   "cell_type": "code",
   "execution_count": 40,
   "metadata": {},
   "outputs": [],
   "source": [
    "df_Giambullari.to_csv(data_path + 'Giambullari.csv', index = False, header=True)\n",
    "df_Borghini.to_csv(data_path + 'Borghini.csv', index = False, header=True)\n",
    "df_Bartoli.to_csv(data_path + 'Bartoli.csv', index = False, header=True)\n",
    "df_Minerbetti.to_csv(data_path + 'Minerbetti.csv', index = False, header=True)\n",
    "df_Sanga.to_csv(data_path + 'Sanga.csv', index = False, header=True)"
   ]
  },
  {
   "cell_type": "markdown",
   "metadata": {},
   "source": [
    "### open csv as dataframes"
   ]
  },
  {
   "cell_type": "code",
   "execution_count": 43,
   "metadata": {},
   "outputs": [],
   "source": [
    "Gia = 'Giambullari.csv'\n",
    "Bor = 'Borghini.csv'\n",
    "Min = 'Minerbetti.csv'\n",
    "Bar = 'Bartoli.csv'\n",
    "San = 'Sanga.csv'\n",
    "\n",
    "df_Giambullari = pd.read_csv(data_path+Gia)\n",
    "df_Borghini = pd.read_csv(data_path+Bor)\n",
    "df_Bartoli = pd.read_csv(data_path+Bar)\n",
    "df_Minerbetti = pd.read_csv(data_path+Min)\n",
    "df_Sanga = pd.read_csv(data_path+San)"
   ]
  },
  {
   "cell_type": "markdown",
   "metadata": {},
   "source": [
    "# make files for DANTE code and STYLOMETRY\n",
    "\n",
    "for this GitHub Repo (https://github.com/AlexMoreo/dante-verification) \n",
    "the documents must be named \"author_texname.txt\"\n",
    "\n",
    "also usefull for \"Introduction to stylometry with Python\", by  François Dominic Laramée, The Programming Historian 7 (2018), https://doi.org/10.46430/phen0078."
   ]
  },
  {
   "cell_type": "markdown",
   "metadata": {},
   "source": [
    "### open and save files"
   ]
  },
  {
   "cell_type": "code",
   "execution_count": 90,
   "metadata": {},
   "outputs": [],
   "source": [
    "filename = 'data/results/Vasari_letters_csv/letters_4.csv'\n",
    "dataframe = pd.read_csv(filename) # open csv\n",
    "#dataframe.to_csv(filename, index = False, header = True) # save as csv\n",
    "\n",
    "#dataframe"
   ]
  },
  {
   "cell_type": "code",
   "execution_count": null,
   "metadata": {},
   "outputs": [],
   "source": [
    "Dante_path = 'data/results/Dante/'"
   ]
  },
  {
   "cell_type": "code",
   "execution_count": null,
   "metadata": {},
   "outputs": [],
   "source": [
    "# make all letters from dataframe format 'author_text.txt'\n",
    "\n",
    "for i in range(len(dataframe)):\n",
    "        \n",
    "     # get text, letter-number and create filename\n",
    "    text = df[\"Fonte\"][i] \n",
    "    number = str(df[\"Numero d'ordine\"][i]) \n",
    "    filename = Dante_path + df['author'][i] + '_' + number + '.txt'\n",
    "    \n",
    "     # write .txt file\n",
    "    output = open(filename, \"wt\")\n",
    "    output.write(text)\n",
    "    output.close()"
   ]
  },
  {
   "cell_type": "markdown",
   "metadata": {},
   "source": [
    "### make unkown_files"
   ]
  },
  {
   "cell_type": "code",
   "execution_count": 50,
   "metadata": {},
   "outputs": [],
   "source": [
    "source_path = 'data/Italian-version/file-per-artist-italian/'\n",
    "unknown_path = 'data/results/Dante_unkown/'"
   ]
  },
  {
   "cell_type": "markdown",
   "metadata": {},
   "source": [
    "#### make new filenames"
   ]
  },
  {
   "cell_type": "code",
   "execution_count": 63,
   "metadata": {},
   "outputs": [
    {
     "data": {
      "text/plain": [
       "(168, 168, 'data/results/Dante_unkown/unkown_Francesco-Francia.txt')"
      ]
     },
     "execution_count": 63,
     "metadata": {},
     "output_type": "execute_result"
    }
   ],
   "source": [
    "list_of_files = os.listdir('data/Italian-version/file-per-artist-italian')\n",
    "renamed_list = list()\n",
    "\n",
    "for i in list_of_files:\n",
    "    renamed_list.append(unknown_path + 'unkown_' + (i.replace(' ', '-').replace(\"'\", \"\").replace(\",\",\"-\").strip('_').split('_'))[1] + '.txt')\n",
    "\n",
    "    \n",
    "\n",
    "#len(renamed_list), len(list_of_files)\n",
    "#list_of_files\n",
    "\n",
    "len(renamed_list), len(list_of_files), renamed_list[7]"
   ]
  },
  {
   "cell_type": "code",
   "execution_count": 56,
   "metadata": {},
   "outputs": [
    {
     "data": {
      "text/plain": [
       "'data/results/Dante_unkown/unkown_Lorenzo Costa.txt'"
      ]
     },
     "execution_count": 56,
     "metadata": {},
     "output_type": "execute_result"
    }
   ],
   "source": [
    "# load file\n",
    "as_input = open((source_path + list_of_files[0]), 'r')\n",
    "# create filename\n",
    "filename = renamed_list[0] \n",
    "# take text\n",
    "#text = as_input.read()\n",
    " # write .txt file\n",
    "#output = open(filename, \"wt\")\n",
    "#output.write(text)\n",
    "#+output.close()\n",
    "filename\n",
    "#as_input"
   ]
  },
  {
   "cell_type": "code",
   "execution_count": 64,
   "metadata": {},
   "outputs": [
    {
     "name": "stdout",
     "output_type": "stream",
     "text": [
      "data/results/Dante_unkown/unkown_Lorenzo-Costa.txt\n",
      "data/results/Dante_unkown/unkown_Taddeo-Gaddi.txt\n",
      "data/results/Dante_unkown/unkown_Mariotto-Albertinelli.txt\n",
      "data/results/Dante_unkown/unkown_Fra-GiovannAgnolo-Montorsoli.txt\n",
      "data/results/Dante_unkown/unkown_Giovanfrancesco-Rustichi.txt\n",
      "data/results/Dante_unkown/unkown_Ridolfo--Davit-e-Benedetto-Grillandai.txt\n",
      "data/results/Dante_unkown/unkown_GiovannAntonio-Lappoli.txt\n",
      "data/results/Dante_unkown/unkown_Francesco-Francia.txt\n",
      "data/results/Dante_unkown/unkown_Auteur.txt\n",
      "data/results/Dante_unkown/unkown_Agostino-et-Agnolo.txt\n",
      "data/results/Dante_unkown/unkown_Niccolò-detto-il-Tribolo.txt\n",
      "data/results/Dante_unkown/unkown_Marco-Calavrese.txt\n",
      "data/results/Dante_unkown/unkown_Francesco-Mazzuoli.txt\n",
      "data/results/Dante_unkown/unkown_Giovanni-Antonio-Sogliani.txt\n",
      "data/results/Dante_unkown/unkown_Masolino.txt\n",
      "data/results/Dante_unkown/unkown_Duccio.txt\n",
      "data/results/Dante_unkown/unkown_Giovan-Francesco-detto-il-Fattore-e-Pellegrino-da-Modana.txt\n",
      "data/results/Dante_unkown/unkown_Vincenzio-da-San-Gimignano-e-Timoteo-da-Urbino.txt\n",
      "data/results/Dante_unkown/unkown_Sebastian-Viniziano-frate-del-Piombo.txt\n",
      "data/results/Dante_unkown/unkown_Cristofano-Gherardi-detto-Doceno.txt\n",
      "data/results/Dante_unkown/unkown_Fra-Giovanni-da-Fiesole-dellOrdine-de-Frati-Predicatori.txt\n",
      "data/results/Dante_unkown/unkown_Iacopo-Sansavino.txt\n",
      "data/results/Dante_unkown/unkown_Arnolfo-di-Lapo.txt.txt\n",
      "data/results/Dante_unkown/unkown_Lorenzo-di-Bicci.txt\n",
      "data/results/Dante_unkown/unkown_Don-Bartolomeo-abbate-di-San-Clemente.txt\n",
      "data/results/Dante_unkown/unkown_Bastiano-detto-Aristotile-da-San-Gallo.txt\n",
      "data/results/Dante_unkown/unkown_Giotto.txt\n",
      "data/results/Dante_unkown/unkown_Accademici-del-Disegno-e-il-Bronzino.txt\n",
      "data/results/Dante_unkown/unkown_Niccolò-Soggi.txt\n",
      "data/results/Dante_unkown/unkown_Parri-Spinelli.txt\n",
      "data/results/Dante_unkown/unkown_Andrea-Mantegna.txt\n",
      "data/results/Dante_unkown/unkown_Lorenzo-Ghiberti.txt\n",
      "data/results/Dante_unkown/unkown_Niccolò-Aretino.txt\n",
      "data/results/Dante_unkown/unkown_Desiderio-da-Settignano.txt\n",
      "data/results/Dante_unkown/unkown_Michele-San-Michele.txt\n",
      "data/results/Dante_unkown/unkown_Gherardo.txt\n",
      "data/results/Dante_unkown/unkown_Francesco-Monsignori.txt\n",
      "data/results/Dante_unkown/unkown_Piero-di-Cosimo.txt\n",
      "data/results/Dante_unkown/unkown_Giuliano-et-Antonio-da-San-Gallo.txt\n",
      "data/results/Dante_unkown/unkown_Battista-Franco.txt\n",
      "data/results/Dante_unkown/unkown_Iacopo-detto-lIndaco.txt\n",
      "data/results/Dante_unkown/unkown_Baccio-da-Monte-Lupo-e-Raffaello-suo-figliolo.txt\n",
      "data/results/Dante_unkown/unkown_Baldassarre-Peruzzi.txt\n",
      "data/results/Dante_unkown/unkown_Nanni-dAntonio-di-Banco.txt\n",
      "data/results/Dante_unkown/unkown_Giorgione-da-Castel-Franco.txt\n",
      "data/results/Dante_unkown/unkown_Andrea-Verrocchio.txt\n",
      "data/results/Dante_unkown/unkown_Iacopo-di-Casentino.txt\n",
      "data/results/Dante_unkown/unkown_Girolamo-e-Bartolomeo-Genga-e-Giovambattista-San-Marino-genero-di-Girolamo.txt\n",
      "data/results/Dante_unkown/unkown_Falconetto.txt\n",
      "data/results/Dante_unkown/unkown_Giuliano-da-Maiano.txt\n",
      "data/results/Dante_unkown/unkown_Francesco-e-Girolamo-dai-Libri.txt\n",
      "data/results/Dante_unkown/unkown_Gaddo-Gaddi.txt\n",
      "data/results/Dante_unkown/unkown_Bartolomeo-da-Bagnacavallo-et-altri-pittori-romagnuoli.txt\n",
      "data/results/Dante_unkown/unkown_Benedetto-da-Rovezzano.txt\n",
      "data/results/Dante_unkown/unkown_Torrigiano.txt\n",
      "data/results/Dante_unkown/unkown_Giulio-Romano.txt\n",
      "data/results/Dante_unkown/unkown_Antonio-Rossellino-e-Bernardo-suo-fratello.txt\n",
      "data/results/Dante_unkown/unkown_Filippo-Brunelleschi.txt\n",
      "data/results/Dante_unkown/unkown_Antonio-e-Piero-Pollaiuoli.txt\n",
      "data/results/Dante_unkown/unkown_Antonio-da-Correggio.txt\n",
      "data/results/Dante_unkown/unkown_Vittore-Scarpaccia-et-altri-pittori-viniziani.txt\n",
      "data/results/Dante_unkown/unkown_Iacopo-Palma-e-Lorenzo-Lotto.txt\n",
      "data/results/Dante_unkown/unkown_Ercole-Ferrarese.txt\n",
      "data/results/Dante_unkown/unkown_Lazzaro-Vasari.txt\n",
      "data/results/Dante_unkown/unkown_Andrea-di-Cione-Orgagna.txt\n",
      "data/results/Dante_unkown/unkown_Donato.txt\n",
      "data/results/Dante_unkown/unkown_Vellano-da-Padova.txt\n",
      "data/results/Dante_unkown/unkown_Iacopo-della-Quercia.txt\n",
      "data/results/Dante_unkown/unkown_Pulidoro-da-Caravaggio-e-Maturino-Fiorentino.txt\n",
      "data/results/Dante_unkown/unkown_Alfonso-Lombardi--Michelagnolo-da-Siena-e-Girolamo-da-Santa-Croce-e-Dosso-e-Battista.txt\n",
      "data/results/Dante_unkown/unkown_Madonna-Properzia-de-Rossi.txt\n",
      "data/results/Dante_unkown/unkown_Agnolo-Gaddi.txt\n",
      "data/results/Dante_unkown/unkown_Gherardo-Starnina.txt\n",
      "data/results/Dante_unkown/unkown_Domenico-Ghirlandaio.txt\n",
      "data/results/Dante_unkown/unkown_Lippo.txt\n",
      "data/results/Dante_unkown/unkown_Alesso-Baldovinetti.txt\n",
      "data/results/Dante_unkown/unkown_Raffaellino-del-Garbo.txt\n",
      "data/results/Dante_unkown/unkown_Andrea-Pisano.txt\n",
      "data/results/Dante_unkown/unkown_Ambruogio-Lorenzetti.txt\n",
      "data/results/Dante_unkown/unkown_Antonio-Filarete-e-Simone.txt\n",
      "data/results/Dante_unkown/unkown_Spinello-Aretino.txt\n",
      "data/results/Dante_unkown/unkown_Andrea-da-Fiesole-e-altri-fiesolani.txt\n",
      "data/results/Dante_unkown/unkown_Gentile-di-Fabriano-e-Vittore-Pisanello.txt\n",
      "data/results/Dante_unkown/unkown_Lorenzo-Monaco-degli-Angeli.txt\n",
      "data/results/Dante_unkown/unkown_Masaccio-da-San-Giovanni-di-Valdarno.txt\n",
      "data/results/Dante_unkown/unkown_Giovanni-da-Ponte.txt\n",
      "data/results/Dante_unkown/unkown_Pierino-da-Vinci.txt\n",
      "data/results/Dante_unkown/unkown_Proemio-della-seconda-parte-delle-Vite.txt\n",
      "data/results/Dante_unkown/unkown_Il-Cecca.txt\n",
      "data/results/Dante_unkown/unkown_Stefano-e-Ugolino.txt\n",
      "data/results/Dante_unkown/unkown_Buonamico-Buffalmacco.txt\n",
      "data/results/Dante_unkown/unkown_Dello.txt\n",
      "data/results/Dante_unkown/unkown_Tommaso-Fiorentino-detto-Giottino.txt\n",
      "data/results/Dante_unkown/unkown_Mino.txt\n",
      "data/results/Dante_unkown/unkown_Baccio-dAgnolo.txt\n",
      "data/results/Dante_unkown/unkown_Fra-Bartolomeo-di-San-Marco.txt\n",
      "data/results/Dante_unkown/unkown_Antonello-da-Messina.txt\n",
      "data/results/Dante_unkown/unkown_Cimabue.txt\n",
      "data/results/Dante_unkown/unkown_Fra-Filippo-Lippi.txt\n",
      "data/results/Dante_unkown/unkown_Andrea-dal-Castagno-di-Mugello-e-Dominico-Viniziano.txt\n",
      "data/results/Dante_unkown/unkown_Francesco-detto-de-Salviati.txt\n",
      "data/results/Dante_unkown/unkown_Bramante-da-Urbino.txt\n",
      "data/results/Dante_unkown/unkown_Pietro-Cavallini.txt\n",
      "data/results/Dante_unkown/unkown_Francesco-Primaticcio-bolognese-abate-di-San-Martino.txt\n",
      "data/results/Dante_unkown/unkown_Simone-Sanese.txt\n",
      "data/results/Dante_unkown/unkown_Cosimo-Rosselli.txt\n",
      "data/results/Dante_unkown/unkown_Giovanni-Antonio-Licinio-da-Pordenone-e-altri-pittori-del-Friuli.txt\n",
      "data/results/Dante_unkown/unkown_Andrea-del-Sarto.txt\n",
      "data/results/Dante_unkown/unkown_Lorenzetto-e-Boccaccino.txt\n",
      "data/results/Dante_unkown/unkown_Lionardo-da-Vinci.txt\n",
      "data/results/Dante_unkown/unkown_Giovannantonio-detto-il-Soddoma-da-Verzelli.txt\n",
      "data/results/Dante_unkown/unkown_Bernardino-Pinturicchio.txt\n",
      "data/results/Dante_unkown/unkown_Andrea-dal-Monte-Sansovino.txt\n",
      "data/results/Dante_unkown/unkown_Daniello-Ricciarelli-da-Volterra.txt\n",
      "data/results/Dante_unkown/unkown_Francesco-Granacci.txt\n",
      "data/results/Dante_unkown/unkown_Luca-della-Robbia.txt\n",
      "data/results/Dante_unkown/unkown_Antonio-Viniziano.txt\n",
      "data/results/Dante_unkown/unkown_Berna-Sanese.txt\n",
      "data/results/Dante_unkown/unkown_Filippo-Lippi.txt\n",
      "data/results/Dante_unkown/unkown_Morto-da-Feltro-e-Andrea-di-Cosimo-Feltrini.txt\n",
      "data/results/Dante_unkown/unkown_Perino-del-Vaga.txt\n",
      "data/results/Dante_unkown/unkown_Iacopo--Giovanni-e-Gentile-Bellini.txt\n",
      "data/results/Dante_unkown/unkown_Andrea-Tafi.txt\n",
      "data/results/Dante_unkown/unkown_Lione-Lioni-e-altri-scultori-et-architetti.txt\n",
      "data/results/Dante_unkown/unkown_Lorenzo-di-Credi.txt\n",
      "data/results/Dante_unkown/unkown_Benvenuto-Garofalo-e-Girolamo-da-Carpi-e-altri-lombardi.txt\n",
      "data/results/Dante_unkown/unkown_Proemio-della-terza-parte-delle-Vite.txt\n",
      "data/results/Dante_unkown/unkown_Francesco-di-Giorgio-e-Lorenzo-Vecchietto.txt\n",
      "data/results/Dante_unkown/unkown_Diversi-artefici-italiani.txt\n",
      "data/results/Dante_unkown/unkown_Cronaca.txt\n",
      "data/results/Dante_unkown/unkown_Baccio-Bandinelli.txt\n",
      "data/results/Dante_unkown/unkown_Sandro-Botticello.txt\n",
      "data/results/Dante_unkown/unkown_Nicola-e-Giovanni-Pisani.txt\n",
      "data/results/Dante_unkown/unkown_Paulo-Uccello.txt\n",
      "data/results/Dante_unkown/unkown_Fra-Iocondo-e-Liberale-e-altri-veronesi.txt\n",
      "data/results/Dante_unkown/unkown_Piero-della-Francesca.txt\n",
      "data/results/Dante_unkown/unkown_Valerio-Vicentino--Giovanni-da-Castel-Bolognese--Matteo-del-Nasaro-e-altri-eccellenti-intagliatori-di-camei-e-gioie.txt\n",
      "data/results/Dante_unkown/unkown_Il-Rosso.txt\n",
      "data/results/Dante_unkown/unkown_Benedetto-da-Maiano.txt\n",
      "data/results/Dante_unkown/unkown_Giovanni-da-Udine.txt\n",
      "data/results/Dante_unkown/unkown_Girolamo-da-Trevigi.txt\n",
      "data/results/Dante_unkown/unkown_Domenico-Puligo.txt\n",
      "data/results/Dante_unkown/unkown_Antonio-da-San-Gallo.txt\n",
      "data/results/Dante_unkown/unkown_Michelagnolo-Buonarruoti.txt\n",
      "data/results/Dante_unkown/unkown_Iacopo-da-Puntormo.txt\n",
      "data/results/Dante_unkown/unkown_Guglielmo-da-Marcilla.txt\n",
      "data/results/Dante_unkown/unkown_Domenico-Beccafumi-e-Maestro-di-Getti.txt\n",
      "data/results/Dante_unkown/unkown_Pietro-Perugino.txt\n",
      "data/results/Dante_unkown/unkown_Don-Giulio-Clovio.txt\n",
      "data/results/Dante_unkown/unkown_Raffaello-dUrbino.txt\n",
      "data/results/Dante_unkown/unkown_Luca-Signorelli-da-Cortona.txt\n",
      "data/results/Dante_unkown/unkown_Taddeo-Zucchero.txt\n",
      "data/results/Dante_unkown/unkown_Pesello-e-Francesco-Peselli.txt\n",
      "data/results/Dante_unkown/unkown_Francia-Bigio.txt\n",
      "data/results/Dante_unkown/unkown_Paulo-Romano-e-Maestro-Mino-e-Chimenti-Camicia.txt\n",
      "data/results/Dante_unkown/unkown_Margaritone.txt\n",
      "data/results/Dante_unkown/unkown_Diversi-artefici-fiamminghi.txt\n",
      "data/results/Dante_unkown/unkown_Michelozzo-Michelozzi.txt\n",
      "data/results/Dante_unkown/unkown_Tiziano-da-Cador.txt\n",
      "data/results/Dante_unkown/unkown_Galasso-Galassi.txt\n",
      "data/results/Dante_unkown/unkown_Taddeo-Bartoli.txt\n",
      "data/results/Dante_unkown/unkown_Benozzo.txt\n",
      "data/results/Dante_unkown/unkown_Leon-Batista-Alberti.txt\n",
      "data/results/Dante_unkown/unkown_Simone-Mosca.txt\n",
      "data/results/Dante_unkown/unkown_Giuliano-Bugiardini.txt\n",
      "data/results/Dante_unkown/unkown_Pietro-Laurati.txt\n",
      "data/results/Dante_unkown/unkown_Marcantonio-Bolognese-e-altri-intagliatori-di-stampe.txt\n",
      "data/results/Dante_unkown/unkown_Giorgio-Vasari.txt\n"
     ]
    }
   ],
   "source": [
    "# build iterator for all biographies\n",
    "index = 0\n",
    "for i in list_of_files:\n",
    "    # open file\n",
    "    as_input = open((source_path + i), 'r')\n",
    "    # take text\n",
    "    text = as_input.read()\n",
    "    as_input.close\n",
    "    \n",
    "    output = open(renamed_list[index], \"wt\")\n",
    "    output.write(text)\n",
    "    output.close()\n",
    "    print(renamed_list[index])\n",
    "    index += 1\n",
    "    \n",
    "    # write .txt file"
   ]
  },
  {
   "cell_type": "code",
   "execution_count": 2,
   "metadata": {},
   "outputs": [],
   "source": [
    "#os.listdir('data/results/Dante/')"
   ]
  },
  {
   "cell_type": "markdown",
   "metadata": {},
   "source": [
    "### Helper Funcitons"
   ]
  },
  {
   "cell_type": "code",
   "execution_count": 104,
   "metadata": {},
   "outputs": [],
   "source": [
    "# obo.py\n",
    "# get rid of tags without Beautiful Soup\n",
    "# because there is a space \" \" missing after some <br/> tags\n",
    "\n",
    "def stripTags(pageContent):\n",
    "    pageContents = str(pageContent)\n",
    "\n",
    "    inside = 0\n",
    "    text = ''\n",
    "\n",
    "    for char in pageContents:\n",
    "        if char == '<':\n",
    "            inside = 1\n",
    "        elif (inside == 1 and char == '>'):\n",
    "            inside = 0\n",
    "            #after = 1\n",
    "            #text += \" \"\n",
    "        elif inside == 1:\n",
    "            continue\n",
    "        else:\n",
    "            text += char\n",
    "\n",
    "    return text"
   ]
  }
 ],
 "metadata": {
  "kernelspec": {
   "display_name": "Python 3",
   "language": "python",
   "name": "python3"
  },
  "language_info": {
   "codemirror_mode": {
    "name": "ipython",
    "version": 3
   },
   "file_extension": ".py",
   "mimetype": "text/x-python",
   "name": "python",
   "nbconvert_exporter": "python",
   "pygments_lexer": "ipython3",
   "version": "3.8.5"
  }
 },
 "nbformat": 4,
 "nbformat_minor": 4
}
