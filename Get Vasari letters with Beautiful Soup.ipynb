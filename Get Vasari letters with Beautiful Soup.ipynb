{
 "cells": [
  {
   "cell_type": "markdown",
   "metadata": {},
   "source": [
    "# Get Vasari letters from Fondazione Memofonte (https://www.memofonte.it/ricerche/giorgio-vasari/) with Beautiful Soup"
   ]
  },
  {
   "cell_type": "markdown",
   "metadata": {},
   "source": [
    "#### based on Jeri Wieringa, \"Intro to Beautiful Soup,\" The Programming Historian 1 (2012), https://doi.org/10.46430/phen0008."
   ]
  },
  {
   "cell_type": "code",
   "execution_count": 67,
   "metadata": {},
   "outputs": [],
   "source": [
    "import urllib.request, urllib.error, urllib.parse\n",
    "import csv\n",
    "from bs4 import BeautifulSoup\n",
    "import html2text\n",
    "import os\n",
    "from datetime import datetime"
   ]
  },
  {
   "cell_type": "markdown",
   "metadata": {},
   "source": [
    "## Iterate over all URLs and save as .html"
   ]
  },
  {
   "cell_type": "markdown",
   "metadata": {},
   "source": [
    "#### make list of URLs"
   ]
  },
  {
   "cell_type": "code",
   "execution_count": 35,
   "metadata": {},
   "outputs": [
    {
     "data": {
      "text/plain": [
       "1151"
      ]
     },
     "execution_count": 35,
     "metadata": {},
     "output_type": "execute_result"
    }
   ],
   "source": [
    "# letter-id is ranging from 1 to 1151\n",
    "\n",
    "url_list = []\n",
    "url_base = \"https://www.memofonte.it/home/ricerca/singolo_17.php?id=\"\n",
    "for i in range (1151):\n",
    "    url_list.append(url_base+ str(i+1))\n",
    "    \n",
    "len(url_list)"
   ]
  },
  {
   "cell_type": "markdown",
   "metadata": {},
   "source": [
    "### save all as .html"
   ]
  },
  {
   "cell_type": "code",
   "execution_count": 40,
   "metadata": {},
   "outputs": [],
   "source": [
    "count = 0\n",
    "for i in url_list:\n",
    "    count+=1\n",
    "    response = urllib.request.urlopen(i)\n",
    "    webContent = response.read()\n",
    "    #filename = 'data/results/letters/html/letter-'+str(i)'.html'\n",
    "    f = open('data/results/letters/html/letter-'+str(count)+'.html', 'wb')\n",
    "    f.write(webContent)\n",
    "    f.close()\n",
    "    "
   ]
  },
  {
   "cell_type": "markdown",
   "metadata": {},
   "source": [
    "## Open all .html, make Beautiful Soups, extract information, save in a single CSV"
   ]
  },
  {
   "cell_type": "code",
   "execution_count": 58,
   "metadata": {},
   "outputs": [
    {
     "data": {
      "text/plain": [
       "1151"
      ]
     },
     "execution_count": 58,
     "metadata": {},
     "output_type": "execute_result"
    }
   ],
   "source": [
    "list_of_htmls = os.listdir('data/results/letters/html')\n",
    "len(list_of_htmls)\n",
    "#list_of_htmls"
   ]
  },
  {
   "cell_type": "code",
   "execution_count": 62,
   "metadata": {},
   "outputs": [
    {
     "data": {
      "text/plain": [
       "[1051,\n",
       " '26 12  1572',\n",
       " 'VINCENZO BORGHINI IN FIRENZE A GIORGIO VASARI IN ROMA',\n",
       " 'ASA, AV, 14 (XLVIII), cc. 146-148.',\n",
       " 'Molto Magnifico messer Giorgio. Ho ricevuto la vostra con la distesa delle istorie della sala, le quali considererò, e perché mi ha dato noia un po’ di scesa et non ne son libero, indugierò a questa altra settimana a darne più piena risposta. Messer Vincenzo non credo che pensi più alla messa, ma quando si potessi confermare nel privileggio del legittimare et altri indulti che non toccono il concilio, credo sarebbe contento, che qua non lo ammettono, e però forse bisognerebbe questa confermazione; pure ci sarà tempo. De la cosa mia come mi dite ne starò a buona speranza; e se voi vedete che la camini bene, il meglio sarebbe stringnere e darli fine, che cosa fatta importa assai e si schifa molte cose, che col tempo possono occorrere, che si dice che l’indugio pigla vizio; ma se ci fusse qualche difficultà, allora è bene non strignere, che il far male ha da essere l’ultima cosa. Io come ho detto vi scriverrò per altra più allungo, che le feste, la scesa mi danno che fare, e raccomandatemi caramente al Signor Protonotario Imbasciadore et a voi medesimo. Che Dio vi feliciti. Di Firenze il dì di Santo Stefano 1572. Vostro Don Vincenzo BorghiniAl Molto Magnifico Signor Cavalier Vasari Messer Giorgio Pittore Excellentissimo. Roma. ',\n",
       " 'Frey 1930, pp. 736-737.']"
      ]
     },
     "execution_count": 62,
     "metadata": {},
     "output_type": "execute_result"
    }
   ],
   "source": [
    "# test code and output for single file before iterating over 1151\n",
    "\n",
    "csv_row = list()\n",
    "\n",
    "soup = BeautifulSoup(open('data/results/letters/html/'+str(list_of_htmls[0])), \"lxml\")\n",
    "\n",
    "p_array = soup.find_all('p')\n",
    "csv_row.append(int(p_array[0].text[(len('Numero d\\'ordine:')+1):]))\n",
    "csv_row.append(((p_array[1].text[(len('Data:')+1):])))\n",
    "csv_row.append(p_array[2].text[(len('Intestazione:')+1):])\n",
    "csv_row.append(p_array[3].text[(len('Segnatura:')+1):])\n",
    "csv_row.append(p_array[4].text[(len('Fonte:')+1):])\n",
    "csv_row.append(p_array[5].text[(len('Bibliografia:')+1):])\n",
    "\n",
    "csv_row"
   ]
  },
  {
   "cell_type": "code",
   "execution_count": 34,
   "metadata": {
    "scrolled": true
   },
   "outputs": [],
   "source": [
    "#soup.prettify"
   ]
  },
  {
   "cell_type": "code",
   "execution_count": 70,
   "metadata": {},
   "outputs": [
    {
     "data": {
      "text/plain": [
       "datetime.datetime(1572, 12, 26, 0, 0)"
      ]
     },
     "execution_count": 70,
     "metadata": {},
     "output_type": "execute_result"
    }
   ],
   "source": [
    "# test how to convert the date\n",
    "\n",
    "datetime_object = datetime.strptime((p_array[1].text[(len('Data:')+1):]), \"%d %m %Y\")\n",
    "datetime_object\n",
    "#('Jun 1 2005  1:33PM', '%b %d %Y %I:%M%p')"
   ]
  },
  {
   "cell_type": "markdown",
   "metadata": {},
   "source": [
    "### Make one CSV File for all letters"
   ]
  },
  {
   "cell_type": "code",
   "execution_count": 54,
   "metadata": {},
   "outputs": [
    {
     "data": {
      "text/plain": [
       "64"
      ]
     },
     "execution_count": 54,
     "metadata": {},
     "output_type": "execute_result"
    }
   ],
   "source": [
    "# make CSV File\n",
    "csv_file = csv.writer(open('data/results/letters/letters.csv', \"w\"))\n",
    "\n",
    "# Write column headers as the first line\n",
    "csv_file.writerow([\"Numero d'ordine\", \"Data\", \"Intestazione\", \"Segnatura\", \"Fonte\", \"Bibliografia\"]) "
   ]
  },
  {
   "cell_type": "markdown",
   "metadata": {},
   "source": [
    "### iterate over all .html files, save as csv"
   ]
  },
  {
   "cell_type": "code",
   "execution_count": 71,
   "metadata": {},
   "outputs": [],
   "source": [
    "# open all letter.html, make soup, extract information, collect it in a list, append list as a row to csv_file\n",
    "\n",
    "for i in list_of_htmls:\n",
    "    csv_row = list() # make new row\n",
    "    soup = BeautifulSoup(open('data/results/letters/html/'+i), \"lxml\") # make soup\n",
    "    p_array = soup.find_all('p') # take the information one by one \n",
    "    csv_row.append(int(p_array[0].text[(len('Numero d\\'ordine:')+1):])) # append each to the list\n",
    "    csv_row.append(p_array[1].text[(len('Data:')+1):])\n",
    "    csv_row.append(p_array[2].text[(len('Intestazione:')+1):])\n",
    "    csv_row.append(p_array[3].text[(len('Segnatura:')+1):])\n",
    "    csv_row.append(p_array[4].text[(len('Fonte:')+1):])\n",
    "    csv_row.append(p_array[5].text[(len('Bibliografia:')+1):])\n",
    "    csv_file.writerow(csv_row)\n",
    "\n",
    "#soup = BeautifulSoup(open('data/results/letters/vasari-letter1.html'), \"lxml\")\n",
    "# extract all \"p\"\n",
    "#p_array = soup.find_all('p')\n",
    "#p_array[1].text"
   ]
  },
  {
   "cell_type": "markdown",
   "metadata": {},
   "source": [
    "### Helper Funcitons"
   ]
  },
  {
   "cell_type": "code",
   "execution_count": 17,
   "metadata": {},
   "outputs": [],
   "source": [
    "# get rid of strange line break \"\\xa0\"\n",
    "# open a file and overwrite it\n",
    "\n",
    "def fix(name):\n",
    "    \"\"\" Fix a single .txt file\n",
    "    \"\"\"\n",
    "    input = open(name, \"rt\")\n",
    "    text = input.read()\n",
    "    input.close()\n",
    "    text = text.decode(\"utf-8\")\n",
    "\n",
    "    # Show if we get bad hits\n",
    "    for c in text:\n",
    "        if c == u\"\\xa0\":\n",
    "            print(\"Ufff\")\n",
    "\n",
    "    text = text.replace(u\"\\xa0\", u\" \")\n",
    "    text = text.encode(\"utf-8\")\n",
    "\n",
    "    output = open(name, \"wt\")\n",
    "    output.write(text)\n",
    "    output.close()\n",
    "\n",
    "\n",
    "# Process all .txt files in the\n",
    "# current folder\n",
    "for f in os.listdir(os.getcwd()):\n",
    "    if f.endswith(\".txt\"):\n",
    "        fix(f)"
   ]
  },
  {
   "cell_type": "code",
   "execution_count": 18,
   "metadata": {},
   "outputs": [],
   "source": [
    "# obo.py\n",
    "# get rid of tags without Beautiful Soup\n",
    "\n",
    "def stripTags(pageContent):\n",
    "    pageContents = str(pageContent)\n",
    "\n",
    "    inside = 0\n",
    "    text = ''\n",
    "\n",
    "    for char in pageContents:\n",
    "        if char == '<':\n",
    "            inside = 1\n",
    "        elif (inside == 1 and char == '>'):\n",
    "            inside = 0\n",
    "        elif inside == 1:\n",
    "            continue\n",
    "        else:\n",
    "            text += char\n",
    "\n",
    "    return text"
   ]
  }
 ],
 "metadata": {
  "kernelspec": {
   "display_name": "Python 3",
   "language": "python",
   "name": "python3"
  },
  "language_info": {
   "codemirror_mode": {
    "name": "ipython",
    "version": 3
   },
   "file_extension": ".py",
   "mimetype": "text/x-python",
   "name": "python",
   "nbconvert_exporter": "python",
   "pygments_lexer": "ipython3",
   "version": "3.8.5"
  }
 },
 "nbformat": 4,
 "nbformat_minor": 4
}
