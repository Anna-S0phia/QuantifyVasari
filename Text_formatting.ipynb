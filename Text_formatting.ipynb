{
 "cells": [
  {
   "cell_type": "code",
   "execution_count": 1,
   "metadata": {},
   "outputs": [],
   "source": [
    "import os\n",
    "import nltk\n",
    "import math\n",
    "import matplotlib.pyplot as plt\n",
    "import numpy as np\n",
    "import pandas as pd\n",
    "%matplotlib inline"
   ]
  },
  {
   "cell_type": "code",
   "execution_count": 72,
   "metadata": {},
   "outputs": [],
   "source": [
    "datapath = './data/results/Vasari_letters_vite/'\n",
    "new_path_M = './data/Datasets/Stylometry/'\n",
    "new_path_D = './data/Datasets/Delta/'\n",
    "new_path_R = './data/Datasets/R_1568/'\n",
    "new_path_R0 = './data/Datasets/R_1550/'\n",
    "new_path_R2 = './data/Datasets/R_1568_2/'\n",
    "path_per_artist = './data/Datasets/file-per-artist-italian/'"
   ]
  },
  {
   "cell_type": "code",
   "execution_count": 28,
   "metadata": {},
   "outputs": [],
   "source": [
    "def isnan(x):\n",
    "    if x != x:\n",
    "        y = True\n",
    "    else:\n",
    "        y = False\n",
    "    return y"
   ]
  },
  {
   "cell_type": "code",
   "execution_count": 10,
   "metadata": {},
   "outputs": [],
   "source": [
    "#filename = 'data/results/Vasari_letters_csv/letters_2.csv'\n",
    "filename = 'data/results/Vasari_letters_csv/letters_4.csv'\n",
    "df = pd.read_csv(filename) # open csv\n",
    "#dataframe.to_csv(filename, index = False, header = True) # save as csv\n",
    "\n",
    "authors = set(list(df['author']))"
   ]
  },
  {
   "cell_type": "markdown",
   "metadata": {},
   "source": [
    "# Text formatting"
   ]
  },
  {
   "cell_type": "code",
   "execution_count": 39,
   "metadata": {},
   "outputs": [],
   "source": [
    "#df"
   ]
  },
  {
   "cell_type": "code",
   "execution_count": 48,
   "metadata": {},
   "outputs": [],
   "source": [
    "# make all letters from dataframe format 'author_text.txt'\n",
    "for i in range(len(df)):\n",
    "        \n",
    "     # get text, letter-number and create filename\n",
    "    text = df[\"Fonte\"][i] \n",
    "    number = str(df[\"Numero d'ordine\"][i]) \n",
    "    filename = new_path_M + df['author'][i] + '_' + number + '.txt'\n",
    "    \n",
    "     # write .txt file\n",
    "    output = open(filename, \"wt\")\n",
    "    output.write(text)\n",
    "    output.close()"
   ]
  },
  {
   "cell_type": "code",
   "execution_count": 49,
   "metadata": {},
   "outputs": [],
   "source": [
    "# make all biographies format 'unkownartist_1.txt'\n",
    "# for getting a Mendenhall graph for every biography\n",
    "\n",
    "import Delta_score as ds\n",
    "\n",
    "filedict = ds.get_filenames_per_author_into_dict(new_path_M)\n",
    "unkown_filelist = filedict['unkown']\n",
    "renamed = []\n",
    "for i,j in enumerate(unkown_filelist):\n",
    "    filename = str(i) + '_' + j.split('_')[1][:9] + '.txt'\n",
    "    renamed.append(filename)"
   ]
  },
  {
   "cell_type": "code",
   "execution_count": 50,
   "metadata": {},
   "outputs": [],
   "source": [
    "# open, take text, write new file, close\n",
    "# build iterator for all biographies\n",
    "index = 0\n",
    "for i in unkown_filelist:\n",
    "    # open file\n",
    "    as_input = open((new_path_M + i), 'r')\n",
    "    # take text\n",
    "    text = as_input.read()\n",
    "    as_input.close()\n",
    "    output = open(new_path_D + renamed[index], \"wt\")\n",
    "    output.write(text)\n",
    "    output.close()\n",
    "    #print(renamed[index])\n",
    "    index += 1"
   ]
  },
  {
   "cell_type": "code",
   "execution_count": 51,
   "metadata": {},
   "outputs": [],
   "source": [
    "# write .txt file per author\n",
    "import Delta_score as ds\n",
    "\n",
    "stringdict = ds.get_single_string_per_author_into_dict(new_path_M)\n",
    "authors = stringdict.keys()\n",
    "for author in authors:\n",
    "    text = stringdict[author]\n",
    "    filename = author + '.txt'\n",
    "    output = open(new_path_D + filename, \"wt\")\n",
    "    output.write(text)\n",
    "    output.close()"
   ]
  },
  {
   "cell_type": "markdown",
   "metadata": {},
   "source": [
    "# Make new textfile with 'xmilestone' for Rolling Stylometrie"
   ]
  },
  {
   "cell_type": "code",
   "execution_count": 71,
   "metadata": {},
   "outputs": [
    {
     "data": {
      "text/plain": [
       "['001_Cimabue',\n",
       " '002_Arnolfo di Lapo',\n",
       " '003_Nicola e Giovanni Pisani',\n",
       " '004_Andrea Tafi',\n",
       " '005_Gaddo Gaddi',\n",
       " '006_Margaritone',\n",
       " '007_Giotto',\n",
       " '008_Agostino et Agnolo',\n",
       " '009_Stefano e Ugolino',\n",
       " '010_Pietro Laurati',\n",
       " '011_Andrea Pisano',\n",
       " '012_Buonamico Buffalmacco',\n",
       " '013_Ambruogio Lorenzetti',\n",
       " '014_Pietro Cavallini',\n",
       " '015_Simone Sanese',\n",
       " '016_Taddeo Gaddi',\n",
       " '017_Andrea di Cione Orgagna',\n",
       " '018_Tommaso Fiorentino detto Giottino',\n",
       " '019_Giovanni da Ponte',\n",
       " '020_Agnolo Gaddi',\n",
       " '021_Berna Sanese',\n",
       " '022_Duccio',\n",
       " '023_Antonio Viniziano',\n",
       " '024_Iacopo di Casentino',\n",
       " '025_Spinello Aretino',\n",
       " '026_Gherardo Starnina',\n",
       " '027_Lippo',\n",
       " '028_Lorenzo Monaco degli Angeli',\n",
       " '029_Taddeo Bartoli',\n",
       " '030_Lorenzo di Bicci',\n",
       " '031_Proemio della seconda parte delle Vite',\n",
       " '032_Iacopo della Quercia',\n",
       " '033_Niccolò Aretino',\n",
       " '034_Dello',\n",
       " \"035_Nanni d'Antonio di Banco\",\n",
       " '036_Luca della Robbia',\n",
       " '037_Paulo Uccello',\n",
       " '038_Lorenzo Ghiberti',\n",
       " '039_Masolino',\n",
       " '040_Parri Spinelli',\n",
       " '041_Masaccio da San Giovanni di Valdarno',\n",
       " '042_Filippo Brunelleschi',\n",
       " '043_Donato',\n",
       " '044_Michelozzo Michelozzi',\n",
       " '045_Antonio Filarete e Simone',\n",
       " '046_Giuliano da Maiano',\n",
       " '047_Piero della Francesca',\n",
       " \"048_Fra' Giovanni da Fiesole dell'Ordine de' Frati Predicatori\",\n",
       " '049_Leon Batista Alberti',\n",
       " '050_Lazzaro Vasari',\n",
       " '051_Antonello da Messina',\n",
       " '052_Alesso Baldovinetti',\n",
       " '053_Vellano da Padova',\n",
       " \"054_Fra' Filippo Lippi\",\n",
       " '055_Paulo Romano e Maestro Mino e Chimenti Camicia',\n",
       " '056_Andrea dal Castagno di Mugello e Dominico Viniziano',\n",
       " '057_Gentile di Fabriano e Vittore Pisanello',\n",
       " '058_Pesello e Francesco Peselli',\n",
       " '059_Benozzo',\n",
       " '060_Francesco di Giorgio e Lorenzo Vecchietto',\n",
       " '061_Galasso Galassi',\n",
       " '062_Antonio Rossellino e Bernardo suo fratello',\n",
       " '063_Desiderio da Settignano',\n",
       " '064_Mino',\n",
       " '065_Lorenzo Costa',\n",
       " '066_Ercole Ferrarese',\n",
       " '067_Iacopo, Giovanni e Gentile Bellini',\n",
       " '068_Cosimo Rosselli',\n",
       " '069_Il Cecca',\n",
       " '070_Don Bartolomeo abbate di San Clemente',\n",
       " '071_Gherardo',\n",
       " '072_Domenico Ghirlandaio',\n",
       " '073_Antonio e Piero Pollaiuoli',\n",
       " '074_Sandro Botticello',\n",
       " '075_Benedetto da Maiano',\n",
       " '076_Andrea Verrocchio',\n",
       " '077_Andrea Mantegna',\n",
       " '078_Filippo Lippi',\n",
       " '079_Bernardino Pinturicchio',\n",
       " '080_Francesco Francia',\n",
       " '081_Pietro Perugino',\n",
       " '082_Vittore Scarpaccia et altri pittori viniziani',\n",
       " \"083_Iacopo detto l'Indaco\",\n",
       " '084_Luca Signorelli da Cortona',\n",
       " '085_Proemio della terza parte delle Vite',\n",
       " '086_Lionardo da Vinci',\n",
       " '087_Giorgione da Castel Franco',\n",
       " '088_Antonio da Correggio',\n",
       " '089_Piero di Cosimo',\n",
       " '090_Bramante da Urbino',\n",
       " \"091_Fra' Bartolomeo di San Marco\",\n",
       " '092_Mariotto Albertinelli',\n",
       " '093_Raffaellino del Garbo',\n",
       " '094_Torrigiano',\n",
       " '095_Giuliano et Antonio da San Gallo',\n",
       " \"096_Raffaello d'Urbino\",\n",
       " '097_Guglielmo da Marcilla',\n",
       " '098_Cronaca',\n",
       " '099_Domenico Puligo',\n",
       " '100_Andrea da Fiesole e altri fiesolani',\n",
       " '101_Vincenzio da San Gimignano e Timoteo da Urbino',\n",
       " '102_Andrea dal Monte Sansovino',\n",
       " '103_Benedetto da Rovezzano',\n",
       " '104_Baccio da Monte Lupo e Raffaello suo figliolo',\n",
       " '105_Lorenzo di Credi',\n",
       " '106_Lorenzetto e Boccaccino',\n",
       " '107_Baldassarre Peruzzi',\n",
       " '108_Giovan Francesco detto il Fattore e Pellegrino da Modana',\n",
       " '109_Andrea del Sarto',\n",
       " \"110_Madonna Properzia de' Rossi\",\n",
       " '111_Alfonso Lombardi, Michelagnolo da Siena e Girolamo da Santa Croce e Dosso e Battista',\n",
       " '112_Giovanni Antonio Licinio da Pordenone e altri pittori del Friuli',\n",
       " '113_Giovanni Antonio Sogliani',\n",
       " '114_Girolamo da Trevigi',\n",
       " '115_Pulidoro da Caravaggio e Maturino Fiorentino',\n",
       " '116_Il Rosso',\n",
       " '117_Bartolomeo da Bagnacavallo et altri pittori romagnuoli',\n",
       " '118_Francia Bigio',\n",
       " '119_Morto da Feltro e Andrea di Cosimo Feltrini',\n",
       " '120_Marco Calavrese',\n",
       " '121_Francesco Mazzuoli',\n",
       " '122_Iacopo Palma e Lorenzo Lotto',\n",
       " \"123_Fra' Iocondo e Liberale e altri veronesi\",\n",
       " '124_Francesco Monsignori',\n",
       " '125_Falconetto',\n",
       " '126_Francesco e Girolamo dai Libri',\n",
       " '127_Francesco Granacci',\n",
       " \"128_Baccio d'Agnolo\",\n",
       " '129_Valerio Vicentino, Giovanni da Castel Bolognese, Matteo del Nasaro e altri eccellenti intagliatori di camei e gioie',\n",
       " '130_Marcantonio Bolognese e altri intagliatori di stampe',\n",
       " '131_Antonio da San Gallo',\n",
       " '132_Giulio Romano',\n",
       " '133_Sebastian Viniziano frate del Piombo',\n",
       " '134_Perino del Vaga',\n",
       " '135_Domenico Beccafumi e Maestro di Getti',\n",
       " \"136_Giovann'Antonio Lappoli\",\n",
       " '137_Niccolò Soggi',\n",
       " '138_Niccolò detto il Tribolo',\n",
       " '139_Pierino da Vinci',\n",
       " '140_Baccio Bandinelli',\n",
       " '141_Giuliano Bugiardini',\n",
       " '142_Cristofano Gherardi detto Doceno',\n",
       " '143_Iacopo da Puntormo',\n",
       " '144_Simone Mosca',\n",
       " '145_Girolamo e Bartolomeo Genga e Giovambattista San Marino genero di Girolamo',\n",
       " '146_Michele San Michele',\n",
       " '147_Giovannantonio detto il Soddoma da Verzelli',\n",
       " '148_Bastiano detto Aristotile da San Gallo',\n",
       " '149_Benvenuto Garofalo e Girolamo da Carpi e altri lombardi',\n",
       " '150_Ridolfo, Davit e Benedetto Grillandai',\n",
       " '151_Giovanni da Udine',\n",
       " '152_Battista Franco',\n",
       " '153_Giovanfrancesco Rustichi',\n",
       " \"154_Fra' Giovann'Agnolo Montorsoli\",\n",
       " \"155_Francesco detto de' Salviati\",\n",
       " '156_Daniello Ricciarelli da Volterra',\n",
       " '157_Taddeo Zucchero',\n",
       " '158_Michelagnolo Buonarruoti',\n",
       " '159_Francesco Primaticcio bolognese abate di San Martino',\n",
       " '160_Tiziano da Cador',\n",
       " '161_Iacopo Sansavino',\n",
       " '162_Lione Lioni e altri scultori et architetti',\n",
       " '163_Don Giulio Clovio',\n",
       " '164_Diversi artefici italiani',\n",
       " '165_Diversi artefici fiamminghi',\n",
       " '166_Accademici del Disegno e il Bronzino',\n",
       " '167_Giorgio Vasari']"
      ]
     },
     "execution_count": 71,
     "metadata": {},
     "output_type": "execute_result"
    }
   ],
   "source": [
    "list_of_files = os.listdir(path_per_artist)\n",
    "list_of_files = sorted(list_of_files)\n",
    "list_of_files"
   ]
  },
  {
   "cell_type": "code",
   "execution_count": 67,
   "metadata": {},
   "outputs": [],
   "source": [
    "storage = ''\n",
    "marker = 'xmilestone'\n",
    "\n",
    "for i in range(len(list_of_files)):\n",
    "    # open file\n",
    "    as_input = open((path_per_artist + list_of_files[i]), 'r')\n",
    "    # take text\n",
    "    text = as_input.read()\n",
    "    as_input.close()\n",
    "    storage += text + '\\n' + marker + '\\n'\n",
    "    \n",
    "output = open('Vite_1568_xmilestone', \"wt\")\n",
    "output.write(storage)\n",
    "output.close()"
   ]
  },
  {
   "cell_type": "markdown",
   "metadata": {},
   "source": [
    "# SAVE and OPEN csv to dataframe"
   ]
  },
  {
   "cell_type": "code",
   "execution_count": 36,
   "metadata": {},
   "outputs": [],
   "source": [
    "data_path = 'data/results/Vasari_letters_csv/'"
   ]
  },
  {
   "cell_type": "code",
   "execution_count": 37,
   "metadata": {},
   "outputs": [],
   "source": [
    "df.to_csv(data_path + 'letters_4.csv', index = False, header=True)\n",
    "#df_labeled = pd.read_csv(data_path + 'all_letters_labeled_author.csv')\n",
    "#df"
   ]
  },
  {
   "cell_type": "code",
   "execution_count": null,
   "metadata": {},
   "outputs": [],
   "source": []
  }
 ],
 "metadata": {
  "kernelspec": {
   "display_name": "Python 3",
   "language": "python",
   "name": "python3"
  },
  "language_info": {
   "codemirror_mode": {
    "name": "ipython",
    "version": 3
   },
   "file_extension": ".py",
   "mimetype": "text/x-python",
   "name": "python",
   "nbconvert_exporter": "python",
   "pygments_lexer": "ipython3",
   "version": "3.8.5"
  }
 },
 "nbformat": 4,
 "nbformat_minor": 4
}
