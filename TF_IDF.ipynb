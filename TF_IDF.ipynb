{
 "cells": [
  {
   "cell_type": "markdown",
   "metadata": {},
   "source": [
    "## The Programming Historian\n",
    "\n",
    "# Analyzing Documents with TF-IDF\n",
    "\n",
    "#### Matthew J. Lavin, \"Analyzing Documents with TF-IDF,\" The Programming Historian 8 (2019), https://doi.org/10.46430/phen0082."
   ]
  },
  {
   "cell_type": "code",
   "execution_count": 1,
   "metadata": {},
   "outputs": [],
   "source": [
    "from pathlib import Path\n",
    "import os\n",
    "import pandas as pd\n",
    "import numpy as np"
   ]
  },
  {
   "cell_type": "code",
   "execution_count": 64,
   "metadata": {},
   "outputs": [
    {
     "name": "stdout",
     "output_type": "stream",
     "text": [
      "8\n"
     ]
    }
   ],
   "source": [
    "# get all filenames\n",
    "all_txt_files =[]\n",
    "for file in Path('data/TF-IDF').rglob(\"*.txt\"):\n",
    "     all_txt_files.append(file.parent / file.name)\n",
    "# counts the length of the list\n",
    "n_files = len(all_txt_files)\n",
    "print(n_files)"
   ]
  },
  {
   "cell_type": "code",
   "execution_count": 65,
   "metadata": {},
   "outputs": [
    {
     "data": {
      "text/plain": [
       "PosixPath('data/TF-IDF/Bartoli.txt')"
      ]
     },
     "execution_count": 65,
     "metadata": {},
     "output_type": "execute_result"
    }
   ],
   "source": [
    "# sort the filenames\n",
    "all_txt_files.sort()\n",
    "all_txt_files[0]"
   ]
  },
  {
   "cell_type": "code",
   "execution_count": 66,
   "metadata": {},
   "outputs": [],
   "source": [
    "# make a string containing all documents\n",
    "all_docs = []\n",
    "for txt_file in all_txt_files:\n",
    "    with open(txt_file) as f:\n",
    "        txt_file_as_string = f.read()\n",
    "    all_docs.append(txt_file_as_string)"
   ]
  },
  {
   "cell_type": "code",
   "execution_count": 67,
   "metadata": {},
   "outputs": [],
   "source": [
    "#import the TfidfVectorizer from Scikit-Learn.\n",
    "from sklearn.feature_extraction.text import TfidfVectorizer\n",
    "\n",
    "vectorizer = TfidfVectorizer(max_df=.65, min_df=1, stop_words=None, use_idf=True, norm=None)\n",
    "transformed_documents = vectorizer.fit_transform(all_docs)"
   ]
  },
  {
   "cell_type": "code",
   "execution_count": 68,
   "metadata": {},
   "outputs": [
    {
     "data": {
      "text/plain": [
       "8"
      ]
     },
     "execution_count": 68,
     "metadata": {},
     "output_type": "execute_result"
    }
   ],
   "source": [
    "transformed_documents_as_array = transformed_documents.toarray()\n",
    "len(transformed_documents_as_array)"
   ]
  },
  {
   "cell_type": "code",
   "execution_count": 69,
   "metadata": {},
   "outputs": [],
   "source": [
    "# make output folder if it doesn't already exist\n",
    "Path(\"./authors_tf_idf_output\").mkdir(parents=True, exist_ok=True)\n",
    "\n",
    "# construct a list of output file paths using the previous list of text files the relative path for tf_idf_output\n",
    "output_filenames = [str(txt_file).replace(\".txt\", \".csv\").replace('data/TF-IDF/', \"authors_tf_idf_output/\") for txt_file in all_txt_files]\n",
    "\n",
    "# loop each item in transformed_documents_as_array\n",
    "for counter, doc in enumerate(transformed_documents_as_array):\n",
    "    # make dataframe\n",
    "    tf_idf_tuples = list(zip(vectorizer.get_feature_names(), doc))\n",
    "    one_doc_as_df = pd.DataFrame.from_records(tf_idf_tuples, columns=['term', 'score']).sort_values(by='score', ascending=False).reset_index(drop=True)\n",
    "\n",
    "    # output to a csv \n",
    "    one_doc_as_df.to_csv(output_filenames[counter])"
   ]
  },
  {
   "cell_type": "markdown",
   "metadata": {},
   "source": [
    "### open authors-csv as dataframe to look at"
   ]
  },
  {
   "cell_type": "code",
   "execution_count": 70,
   "metadata": {},
   "outputs": [],
   "source": [
    "#os.listdir('./authors_tf_idf_output')"
   ]
  },
  {
   "cell_type": "code",
   "execution_count": 72,
   "metadata": {},
   "outputs": [
    {
     "name": "stdout",
     "output_type": "stream",
     "text": [
      "Sanga\n",
      "VasariC\n",
      "Giambullari\n",
      "Ghiberti\n",
      "Minerbetti\n",
      "Vasari\n",
      "Borghini\n",
      "Bartoli\n"
     ]
    }
   ],
   "source": [
    "# ./tf_idf_output\n",
    "filenames = os.listdir('./authors_tf_idf_output')\n",
    "for i in filenames:\n",
    "    author = i.strip('.csv')\n",
    "    #df = pd.read_csv('./authors_tf_idf_output/'+ (i))\n",
    "    #df_tf_idf[author ] = df['term'] #+ '_term'\n",
    "    #df_tf_idf[author + '_score'] = df['score']\n",
    "    print(author)"
   ]
  },
  {
   "cell_type": "code",
   "execution_count": 73,
   "metadata": {},
   "outputs": [],
   "source": [
    "df_tf_idf = pd.DataFrame()\n",
    "\n",
    "for i in filenames:\n",
    "    author = i.strip('.csv')\n",
    "    df = pd.read_csv('./authors_tf_idf_output/'+ (i))\n",
    "    df_tf_idf[author] = df['term'] \n",
    "    #df_tf_idf[author + '_score'] = df['score']"
   ]
  },
  {
   "cell_type": "code",
   "execution_count": 74,
   "metadata": {},
   "outputs": [
    {
     "data": {
      "text/html": [
       "<div>\n",
       "<style scoped>\n",
       "    .dataframe tbody tr th:only-of-type {\n",
       "        vertical-align: middle;\n",
       "    }\n",
       "\n",
       "    .dataframe tbody tr th {\n",
       "        vertical-align: top;\n",
       "    }\n",
       "\n",
       "    .dataframe thead th {\n",
       "        text-align: right;\n",
       "    }\n",
       "</style>\n",
       "<table border=\"1\" class=\"dataframe\">\n",
       "  <thead>\n",
       "    <tr style=\"text-align: right;\">\n",
       "      <th></th>\n",
       "      <th>Sanga</th>\n",
       "      <th>VasariC</th>\n",
       "      <th>Giambullari</th>\n",
       "      <th>Ghiberti</th>\n",
       "      <th>Minerbetti</th>\n",
       "      <th>Vasari</th>\n",
       "      <th>Borghini</th>\n",
       "      <th>Bartoli</th>\n",
       "    </tr>\n",
       "  </thead>\n",
       "  <tbody>\n",
       "    <tr>\n",
       "      <th>0</th>\n",
       "      <td>guglielmo</td>\n",
       "      <td>intanto</td>\n",
       "      <td>giambullari</td>\n",
       "      <td>quäle</td>\n",
       "      <td>el</td>\n",
       "      <td>tenpo</td>\n",
       "      <td>vincenzo</td>\n",
       "      <td>bartoli</td>\n",
       "    </tr>\n",
       "    <tr>\n",
       "      <th>1</th>\n",
       "      <td>sangalletti</td>\n",
       "      <td>senpre</td>\n",
       "      <td>pf</td>\n",
       "      <td>uiso</td>\n",
       "      <td>vescovo</td>\n",
       "      <td>intanto</td>\n",
       "      <td>anche</td>\n",
       "      <td>cosimo</td>\n",
       "    </tr>\n",
       "    <tr>\n",
       "      <th>2</th>\n",
       "      <td>osservandissimo</td>\n",
       "      <td>spedalingo</td>\n",
       "      <td>pierfrancesco</td>\n",
       "      <td>el</td>\n",
       "      <td>dilettissimo</td>\n",
       "      <td>senpre</td>\n",
       "      <td>vorrei</td>\n",
       "      <td>venezia</td>\n",
       "    </tr>\n",
       "    <tr>\n",
       "      <th>3</th>\n",
       "      <td>no</td>\n",
       "      <td>tenpo</td>\n",
       "      <td>1549</td>\n",
       "      <td>addunque</td>\n",
       "      <td>arezo</td>\n",
       "      <td>spedalingo</td>\n",
       "      <td>borghini</td>\n",
       "      <td>osservandissimo</td>\n",
       "    </tr>\n",
       "    <tr>\n",
       "      <th>4</th>\n",
       "      <td>magnifica</td>\n",
       "      <td>disegnio</td>\n",
       "      <td>onoratissimo</td>\n",
       "      <td>uisa</td>\n",
       "      <td>bindo</td>\n",
       "      <td>auto</td>\n",
       "      <td>vedete</td>\n",
       "      <td>cavalier</td>\n",
       "    </tr>\n",
       "    <tr>\n",
       "      <th>5</th>\n",
       "      <td>bascio</td>\n",
       "      <td>reverendo</td>\n",
       "      <td>vivete</td>\n",
       "      <td>superficie</td>\n",
       "      <td>altar</td>\n",
       "      <td>disegnio</td>\n",
       "      <td>batista</td>\n",
       "      <td>danese</td>\n",
       "    </tr>\n",
       "    <tr>\n",
       "      <th>6</th>\n",
       "      <td>affettuosissimo</td>\n",
       "      <td>bisognio</td>\n",
       "      <td>priego</td>\n",
       "      <td>piü</td>\n",
       "      <td>altoviti</td>\n",
       "      <td>reverendo</td>\n",
       "      <td>concetto</td>\n",
       "      <td>feliciti</td>\n",
       "    </tr>\n",
       "    <tr>\n",
       "      <th>7</th>\n",
       "      <td>dicie</td>\n",
       "      <td>palazzo</td>\n",
       "      <td>onorandissimo</td>\n",
       "      <td>sarä</td>\n",
       "      <td>vecchio</td>\n",
       "      <td>palazzo</td>\n",
       "      <td>cioè</td>\n",
       "      <td>avuto</td>\n",
       "    </tr>\n",
       "    <tr>\n",
       "      <th>8</th>\n",
       "      <td>bosco</td>\n",
       "      <td>auto</td>\n",
       "      <td>annotazione</td>\n",
       "      <td>spetie</td>\n",
       "      <td>luigi</td>\n",
       "      <td>el</td>\n",
       "      <td>avuto</td>\n",
       "      <td>pennelli</td>\n",
       "    </tr>\n",
       "    <tr>\n",
       "      <th>9</th>\n",
       "      <td>bisognia</td>\n",
       "      <td>core</td>\n",
       "      <td>tolomei</td>\n",
       "      <td>imperö</td>\n",
       "      <td>1553</td>\n",
       "      <td>nocenti</td>\n",
       "      <td>certi</td>\n",
       "      <td>accompagnerei</td>\n",
       "    </tr>\n",
       "    <tr>\n",
       "      <th>10</th>\n",
       "      <td>ocasione</td>\n",
       "      <td>reverendissimo</td>\n",
       "      <td>istampa</td>\n",
       "      <td>cioe</td>\n",
       "      <td>1552</td>\n",
       "      <td>bisognio</td>\n",
       "      <td>dite</td>\n",
       "      <td>piccina</td>\n",
       "    </tr>\n",
       "    <tr>\n",
       "      <th>11</th>\n",
       "      <td>dite</td>\n",
       "      <td>doppo</td>\n",
       "      <td>adventura</td>\n",
       "      <td>uedere</td>\n",
       "      <td>intanto</td>\n",
       "      <td>caccini</td>\n",
       "      <td>cavalier</td>\n",
       "      <td>serenità</td>\n",
       "    </tr>\n",
       "    <tr>\n",
       "      <th>12</th>\n",
       "      <td>negozio</td>\n",
       "      <td>sacra</td>\n",
       "      <td>stampa</td>\n",
       "      <td>comprende</td>\n",
       "      <td>1551</td>\n",
       "      <td>eccellenzia</td>\n",
       "      <td>excellentissimo</td>\n",
       "      <td>padroni</td>\n",
       "    </tr>\n",
       "    <tr>\n",
       "      <th>13</th>\n",
       "      <td>averà</td>\n",
       "      <td>unico</td>\n",
       "      <td>cerimonie</td>\n",
       "      <td>forma</td>\n",
       "      <td>nepote</td>\n",
       "      <td>anche</td>\n",
       "      <td>osservandissimo</td>\n",
       "      <td>raccomandano</td>\n",
       "    </tr>\n",
       "    <tr>\n",
       "      <th>14</th>\n",
       "      <td>serafino</td>\n",
       "      <td>caccini</td>\n",
       "      <td>respetto</td>\n",
       "      <td>perö</td>\n",
       "      <td>santissimo</td>\n",
       "      <td>batista</td>\n",
       "      <td>certe</td>\n",
       "      <td>soldi</td>\n",
       "    </tr>\n",
       "    <tr>\n",
       "      <th>15</th>\n",
       "      <td>affezionatissimo</td>\n",
       "      <td>proveditor</td>\n",
       "      <td>epistola</td>\n",
       "      <td>occhio</td>\n",
       "      <td>operai</td>\n",
       "      <td>michelagniolo</td>\n",
       "      <td>istorie</td>\n",
       "      <td>cioè</td>\n",
       "    </tr>\n",
       "    <tr>\n",
       "      <th>16</th>\n",
       "      <td>ongni</td>\n",
       "      <td>nocenti</td>\n",
       "      <td>anibale</td>\n",
       "      <td>remotione</td>\n",
       "      <td>sete</td>\n",
       "      <td>doppo</td>\n",
       "      <td>el</td>\n",
       "      <td>curzio</td>\n",
       "    </tr>\n",
       "    <tr>\n",
       "      <th>17</th>\n",
       "      <td>vole</td>\n",
       "      <td>scala</td>\n",
       "      <td>intaglio</td>\n",
       "      <td>linea</td>\n",
       "      <td>cavalier</td>\n",
       "      <td>signorie</td>\n",
       "      <td>potrebbe</td>\n",
       "      <td>barducci</td>\n",
       "    </tr>\n",
       "    <tr>\n",
       "      <th>18</th>\n",
       "      <td>rinuccini</td>\n",
       "      <td>pietre</td>\n",
       "      <td>agevolmente</td>\n",
       "      <td>centro</td>\n",
       "      <td>ambizion</td>\n",
       "      <td>reverendissimo</td>\n",
       "      <td>benché</td>\n",
       "      <td>carissima</td>\n",
       "    </tr>\n",
       "    <tr>\n",
       "      <th>19</th>\n",
       "      <td>mdlxvii</td>\n",
       "      <td>modello</td>\n",
       "      <td>pensava</td>\n",
       "      <td>perche</td>\n",
       "      <td>monastero</td>\n",
       "      <td>stanze</td>\n",
       "      <td>invenzione</td>\n",
       "      <td>raccomandazioni</td>\n",
       "    </tr>\n",
       "  </tbody>\n",
       "</table>\n",
       "</div>"
      ],
      "text/plain": [
       "               Sanga         VasariC    Giambullari    Ghiberti    Minerbetti  \\\n",
       "0          guglielmo         intanto    giambullari       quäle            el   \n",
       "1        sangalletti          senpre             pf        uiso       vescovo   \n",
       "2    osservandissimo      spedalingo  pierfrancesco          el  dilettissimo   \n",
       "3                 no           tenpo           1549    addunque         arezo   \n",
       "4          magnifica        disegnio   onoratissimo        uisa         bindo   \n",
       "5             bascio       reverendo         vivete  superficie         altar   \n",
       "6    affettuosissimo        bisognio         priego         piü      altoviti   \n",
       "7              dicie         palazzo  onorandissimo        sarä       vecchio   \n",
       "8              bosco            auto    annotazione      spetie         luigi   \n",
       "9           bisognia            core        tolomei      imperö          1553   \n",
       "10          ocasione  reverendissimo        istampa        cioe          1552   \n",
       "11              dite           doppo      adventura      uedere       intanto   \n",
       "12           negozio           sacra         stampa   comprende          1551   \n",
       "13             averà           unico      cerimonie       forma        nepote   \n",
       "14          serafino         caccini       respetto        perö    santissimo   \n",
       "15  affezionatissimo      proveditor       epistola      occhio        operai   \n",
       "16             ongni         nocenti        anibale   remotione          sete   \n",
       "17              vole           scala       intaglio       linea      cavalier   \n",
       "18         rinuccini          pietre    agevolmente      centro      ambizion   \n",
       "19           mdlxvii         modello        pensava      perche     monastero   \n",
       "\n",
       "            Vasari         Borghini          Bartoli  \n",
       "0            tenpo         vincenzo          bartoli  \n",
       "1          intanto            anche           cosimo  \n",
       "2           senpre           vorrei          venezia  \n",
       "3       spedalingo         borghini  osservandissimo  \n",
       "4             auto           vedete         cavalier  \n",
       "5         disegnio          batista           danese  \n",
       "6        reverendo         concetto         feliciti  \n",
       "7          palazzo             cioè            avuto  \n",
       "8               el            avuto         pennelli  \n",
       "9          nocenti            certi    accompagnerei  \n",
       "10        bisognio             dite          piccina  \n",
       "11         caccini         cavalier         serenità  \n",
       "12     eccellenzia  excellentissimo          padroni  \n",
       "13           anche  osservandissimo     raccomandano  \n",
       "14         batista            certe            soldi  \n",
       "15   michelagniolo          istorie             cioè  \n",
       "16           doppo               el           curzio  \n",
       "17        signorie         potrebbe         barducci  \n",
       "18  reverendissimo           benché        carissima  \n",
       "19          stanze       invenzione  raccomandazioni  "
      ]
     },
     "execution_count": 74,
     "metadata": {},
     "output_type": "execute_result"
    }
   ],
   "source": [
    "df_tf_idf[:20]"
   ]
  },
  {
   "cell_type": "code",
   "execution_count": 53,
   "metadata": {},
   "outputs": [
    {
     "data": {
      "text/plain": [
       "Index(['Sanga', 'VasariC', 'Giambullari', 'Ghiberti', 'Minerbetti', 'Vasari',\n",
       "       'Borghini', 'Bartoli'],\n",
       "      dtype='object')"
      ]
     },
     "execution_count": 53,
     "metadata": {},
     "output_type": "execute_result"
    }
   ],
   "source": [
    "df_tf_idf.columns"
   ]
  },
  {
   "cell_type": "markdown",
   "metadata": {},
   "source": [
    "## check the top 50 overlapping terms "
   ]
  },
  {
   "cell_type": "code",
   "execution_count": 81,
   "metadata": {},
   "outputs": [
    {
     "name": "stdout",
     "output_type": "stream",
     "text": [
      "el\n",
      "anche\n",
      "batista\n",
      "cavalier\n",
      "voluto\n",
      "['el', 'anche', 'batista', 'cavalier', 'voluto'] 5\n"
     ]
    }
   ],
   "source": [
    "#df_tf_idf[:50]['Vcopy']\n",
    "store = []\n",
    "for i in df_tf_idf[:50]['Vasari']:\n",
    "    for j in df_tf_idf[:50]['Borghini']:\n",
    "        if i == j:\n",
    "            store.append(i)\n",
    "            print(i)\n",
    "print(store, len(store))"
   ]
  },
  {
   "cell_type": "markdown",
   "metadata": {},
   "source": [
    "### check the rank of \"disegno\""
   ]
  },
  {
   "cell_type": "code",
   "execution_count": 78,
   "metadata": {},
   "outputs": [
    {
     "name": "stdout",
     "output_type": "stream",
     "text": [
      "Vasari's disegnio has index: 5\n",
      "Vasari_C's disegnio has index: 4\n",
      "Giambullari's disegnio has index: 22685\n",
      "Bartoli's disegnio has index: 2657\n",
      "Borghini's disegnio has index: 24023\n",
      "Ghiberti's disegnio has index: 19488\n",
      "Minerbetti's disegnio has index: 23982\n",
      "Sanga's disegnio has index: 62\n"
     ]
    }
   ],
   "source": [
    "#words = \"obligatissimo, reverendissimo, disegno, reverendo, bisognio\".split(',')\n",
    "#df_compare = pd.DataFrame()\n",
    "\n",
    "for i, j in enumerate(df_tf_idf['Vasari']):\n",
    "    if j.startswith('disegnio'):\n",
    "        print('Vasari\\'s ' + j + ' has index: ' + str(i) )\n",
    "        \n",
    "for i, j in enumerate(df_tf_idf['VasariC']):\n",
    "    if j.startswith('disegnio'):\n",
    "        print('Vasari_C\\'s ' + j + ' has index: ' + str(i) )\n",
    "        \n",
    "for i, j in enumerate(df_tf_idf['Giambullari']):\n",
    "    if j.startswith('disegnio'):\n",
    "        print('Giambullari\\'s ' + j + ' has index: ' + str(i) )\n",
    "        \n",
    "for i, j in enumerate(df_tf_idf['Bartoli']):\n",
    "    if j.startswith('disegnio'):\n",
    "        print('Bartoli\\'s ' + j + ' has index: ' + str(i) )\n",
    "\n",
    "for i, j in enumerate(df_tf_idf['Borghini']):\n",
    "    if j.startswith('disegnio'):\n",
    "        print('Borghini\\'s ' + j + ' has index: ' + str(i) )\n",
    "        \n",
    "for i, j in enumerate(df_tf_idf['Ghiberti']):\n",
    "    if j.startswith('disegnio'):\n",
    "        print('Ghiberti\\'s ' + j + ' has index: ' + str(i) )\n",
    "    \n",
    "for i, j in enumerate(df_tf_idf['Minerbetti']):\n",
    "    if j.startswith('disegnio'):\n",
    "        print('Minerbetti\\'s ' + j + ' has index: ' + str(i) )\n",
    "        \n",
    "for i, j in enumerate(df_tf_idf['Sanga']):\n",
    "    if j.startswith('disegnio'):\n",
    "        print('Sanga\\'s ' + j + ' has index: ' + str(i) )"
   ]
  },
  {
   "cell_type": "markdown",
   "metadata": {},
   "source": [
    "- Vasari's disegnio has index: 5\n",
    "- Vasari_C's disegnio has index: 4\n",
    "- Giambullari's disegnio has index: 22685\n",
    "- Bartoli's disegnio has index: 2657\n",
    "- Borghini's disegnio has index: 24023\n",
    "- Ghiberti's disegnio has index: 19488\n",
    "- Minerbetti's disegnio has index: 23982\n",
    "- Sanga's disegnio has index: 62"
   ]
  },
  {
   "cell_type": "code",
   "execution_count": 42,
   "metadata": {},
   "outputs": [
    {
     "data": {
      "text/plain": [
       "0               tenpo\n",
       "1                auto\n",
       "2              senpre\n",
       "3            disegnio\n",
       "4                  el\n",
       "5           reverendo\n",
       "6             palazzo\n",
       "7            bisognio\n",
       "8               anche\n",
       "9             batista\n",
       "10            nocenti\n",
       "11            caccini\n",
       "12             stanze\n",
       "13      michelagniolo\n",
       "14            lorenzo\n",
       "15     reverendissimo\n",
       "16             pietre\n",
       "17           signorie\n",
       "18             pietro\n",
       "19            fabrica\n",
       "20               vole\n",
       "21              unico\n",
       "22           lionardo\n",
       "23      obligatissimo\n",
       "24            davitte\n",
       "25             figure\n",
       "26              scala\n",
       "27                man\n",
       "28           bisognia\n",
       "29           qualcosa\n",
       "30                vol\n",
       "31              iddio\n",
       "32             inperò\n",
       "33             obligo\n",
       "34                 gl\n",
       "35            modello\n",
       "36              messo\n",
       "37              marmo\n",
       "38         proveditor\n",
       "39              dirli\n",
       "40              saria\n",
       "41              palco\n",
       "42            stamani\n",
       "43         dessiderio\n",
       "44             altare\n",
       "45               aqua\n",
       "46             poggio\n",
       "47    observandissimo\n",
       "48                 ed\n",
       "49                coi\n",
       "Name: Vasari, dtype: object"
      ]
     },
     "execution_count": 42,
     "metadata": {},
     "output_type": "execute_result"
    }
   ],
   "source": [
    "df_tf_idf['Vasari'][:50]"
   ]
  },
  {
   "cell_type": "markdown",
   "metadata": {},
   "source": [
    "# Save and open csv as dataframe"
   ]
  },
  {
   "cell_type": "code",
   "execution_count": 79,
   "metadata": {},
   "outputs": [],
   "source": [
    "filename = 'author_tf_idf.csv'\n",
    "df_tf_idf.to_csv(filename, index = False, header=True)\n",
    "#cosine_distances = pd.read_csv(filename)"
   ]
  },
  {
   "cell_type": "code",
   "execution_count": null,
   "metadata": {},
   "outputs": [],
   "source": []
  }
 ],
 "metadata": {
  "kernelspec": {
   "display_name": "Python 3",
   "language": "python",
   "name": "python3"
  },
  "language_info": {
   "codemirror_mode": {
    "name": "ipython",
    "version": 3
   },
   "file_extension": ".py",
   "mimetype": "text/x-python",
   "name": "python",
   "nbconvert_exporter": "python",
   "pygments_lexer": "ipython3",
   "version": "3.8.5"
  }
 },
 "nbformat": 4,
 "nbformat_minor": 4
}
