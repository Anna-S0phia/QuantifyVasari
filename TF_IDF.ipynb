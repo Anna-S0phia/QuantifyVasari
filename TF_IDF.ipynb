{
 "cells": [
  {
   "cell_type": "markdown",
   "metadata": {},
   "source": [
    "## The Programming Historian\n",
    "\n",
    "# Analyzing Documents with TF-IDF\n",
    "\n",
    "#### Matthew J. Lavin, \"Analyzing Documents with TF-IDF,\" The Programming Historian 8 (2019), https://doi.org/10.46430/phen0082."
   ]
  },
  {
   "cell_type": "code",
   "execution_count": 21,
   "metadata": {},
   "outputs": [],
   "source": [
    "from pathlib import Path\n",
    "import os\n",
    "import pandas as pd\n"
   ]
  },
  {
   "cell_type": "code",
   "execution_count": 22,
   "metadata": {},
   "outputs": [
    {
     "name": "stdout",
     "output_type": "stream",
     "text": [
      "5\n"
     ]
    }
   ],
   "source": [
    "# get all the filenames\n",
    "all_txt_files =[]\n",
    "for file in Path('data/results/Dante_authors').rglob(\"*.txt\"):\n",
    "     all_txt_files.append(file.parent / file.name)\n",
    "# counts the length of the list\n",
    "n_files = len(all_txt_files)\n",
    "print(n_files)"
   ]
  },
  {
   "cell_type": "code",
   "execution_count": 23,
   "metadata": {},
   "outputs": [
    {
     "data": {
      "text/plain": [
       "PosixPath('data/results/Dante_authors/Bartoli.txt')"
      ]
     },
     "execution_count": 23,
     "metadata": {},
     "output_type": "execute_result"
    }
   ],
   "source": [
    "# sort the filenames\n",
    "all_txt_files.sort()\n",
    "all_txt_files[0]"
   ]
  },
  {
   "cell_type": "code",
   "execution_count": 24,
   "metadata": {},
   "outputs": [],
   "source": [
    "# make a string containing all documents\n",
    "all_docs = []\n",
    "for txt_file in all_txt_files:\n",
    "    with open(txt_file) as f:\n",
    "        txt_file_as_string = f.read()\n",
    "    all_docs.append(txt_file_as_string)"
   ]
  },
  {
   "cell_type": "code",
   "execution_count": 25,
   "metadata": {},
   "outputs": [],
   "source": [
    "#import the TfidfVectorizer from Scikit-Learn.\n",
    "from sklearn.feature_extraction.text import TfidfVectorizer\n",
    "\n",
    "vectorizer = TfidfVectorizer(max_df=.7, min_df=1, stop_words=None, use_idf=True, norm=None)\n",
    "transformed_documents = vectorizer.fit_transform(all_docs)"
   ]
  },
  {
   "cell_type": "code",
   "execution_count": 26,
   "metadata": {},
   "outputs": [
    {
     "data": {
      "text/plain": [
       "5"
      ]
     },
     "execution_count": 26,
     "metadata": {},
     "output_type": "execute_result"
    }
   ],
   "source": [
    "transformed_documents_as_array = transformed_documents.toarray()\n",
    "# use this line of code to verify that the numpy array represents the same number of documents that we have in the file list\n",
    "len(transformed_documents_as_array)"
   ]
  },
  {
   "cell_type": "code",
   "execution_count": 27,
   "metadata": {},
   "outputs": [],
   "source": [
    "# make the output folder if it doesn't already exist\n",
    "Path(\"./authors_tf_idf_output\").mkdir(parents=True, exist_ok=True)\n",
    "\n",
    "# construct a list of output file paths using the previous list of text files the relative path for tf_idf_output\n",
    "output_filenames = [str(txt_file).replace(\".txt\", \".csv\").replace('data/results/Dante_authors/', \"authors_tf_idf_output/\") for txt_file in all_txt_files]\n",
    "\n",
    "# loop each item in transformed_documents_as_array, using enumerate to keep track of the current position\n",
    "for counter, doc in enumerate(transformed_documents_as_array):\n",
    "    # construct a dataframe\n",
    "    tf_idf_tuples = list(zip(vectorizer.get_feature_names(), doc))\n",
    "    one_doc_as_df = pd.DataFrame.from_records(tf_idf_tuples, columns=['term', 'score']).sort_values(by='score', ascending=False).reset_index(drop=True)\n",
    "\n",
    "    # output to a csv using the enumerated value for the filename\n",
    "    one_doc_as_df.to_csv(output_filenames[counter])"
   ]
  },
  {
   "cell_type": "markdown",
   "metadata": {},
   "source": [
    "### open authors-csv as dataframe to look at"
   ]
  },
  {
   "cell_type": "code",
   "execution_count": 31,
   "metadata": {},
   "outputs": [
    {
     "data": {
      "text/plain": [
       "['Giambullari.csv', 'Vcopy.csv', 'Vasari.csv', 'Borghini.csv', 'Bartoli.csv']"
      ]
     },
     "execution_count": 31,
     "metadata": {},
     "output_type": "execute_result"
    }
   ],
   "source": [
    "# ./tf_idf_output\n",
    "\n",
    "filenames = os.listdir('./authors_tf_idf_output')\n",
    "filenames"
   ]
  },
  {
   "cell_type": "code",
   "execution_count": 43,
   "metadata": {},
   "outputs": [
    {
     "data": {
      "text/html": [
       "<div>\n",
       "<style scoped>\n",
       "    .dataframe tbody tr th:only-of-type {\n",
       "        vertical-align: middle;\n",
       "    }\n",
       "\n",
       "    .dataframe tbody tr th {\n",
       "        vertical-align: top;\n",
       "    }\n",
       "\n",
       "    .dataframe thead th {\n",
       "        text-align: right;\n",
       "    }\n",
       "</style>\n",
       "<table border=\"1\" class=\"dataframe\">\n",
       "  <thead>\n",
       "    <tr style=\"text-align: right;\">\n",
       "      <th></th>\n",
       "      <th>Giambullari_term</th>\n",
       "      <th>Giambullari_score</th>\n",
       "      <th>Vcopy_term</th>\n",
       "      <th>Vcopy_score</th>\n",
       "      <th>Vasari_term</th>\n",
       "      <th>Vasari_score</th>\n",
       "      <th>Borghini_term</th>\n",
       "      <th>Borghini_score</th>\n",
       "      <th>Bartoli_term</th>\n",
       "      <th>Bartoli_score</th>\n",
       "    </tr>\n",
       "  </thead>\n",
       "  <tbody>\n",
       "    <tr>\n",
       "      <th>0</th>\n",
       "      <td>giambullari</td>\n",
       "      <td>8.432791</td>\n",
       "      <td>senpre</td>\n",
       "      <td>23.704061</td>\n",
       "      <td>tenpo</td>\n",
       "      <td>247.199488</td>\n",
       "      <td>anche</td>\n",
       "      <td>238.929068</td>\n",
       "      <td>danese</td>\n",
       "      <td>33.577797</td>\n",
       "    </tr>\n",
       "    <tr>\n",
       "      <th>1</th>\n",
       "      <td>pf</td>\n",
       "      <td>6.295837</td>\n",
       "      <td>tenpo</td>\n",
       "      <td>18.624619</td>\n",
       "      <td>auto</td>\n",
       "      <td>198.170580</td>\n",
       "      <td>vincenzo</td>\n",
       "      <td>238.733752</td>\n",
       "      <td>bisogna</td>\n",
       "      <td>25.298372</td>\n",
       "    </tr>\n",
       "    <tr>\n",
       "      <th>2</th>\n",
       "      <td>pierfrancesco</td>\n",
       "      <td>6.295837</td>\n",
       "      <td>bisognio</td>\n",
       "      <td>16.865581</td>\n",
       "      <td>senpre</td>\n",
       "      <td>194.711926</td>\n",
       "      <td>bisogna</td>\n",
       "      <td>158.817557</td>\n",
       "      <td>pennelli</td>\n",
       "      <td>23.704061</td>\n",
       "    </tr>\n",
       "    <tr>\n",
       "      <th>3</th>\n",
       "      <td>1549</td>\n",
       "      <td>5.621860</td>\n",
       "      <td>reverendo</td>\n",
       "      <td>15.460116</td>\n",
       "      <td>disegnio</td>\n",
       "      <td>160.223022</td>\n",
       "      <td>po</td>\n",
       "      <td>99.788023</td>\n",
       "      <td>istoria</td>\n",
       "      <td>21.081977</td>\n",
       "    </tr>\n",
       "    <tr>\n",
       "      <th>4</th>\n",
       "      <td>priego</td>\n",
       "      <td>4.216395</td>\n",
       "      <td>disegnio</td>\n",
       "      <td>15.460116</td>\n",
       "      <td>el</td>\n",
       "      <td>160.223022</td>\n",
       "      <td>vedete</td>\n",
       "      <td>95.571627</td>\n",
       "      <td>padroni</td>\n",
       "      <td>19.676512</td>\n",
       "    </tr>\n",
       "    <tr>\n",
       "      <th>...</th>\n",
       "      <td>...</td>\n",
       "      <td>...</td>\n",
       "      <td>...</td>\n",
       "      <td>...</td>\n",
       "      <td>...</td>\n",
       "      <td>...</td>\n",
       "      <td>...</td>\n",
       "      <td>...</td>\n",
       "      <td>...</td>\n",
       "      <td>...</td>\n",
       "    </tr>\n",
       "    <tr>\n",
       "      <th>95</th>\n",
       "      <td>voletelo</td>\n",
       "      <td>2.098612</td>\n",
       "      <td>pianta</td>\n",
       "      <td>5.079442</td>\n",
       "      <td>dallei</td>\n",
       "      <td>41.972246</td>\n",
       "      <td>cugino</td>\n",
       "      <td>22.010913</td>\n",
       "      <td>farevi</td>\n",
       "      <td>8.394449</td>\n",
       "    </tr>\n",
       "    <tr>\n",
       "      <th>96</th>\n",
       "      <td>sareste</td>\n",
       "      <td>2.098612</td>\n",
       "      <td>scade</td>\n",
       "      <td>5.079442</td>\n",
       "      <td>dica</td>\n",
       "      <td>40.758488</td>\n",
       "      <td>academia</td>\n",
       "      <td>22.010913</td>\n",
       "      <td>febraro</td>\n",
       "      <td>8.394449</td>\n",
       "    </tr>\n",
       "    <tr>\n",
       "      <th>97</th>\n",
       "      <td>persuadetevi</td>\n",
       "      <td>1.693147</td>\n",
       "      <td>piacie</td>\n",
       "      <td>5.079442</td>\n",
       "      <td>satisfatto</td>\n",
       "      <td>40.758488</td>\n",
       "      <td>bronzino</td>\n",
       "      <td>22.010913</td>\n",
       "      <td>palladio</td>\n",
       "      <td>8.394449</td>\n",
       "    </tr>\n",
       "    <tr>\n",
       "      <th>98</th>\n",
       "      <td>ingannato</td>\n",
       "      <td>1.693147</td>\n",
       "      <td>partire</td>\n",
       "      <td>5.079442</td>\n",
       "      <td>siano</td>\n",
       "      <td>40.758488</td>\n",
       "      <td>architettore</td>\n",
       "      <td>22.010913</td>\n",
       "      <td>libre</td>\n",
       "      <td>8.394449</td>\n",
       "    </tr>\n",
       "    <tr>\n",
       "      <th>99</th>\n",
       "      <td>importanzia</td>\n",
       "      <td>1.693147</td>\n",
       "      <td>signorie</td>\n",
       "      <td>5.079442</td>\n",
       "      <td>vegga</td>\n",
       "      <td>40.758488</td>\n",
       "      <td>colui</td>\n",
       "      <td>21.081977</td>\n",
       "      <td>animosità</td>\n",
       "      <td>8.394449</td>\n",
       "    </tr>\n",
       "  </tbody>\n",
       "</table>\n",
       "<p>100 rows × 10 columns</p>\n",
       "</div>"
      ],
      "text/plain": [
       "   Giambullari_term  Giambullari_score Vcopy_term  Vcopy_score Vasari_term  \\\n",
       "0       giambullari           8.432791     senpre    23.704061       tenpo   \n",
       "1                pf           6.295837      tenpo    18.624619        auto   \n",
       "2     pierfrancesco           6.295837   bisognio    16.865581      senpre   \n",
       "3              1549           5.621860  reverendo    15.460116    disegnio   \n",
       "4            priego           4.216395   disegnio    15.460116          el   \n",
       "..              ...                ...        ...          ...         ...   \n",
       "95         voletelo           2.098612     pianta     5.079442      dallei   \n",
       "96          sareste           2.098612      scade     5.079442        dica   \n",
       "97     persuadetevi           1.693147     piacie     5.079442  satisfatto   \n",
       "98        ingannato           1.693147    partire     5.079442       siano   \n",
       "99      importanzia           1.693147   signorie     5.079442       vegga   \n",
       "\n",
       "    Vasari_score Borghini_term  Borghini_score Bartoli_term  Bartoli_score  \n",
       "0     247.199488         anche      238.929068       danese      33.577797  \n",
       "1     198.170580      vincenzo      238.733752      bisogna      25.298372  \n",
       "2     194.711926       bisogna      158.817557     pennelli      23.704061  \n",
       "3     160.223022            po       99.788023      istoria      21.081977  \n",
       "4     160.223022        vedete       95.571627      padroni      19.676512  \n",
       "..           ...           ...             ...          ...            ...  \n",
       "95     41.972246        cugino       22.010913       farevi       8.394449  \n",
       "96     40.758488      academia       22.010913      febraro       8.394449  \n",
       "97     40.758488      bronzino       22.010913     palladio       8.394449  \n",
       "98     40.758488  architettore       22.010913        libre       8.394449  \n",
       "99     40.758488         colui       21.081977    animosità       8.394449  \n",
       "\n",
       "[100 rows x 10 columns]"
      ]
     },
     "execution_count": 43,
     "metadata": {},
     "output_type": "execute_result"
    }
   ],
   "source": [
    "df_tf_idf = pd.DataFrame()\n",
    "\n",
    "for i in filenames:\n",
    "    author = i.strip('.csv')\n",
    "    df = pd.read_csv('./authors_tf_idf_output/'+ (i))\n",
    "    df_tf_idf[author + '_term'] = df['term']\n",
    "    df_tf_idf[author + '_score'] = df['score']\n",
    "\n",
    "df_tf_idf[:100]"
   ]
  },
  {
   "cell_type": "markdown",
   "metadata": {},
   "source": [
    "## Observations:\n",
    "\n",
    "Vasari used frequently:\n",
    "- obligatissimo\n",
    "- reverendissimo\n",
    "- disegno\n",
    "- reverendo\n",
    "- bisognio"
   ]
  },
  {
   "cell_type": "code",
   "execution_count": 60,
   "metadata": {},
   "outputs": [
    {
     "name": "stdout",
     "output_type": "stream",
     "text": [
      "Vasari's disegno is disegnio and has index: 3 and score: 160.22302232433074\n",
      "Vasari's disegno is disegniare and has index: 387 and score: 18.88751059801299\n",
      "Vasari's disegno is disegniato and has index: 558 and score: 15.238324625039509\n",
      "Vasari's disegno is disegnia and has index: 917 and score: 10.493061443340553\n",
      "Vasari's disegno is disegniata and has index: 1403 and score: 8.39444915467244\n",
      "Vasari's disegno is disegniate and has index: 3099 and score: 4.19722457733622\n",
      "Vasari's disegno is disegniati and has index: 3101 and score: 4.19722457733622\n",
      "Vasari's disegno is disegniar and has index: 3115 and score: 4.19722457733622\n",
      "Vasari's disegno is disegnierò and has index: 7137 and score: 2.09861228866811\n",
      "Vasari's disegno is disegniavo and has index: 7138 and score: 2.09861228866811\n",
      "Vasari's disegno is disegniava and has index: 7158 and score: 2.09861228866811\n",
      "Vasari's disegno is disegniassi and has index: 7163 and score: 2.09861228866811\n",
      "Vasari's disegno is disegniammo and has index: 7166 and score: 2.09861228866811\n",
      "Vasari's disegno is disegnino and has index: 14105 and score: 0.0\n"
     ]
    }
   ],
   "source": [
    "words = \"obligatissimo, reverendissimo, disegno, reverendo, bisognio\".split(',')\n",
    "\n",
    "df_compare = pd.DataFrame()\n",
    "\n",
    "for i, j in enumerate(df_tf_idf['Vasari_term']):\n",
    "    if j.startswith('disegni'):\n",
    "        print('Vasari\\'s disegno is ' +j + ' and has index: ' + str(i) + ' and score: ' + str(df_tf_idf['Vasari_score'][i]))\n",
    "      \n",
    "            \n",
    "    "
   ]
  },
  {
   "cell_type": "code",
   "execution_count": 58,
   "metadata": {},
   "outputs": [
    {
     "data": {
      "text/plain": [
       "0.0"
      ]
     },
     "execution_count": 58,
     "metadata": {},
     "output_type": "execute_result"
    }
   ],
   "source": [
    "df_tf_idf['Vasari_score'][i]"
   ]
  },
  {
   "cell_type": "code",
   "execution_count": 54,
   "metadata": {},
   "outputs": [
    {
     "data": {
      "text/plain": [
       "9924              storni\n",
       "9925           storiette\n",
       "9926            accurato\n",
       "9927          fondazione\n",
       "9928           leggerete\n",
       "              ...       \n",
       "10114         intenderai\n",
       "10115             impeto\n",
       "10116          codicillo\n",
       "10117         chiocciole\n",
       "10118    sufizientissimo\n",
       "Name: Vasari_term, Length: 195, dtype: object"
      ]
     },
     "execution_count": 54,
     "metadata": {},
     "output_type": "execute_result"
    }
   ],
   "source": [
    "df_tf_idf['Vasari_term'][9924:10119]"
   ]
  },
  {
   "cell_type": "markdown",
   "metadata": {},
   "source": [
    "# Save and open csv as dataframe"
   ]
  },
  {
   "cell_type": "code",
   "execution_count": 61,
   "metadata": {},
   "outputs": [],
   "source": [
    "filename = 'author_tf_idf.csv'\n",
    "df_tf_idf.to_csv(filename, index = False, header=True)\n",
    "#cosine_distances = pd.read_csv(filename)"
   ]
  },
  {
   "cell_type": "code",
   "execution_count": null,
   "metadata": {},
   "outputs": [],
   "source": []
  }
 ],
 "metadata": {
  "kernelspec": {
   "display_name": "Python 3",
   "language": "python",
   "name": "python3"
  },
  "language_info": {
   "codemirror_mode": {
    "name": "ipython",
    "version": 3
   },
   "file_extension": ".py",
   "mimetype": "text/x-python",
   "name": "python",
   "nbconvert_exporter": "python",
   "pygments_lexer": "ipython3",
   "version": "3.8.5"
  }
 },
 "nbformat": 4,
 "nbformat_minor": 4
}
