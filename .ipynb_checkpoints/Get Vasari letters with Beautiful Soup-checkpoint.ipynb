{
 "cells": [
  {
   "cell_type": "markdown",
   "metadata": {},
   "source": [
    "# Get Vasari letters from Fondazione Memofonte (https://www.memofonte.it/ricerche/giorgio-vasari/) with Beautiful Soup"
   ]
  },
  {
   "cell_type": "markdown",
   "metadata": {},
   "source": [
    "#### based on Jeri Wieringa, \"Intro to Beautiful Soup,\" The Programming Historian 1 (2012), https://doi.org/10.46430/phen0008."
   ]
  },
  {
   "cell_type": "code",
   "execution_count": 21,
   "metadata": {},
   "outputs": [],
   "source": [
    "import urllib.request, urllib.error, urllib.parse\n",
    "import csv\n",
    "from bs4 import BeautifulSoup\n",
    "import html2text\n",
    "import os\n",
    "from datetime import datetime\n",
    "import numpy as np\n",
    "import pandas as pd"
   ]
  },
  {
   "cell_type": "markdown",
   "metadata": {},
   "source": [
    "## Iterate over all URLs and save as .html"
   ]
  },
  {
   "cell_type": "markdown",
   "metadata": {},
   "source": [
    "#### make list of URLs"
   ]
  },
  {
   "cell_type": "code",
   "execution_count": 2,
   "metadata": {},
   "outputs": [
    {
     "data": {
      "text/plain": [
       "1151"
      ]
     },
     "execution_count": 2,
     "metadata": {},
     "output_type": "execute_result"
    }
   ],
   "source": [
    "# letter-id ranging from 1 to 1151\n",
    "\n",
    "url_list = []\n",
    "url_base = \"https://www.memofonte.it/home/ricerca/singolo_17.php?id=\"\n",
    "for i in range (1151):\n",
    "    url_list.append(url_base+ str(i+1))\n",
    "    \n",
    "len(url_list)"
   ]
  },
  {
   "cell_type": "markdown",
   "metadata": {},
   "source": [
    "### save all as .html"
   ]
  },
  {
   "cell_type": "code",
   "execution_count": 40,
   "metadata": {},
   "outputs": [],
   "source": [
    "count = 0\n",
    "for i in url_list:\n",
    "    count+=1\n",
    "    response = urllib.request.urlopen(i)\n",
    "    webContent = response.read()\n",
    "    #filename = 'data/results/letters/html/letter-'+str(i)'.html'\n",
    "    f = open('data/results/letters/html/letter-'+str(count)+'.html', 'wb')\n",
    "    f.write(webContent)\n",
    "    f.close()\n",
    "    "
   ]
  },
  {
   "cell_type": "markdown",
   "metadata": {},
   "source": [
    "## Open all .html, make Beautiful Soups, extract information, save in a single CSV"
   ]
  },
  {
   "cell_type": "code",
   "execution_count": 3,
   "metadata": {},
   "outputs": [
    {
     "data": {
      "text/plain": [
       "1151"
      ]
     },
     "execution_count": 3,
     "metadata": {},
     "output_type": "execute_result"
    }
   ],
   "source": [
    "list_of_htmls = os.listdir('data/results/letters/html')\n",
    "len(list_of_htmls)\n",
    "#list_of_htmls"
   ]
  },
  {
   "cell_type": "code",
   "execution_count": 4,
   "metadata": {},
   "outputs": [
    {
     "data": {
      "text/plain": [
       "[1051,\n",
       " '26 12  1572',\n",
       " 'VINCENZO BORGHINI IN FIRENZE A GIORGIO VASARI IN ROMA',\n",
       " 'ASA, AV, 14 (XLVIII), cc. 146-148.',\n",
       " 'Molto Magnifico messer Giorgio. Ho ricevuto la vostra con la distesa delle istorie della sala, le quali considererò, e perché mi ha dato noia un po’ di scesa et non ne son libero, indugierò a questa altra settimana a darne più piena risposta. Messer Vincenzo non credo che pensi più alla messa, ma quando si potessi confermare nel privileggio del legittimare et altri indulti che non toccono il concilio, credo sarebbe contento, che qua non lo ammettono, e però forse bisognerebbe questa confermazione; pure ci sarà tempo. De la cosa mia come mi dite ne starò a buona speranza; e se voi vedete che la camini bene, il meglio sarebbe stringnere e darli fine, che cosa fatta importa assai e si schifa molte cose, che col tempo possono occorrere, che si dice che l’indugio pigla vizio; ma se ci fusse qualche difficultà, allora è bene non strignere, che il far male ha da essere l’ultima cosa. Io come ho detto vi scriverrò per altra più allungo, che le feste, la scesa mi danno che fare, e raccomandatemi caramente al Signor Protonotario Imbasciadore et a voi medesimo. Che Dio vi feliciti. Di Firenze il dì di Santo Stefano 1572. Vostro Don Vincenzo BorghiniAl Molto Magnifico Signor Cavalier Vasari Messer Giorgio Pittore Excellentissimo. Roma. ',\n",
       " 'Frey 1930, pp. 736-737.']"
      ]
     },
     "execution_count": 4,
     "metadata": {},
     "output_type": "execute_result"
    }
   ],
   "source": [
    "# test code and output for single file before iterating over 1151\n",
    "\n",
    "csv_row = list()\n",
    "\n",
    "soup = BeautifulSoup(open('data/results/letters/html/'+str(list_of_htmls[0])), \"lxml\")\n",
    "\n",
    "p_array = soup.find_all('p')\n",
    "csv_row.append(int(p_array[0].text[(len('Numero d\\'ordine:')+1):]))\n",
    "csv_row.append(((p_array[1].text[(len('Data:')+1):])))\n",
    "csv_row.append(p_array[2].text[(len('Intestazione:')+1):])\n",
    "csv_row.append(p_array[3].text[(len('Segnatura:')+1):])\n",
    "csv_row.append(p_array[4].text[(len('Fonte:')+1):])\n",
    "csv_row.append(p_array[5].text[(len('Bibliografia:')+1):])\n",
    "\n",
    "csv_row"
   ]
  },
  {
   "cell_type": "code",
   "execution_count": 34,
   "metadata": {
    "scrolled": true
   },
   "outputs": [],
   "source": [
    "# inspect data\n",
    "#soup.prettify"
   ]
  },
  {
   "cell_type": "code",
   "execution_count": 70,
   "metadata": {},
   "outputs": [
    {
     "data": {
      "text/plain": [
       "datetime.datetime(1572, 12, 26, 0, 0)"
      ]
     },
     "execution_count": 70,
     "metadata": {},
     "output_type": "execute_result"
    }
   ],
   "source": [
    "# test how to convert the date\n",
    "\n",
    "datetime_object = datetime.strptime((p_array[1].text[(len('Data:')+1):]), \"%d %m %Y\")\n",
    "datetime_object"
   ]
  },
  {
   "cell_type": "markdown",
   "metadata": {},
   "source": [
    "### Make one CSV File for all letters"
   ]
  },
  {
   "cell_type": "code",
   "execution_count": 54,
   "metadata": {},
   "outputs": [
    {
     "data": {
      "text/plain": [
       "64"
      ]
     },
     "execution_count": 54,
     "metadata": {},
     "output_type": "execute_result"
    }
   ],
   "source": [
    "# make CSV File\n",
    "# changed filename after first run from letters.csv to letters_2.csv\n",
    "\n",
    "\n",
    "\n",
    "#csv_file = csv.writer(open('data/results/letters/letters_2.csv', \"w\"))\n",
    "\n",
    "# Write column headers as the first line\n",
    "#csv_file.writerow([\"Numero d'ordine\", \"Data\", \"Intestazione\", \"Segnatura\", \"Fonte\", \"Bibliografia\"]) "
   ]
  },
  {
   "cell_type": "code",
   "execution_count": 5,
   "metadata": {},
   "outputs": [],
   "source": [
    "filename = 'data/results/letters/letters.csv'"
   ]
  },
  {
   "cell_type": "markdown",
   "metadata": {},
   "source": [
    "### iterate over all .html files, save as csv"
   ]
  },
  {
   "cell_type": "code",
   "execution_count": 71,
   "metadata": {},
   "outputs": [],
   "source": [
    "# open all letter.html, make soup, extract information, collect it in a list, append list as a row to csv_file\n",
    "\n",
    "for i in list_of_htmls:\n",
    "    csv_row = list() # make new row\n",
    "    soup = BeautifulSoup(open('data/results/letters/html/'+i), \"lxml\") # make soup\n",
    "    p_array = soup.find_all('p') # take the information one by one \n",
    "    csv_row.append(int(p_array[0].text[(len('Numero d\\'ordine:')+1):])) # append each to the list\n",
    "    csv_row.append(p_array[1].text[(len('Data:')+1):])\n",
    "    csv_row.append(p_array[2].text[(len('Intestazione:')+1):])\n",
    "    csv_row.append(p_array[3].text[(len('Segnatura:')+1):])\n",
    "    csv_row.append(p_array[4].text[(len('Fonte:')+1):])\n",
    "    csv_row.append(p_array[5].text[(len('Bibliografia:')+1):])\n",
    "    #csv_file.writerow(csv_row)\n",
    "\n",
    "#soup = BeautifulSoup(open('data/results/letters/vasari-letter1.html'), \"lxml\")\n",
    "# extract all \"p\"\n",
    "#p_array = soup.find_all('p')\n",
    "#p_array[1].text"
   ]
  },
  {
   "cell_type": "markdown",
   "metadata": {},
   "source": [
    "### open CSV file as dataframe"
   ]
  },
  {
   "cell_type": "code",
   "execution_count": 22,
   "metadata": {},
   "outputs": [],
   "source": [
    "csv_file = csv.reader(open(filename, \"r\"))"
   ]
  },
  {
   "cell_type": "code",
   "execution_count": 24,
   "metadata": {},
   "outputs": [
    {
     "data": {
      "text/html": [
       "<div>\n",
       "<style scoped>\n",
       "    .dataframe tbody tr th:only-of-type {\n",
       "        vertical-align: middle;\n",
       "    }\n",
       "\n",
       "    .dataframe tbody tr th {\n",
       "        vertical-align: top;\n",
       "    }\n",
       "\n",
       "    .dataframe thead th {\n",
       "        text-align: right;\n",
       "    }\n",
       "</style>\n",
       "<table border=\"1\" class=\"dataframe\">\n",
       "  <thead>\n",
       "    <tr style=\"text-align: right;\">\n",
       "      <th></th>\n",
       "      <th>Numero d'ordine</th>\n",
       "      <th>Data</th>\n",
       "      <th>Intestazione</th>\n",
       "      <th>Segnatura</th>\n",
       "      <th>Fonte</th>\n",
       "      <th>Bibliografia</th>\n",
       "    </tr>\n",
       "  </thead>\n",
       "  <tbody>\n",
       "    <tr>\n",
       "      <th>0</th>\n",
       "      <td>1051</td>\n",
       "      <td>26 12  1572</td>\n",
       "      <td>VINCENZO BORGHINI IN FIRENZE A GIORGIO VASARI ...</td>\n",
       "      <td>ASA, AV, 14 (XLVIII), cc. 146-148.</td>\n",
       "      <td>Molto Magnifico messer Giorgio. Ho ricevuto la...</td>\n",
       "      <td>Frey 1930, pp. 736-737.</td>\n",
       "    </tr>\n",
       "    <tr>\n",
       "      <th>1</th>\n",
       "      <td>791</td>\n",
       "      <td>24 12  1569</td>\n",
       "      <td>GIORGIO VASARI IN FIRENZE A ORDINE DI SANTO ST...</td>\n",
       "      <td>ASPI, Carte Bonaini, IX.</td>\n",
       "      <td>Illustrissimi Signori miei observandissimi. Co...</td>\n",
       "      <td>Frey 1930, pp. 476-477.</td>\n",
       "    </tr>\n",
       "    <tr>\n",
       "      <th>2</th>\n",
       "      <td>284</td>\n",
       "      <td>20 04  1559</td>\n",
       "      <td>GABRIEL FIAMMA IN PADOVA A GIORGIO VASARI IN F...</td>\n",
       "      <td>ASA, AV, 13 (XLVII), cc. 53, 59.</td>\n",
       "      <td>Magnifico Signor mio osservandissimo. Ho scrit...</td>\n",
       "      <td>Frey 1923, pp. 513-514.</td>\n",
       "    </tr>\n",
       "    <tr>\n",
       "      <th>3</th>\n",
       "      <td>1114</td>\n",
       "      <td>1 08  1573</td>\n",
       "      <td>GIORGIO VASARI IN FIRENZE AI DEPUTATI ALLE FAB...</td>\n",
       "      <td>AAA, filza CC, Registro di lettere, i, 1569, I...</td>\n",
       "      <td>Molto magnifici Signori Deputati, Signori mia ...</td>\n",
       "      <td>Frey 1930, pp. 810-811.</td>\n",
       "    </tr>\n",
       "    <tr>\n",
       "      <th>4</th>\n",
       "      <td>904</td>\n",
       "      <td>3 09  1571</td>\n",
       "      <td>GUGLIELMO SANGALLETTI IN ROMA A GIORGIO VASARI...</td>\n",
       "      <td>ASA, AV, 15 (XLIX), cc. 174, 177.</td>\n",
       "      <td>Molto Magnifico Signor Cavaliere. La presente ...</td>\n",
       "      <td>Frey 1930, pp. 599-600.</td>\n",
       "    </tr>\n",
       "    <tr>\n",
       "      <th>...</th>\n",
       "      <td>...</td>\n",
       "      <td>...</td>\n",
       "      <td>...</td>\n",
       "      <td>...</td>\n",
       "      <td>...</td>\n",
       "      <td>...</td>\n",
       "    </tr>\n",
       "    <tr>\n",
       "      <th>1146</th>\n",
       "      <td>356</td>\n",
       "      <td>1 01  1562</td>\n",
       "      <td>GIORGIO VASARI IN FIRENZE A JACOPO GUIDI</td>\n",
       "      <td>ASF, Carte Guidi, c. 356.</td>\n",
       "      <td>Reverendissimo monsignore patron mio,io mando ...</td>\n",
       "      <td>Palli D’Addario 1985, pp. 379-380 (post 2 giug...</td>\n",
       "    </tr>\n",
       "    <tr>\n",
       "      <th>1147</th>\n",
       "      <td>585</td>\n",
       "      <td>18 06  1565</td>\n",
       "      <td>GIORGIO VASARI IN FIRENZE A VINCENZO BORGHINI...</td>\n",
       "      <td>ASF, CdA, II, I, n. 30.</td>\n",
       "      <td>Reverendo Signor mio. S’è riceuto la vostra le...</td>\n",
       "      <td>Gaye 1839-1840, III, p. 185; Milanesi 1878-18...</td>\n",
       "    </tr>\n",
       "    <tr>\n",
       "      <th>1148</th>\n",
       "      <td>839</td>\n",
       "      <td>29 08  1570</td>\n",
       "      <td>VINCENZO BORGHINI IN POPPIANO A GIORGIO VASARI</td>\n",
       "      <td>ASA, AV, 14 (XLVIII), c. 70.</td>\n",
       "      <td>Messer Giorgio mio. Io vi mando una lunga dice...</td>\n",
       "      <td>Frey 1930, pp. 522-523.</td>\n",
       "    </tr>\n",
       "    <tr>\n",
       "      <th>1149</th>\n",
       "      <td>993</td>\n",
       "      <td>6 06  1572</td>\n",
       "      <td>BARTOLOMMEO BUSSOTTO IN ROMA A GIORGIO VASARI ...</td>\n",
       "      <td>ASA, AV, 10 (XLIV), cc. 83, 86.</td>\n",
       "      <td>Molto magnifico Signor come fratello. Scrissi ...</td>\n",
       "      <td>Frey 1930, pp. 681-682.</td>\n",
       "    </tr>\n",
       "    <tr>\n",
       "      <th>1150</th>\n",
       "      <td>28</td>\n",
       "      <td>6 07  1536</td>\n",
       "      <td>GIORGIO VASARI IN AREZZO A NICCOLÒ SERGUIDI IN...</td>\n",
       "      <td>BRF, 2354, c. 26v, copia di Giorgio Vasari il ...</td>\n",
       "      <td>A messer Niccolo Serguidi sopra l’ornamento di...</td>\n",
       "      <td>Bottari-Ticozzi 1822-1825, III, pp. 63-67 (6 l...</td>\n",
       "    </tr>\n",
       "  </tbody>\n",
       "</table>\n",
       "<p>1151 rows × 6 columns</p>\n",
       "</div>"
      ],
      "text/plain": [
       "      Numero d'ordine         Data  \\\n",
       "0                1051  26 12  1572   \n",
       "1                 791  24 12  1569   \n",
       "2                 284  20 04  1559   \n",
       "3                1114   1 08  1573   \n",
       "4                 904   3 09  1571   \n",
       "...               ...          ...   \n",
       "1146              356   1 01  1562   \n",
       "1147              585  18 06  1565   \n",
       "1148              839  29 08  1570   \n",
       "1149              993   6 06  1572   \n",
       "1150               28   6 07  1536   \n",
       "\n",
       "                                           Intestazione  \\\n",
       "0     VINCENZO BORGHINI IN FIRENZE A GIORGIO VASARI ...   \n",
       "1     GIORGIO VASARI IN FIRENZE A ORDINE DI SANTO ST...   \n",
       "2     GABRIEL FIAMMA IN PADOVA A GIORGIO VASARI IN F...   \n",
       "3     GIORGIO VASARI IN FIRENZE AI DEPUTATI ALLE FAB...   \n",
       "4     GUGLIELMO SANGALLETTI IN ROMA A GIORGIO VASARI...   \n",
       "...                                                 ...   \n",
       "1146           GIORGIO VASARI IN FIRENZE A JACOPO GUIDI   \n",
       "1147   GIORGIO VASARI IN FIRENZE A VINCENZO BORGHINI...   \n",
       "1148    VINCENZO BORGHINI IN POPPIANO A GIORGIO VASARI    \n",
       "1149  BARTOLOMMEO BUSSOTTO IN ROMA A GIORGIO VASARI ...   \n",
       "1150  GIORGIO VASARI IN AREZZO A NICCOLÒ SERGUIDI IN...   \n",
       "\n",
       "                                              Segnatura  \\\n",
       "0                    ASA, AV, 14 (XLVIII), cc. 146-148.   \n",
       "1                              ASPI, Carte Bonaini, IX.   \n",
       "2                      ASA, AV, 13 (XLVII), cc. 53, 59.   \n",
       "3     AAA, filza CC, Registro di lettere, i, 1569, I...   \n",
       "4                     ASA, AV, 15 (XLIX), cc. 174, 177.   \n",
       "...                                                 ...   \n",
       "1146                          ASF, Carte Guidi, c. 356.   \n",
       "1147                            ASF, CdA, II, I, n. 30.   \n",
       "1148                       ASA, AV, 14 (XLVIII), c. 70.   \n",
       "1149                    ASA, AV, 10 (XLIV), cc. 83, 86.   \n",
       "1150  BRF, 2354, c. 26v, copia di Giorgio Vasari il ...   \n",
       "\n",
       "                                                  Fonte  \\\n",
       "0     Molto Magnifico messer Giorgio. Ho ricevuto la...   \n",
       "1     Illustrissimi Signori miei observandissimi. Co...   \n",
       "2     Magnifico Signor mio osservandissimo. Ho scrit...   \n",
       "3     Molto magnifici Signori Deputati, Signori mia ...   \n",
       "4     Molto Magnifico Signor Cavaliere. La presente ...   \n",
       "...                                                 ...   \n",
       "1146  Reverendissimo monsignore patron mio,io mando ...   \n",
       "1147  Reverendo Signor mio. S’è riceuto la vostra le...   \n",
       "1148  Messer Giorgio mio. Io vi mando una lunga dice...   \n",
       "1149  Molto magnifico Signor come fratello. Scrissi ...   \n",
       "1150  A messer Niccolo Serguidi sopra l’ornamento di...   \n",
       "\n",
       "                                           Bibliografia  \n",
       "0                               Frey 1930, pp. 736-737.  \n",
       "1                               Frey 1930, pp. 476-477.  \n",
       "2                               Frey 1923, pp. 513-514.  \n",
       "3                              Frey 1930, pp. 810-811.   \n",
       "4                               Frey 1930, pp. 599-600.  \n",
       "...                                                 ...  \n",
       "1146  Palli D’Addario 1985, pp. 379-380 (post 2 giug...  \n",
       "1147   Gaye 1839-1840, III, p. 185; Milanesi 1878-18...  \n",
       "1148                            Frey 1930, pp. 522-523.  \n",
       "1149                            Frey 1930, pp. 681-682.  \n",
       "1150  Bottari-Ticozzi 1822-1825, III, pp. 63-67 (6 l...  \n",
       "\n",
       "[1151 rows x 6 columns]"
      ]
     },
     "execution_count": 24,
     "metadata": {},
     "output_type": "execute_result"
    }
   ],
   "source": [
    "dataframe = pd.read_csv(filename)\n",
    "dataframe"
   ]
  },
  {
   "cell_type": "code",
   "execution_count": 48,
   "metadata": {},
   "outputs": [
    {
     "data": {
      "text/plain": [
       "False"
      ]
     },
     "execution_count": 48,
     "metadata": {},
     "output_type": "execute_result"
    }
   ],
   "source": [
    "dataframe['Intestazione'][5].startswith('VINCENZO BORGHINI')"
   ]
  },
  {
   "cell_type": "code",
   "execution_count": 50,
   "metadata": {},
   "outputs": [
    {
     "name": "stdout",
     "output_type": "stream",
     "text": [
      "VINCENZO BORGHINI IN FIRENZE A GIORGIO VASARI IN ROMA\n",
      "1\n",
      "GIORGIO VASARI IN FIRENZE A ORDINE DI SANTO STEFANO IN PISA\n",
      "2\n",
      "GABRIEL FIAMMA IN PADOVA A GIORGIO VASARI IN FIRENZE\n",
      "3\n",
      "GIORGIO VASARI IN FIRENZE AI DEPUTATI ALLE FABBRICHE DELLA MISERICORDIA IN AREZZO\n",
      "4\n",
      "GUGLIELMO SANGALLETTI IN ROMA A GIORGIO VASARI IN FIRENZE\n",
      "5\n",
      " BERNARDETTO MINERBETTI IN AREZZO A GIORGIO VASARI IN FIRENZE\n",
      "6\n",
      "PIETRO ARETINO IN VENEZIA A GIORGIO VASARI IN FIRENZE.\n",
      "7\n",
      " VINCENZO BORGHINI IN GLI ALBERI A GIORGIO VASARI IN FIRENZE\n",
      "8\n",
      "GUGLIELMO SANGALLETTI IN ROMA A GIORGIO VASARI IN FIRENZE\n",
      "9\n",
      "GIORGIO VASARI IN ROMA A ALESSANDRO FARNESE IN CASTRO\n",
      "10\n",
      "BARTOLOMMEO BUSSOTTO IN ROMA A GIORGIO VASARI IN FIRENZE \n",
      "11\n",
      "GIORGIO VASARI IN FIRENZE A GIOVANNI CACCINI IN PISA\n",
      "12\n",
      " FILIPPO BUONCOMPAGNI IN ROMA A GIORGIO VASARI IN FIRENZE\n",
      "13\n",
      "BERNARDETTO MINERBETTI IN AREZZO A GIORGIO VASARI IN FIRENZE \n",
      "14\n",
      " COSIMO DE’ MEDICI IN PISA A GIORGIO VASARI IN FIRENZE\n",
      "15\n",
      "LELIO BONSI IN PISA A COSIMO DE’ MEDICI IN VALLOMBROSA\n",
      "16\n",
      "GIORGIO VASARI IN FIRENZE A VINCENZO BORGHINI IN POPPIANO\n",
      "17\n",
      "nan\n",
      "18\n"
     ]
    },
    {
     "ename": "AttributeError",
     "evalue": "'float' object has no attribute 'startswith'",
     "output_type": "error",
     "traceback": [
      "\u001b[0;31m---------------------------------------------------------------------------\u001b[0m",
      "\u001b[0;31mAttributeError\u001b[0m                            Traceback (most recent call last)",
      "\u001b[0;32m<ipython-input-50-ea5581b05957>\u001b[0m in \u001b[0;36m<module>\u001b[0;34m\u001b[0m\n\u001b[1;32m      5\u001b[0m     \u001b[0mcount\u001b[0m \u001b[0;34m+=\u001b[0m \u001b[0;36m1\u001b[0m\u001b[0;34m\u001b[0m\u001b[0;34m\u001b[0m\u001b[0m\n\u001b[1;32m      6\u001b[0m     \u001b[0mprint\u001b[0m\u001b[0;34m(\u001b[0m\u001b[0mcount\u001b[0m\u001b[0;34m)\u001b[0m\u001b[0;34m\u001b[0m\u001b[0;34m\u001b[0m\u001b[0m\n\u001b[0;32m----> 7\u001b[0;31m     \u001b[0;32mif\u001b[0m \u001b[0mdataframe\u001b[0m\u001b[0;34m[\u001b[0m\u001b[0;34m'Intestazione'\u001b[0m\u001b[0;34m]\u001b[0m\u001b[0;34m[\u001b[0m\u001b[0mi\u001b[0m\u001b[0;34m]\u001b[0m\u001b[0;34m.\u001b[0m\u001b[0mstartswith\u001b[0m\u001b[0;34m(\u001b[0m\u001b[0;34m'VINCENZO BORGHINI'\u001b[0m\u001b[0;34m)\u001b[0m\u001b[0;34m:\u001b[0m\u001b[0;34m\u001b[0m\u001b[0;34m\u001b[0m\u001b[0m\n\u001b[0m\u001b[1;32m      8\u001b[0m \u001b[0;34m\u001b[0m\u001b[0m\n\u001b[1;32m      9\u001b[0m         \u001b[0mborghini\u001b[0m\u001b[0;34m.\u001b[0m\u001b[0mappend\u001b[0m\u001b[0;34m(\u001b[0m\u001b[0mlist\u001b[0m\u001b[0;34m(\u001b[0m\u001b[0mdataframe\u001b[0m\u001b[0;34m.\u001b[0m\u001b[0miloc\u001b[0m\u001b[0;34m[\u001b[0m\u001b[0mi\u001b[0m\u001b[0;34m]\u001b[0m\u001b[0;34m)\u001b[0m\u001b[0;34m)\u001b[0m\u001b[0;34m\u001b[0m\u001b[0;34m\u001b[0m\u001b[0m\n",
      "\u001b[0;31mAttributeError\u001b[0m: 'float' object has no attribute 'startswith'"
     ]
    }
   ],
   "source": [
    "borghini = list()\n",
    "count = 0\n",
    "for i in range(1151):\n",
    "    print(dataframe['Intestazione'][i])\n",
    "    count += 1\n",
    "    print(count)\n",
    "    if dataframe['Intestazione'][i].startswith('VINCENZO BORGHINI'):\n",
    "        \n",
    "        borghini.append(list(dataframe.iloc[i]))\n",
    "\n",
    "#count"
   ]
  },
  {
   "cell_type": "code",
   "execution_count": 52,
   "metadata": {},
   "outputs": [
    {
     "data": {
      "text/plain": [
       "Numero d'ordine       953\n",
       "Data               1 01  \n",
       "Intestazione          NaN\n",
       "Segnatura             NaN\n",
       "Fonte                 NaN\n",
       "Bibliografia          NaN\n",
       "Name: 17, dtype: object"
      ]
     },
     "execution_count": 52,
     "metadata": {},
     "output_type": "execute_result"
    }
   ],
   "source": [
    "dataframe.iloc[17]"
   ]
  },
  {
   "cell_type": "code",
   "execution_count": 33,
   "metadata": {},
   "outputs": [
    {
     "data": {
      "text/plain": [
       "1151"
      ]
     },
     "execution_count": 33,
     "metadata": {},
     "output_type": "execute_result"
    }
   ],
   "source": [
    "(len(dataframe))"
   ]
  },
  {
   "cell_type": "markdown",
   "metadata": {},
   "source": [
    "### collect letters from Vincent Borghini and store it in a dataframe"
   ]
  },
  {
   "cell_type": "code",
   "execution_count": 27,
   "metadata": {},
   "outputs": [
    {
     "data": {
      "text/plain": [
       "[1051,\n",
       " '26 12  1572',\n",
       " 'VINCENZO BORGHINI IN FIRENZE A GIORGIO VASARI IN ROMA',\n",
       " 'ASA, AV, 14 (XLVIII), cc. 146-148.',\n",
       " 'Molto Magnifico messer Giorgio. Ho ricevuto la vostra con la distesa delle istorie della sala, le quali considererò, e perché mi ha dato noia un po’ di scesa et non ne son libero, indugierò a questa altra settimana a darne più piena risposta. Messer Vincenzo non credo che pensi più alla messa, ma quando si potessi confermare nel privileggio del legittimare et altri indulti che non toccono il concilio, credo sarebbe contento, che qua non lo ammettono, e però forse bisognerebbe questa confermazione; pure ci sarà tempo. De la cosa mia come mi dite ne starò a buona speranza; e se voi vedete che la camini bene, il meglio sarebbe stringnere e darli fine, che cosa fatta importa assai e si schifa molte cose, che col tempo possono occorrere, che si dice che l’indugio pigla vizio; ma se ci fusse qualche difficultà, allora è bene non strignere, che il far male ha da essere l’ultima cosa. Io come ho detto vi scriverrò per altra più allungo, che le feste, la scesa mi danno che fare, e raccomandatemi caramente al Signor Protonotario Imbasciadore et a voi medesimo. Che Dio vi feliciti. Di Firenze il dì di Santo Stefano 1572. Vostro Don Vincenzo BorghiniAl Molto Magnifico Signor Cavalier Vasari Messer Giorgio Pittore Excellentissimo. Roma. ',\n",
       " 'Frey 1930, pp. 736-737.']"
      ]
     },
     "execution_count": 27,
     "metadata": {},
     "output_type": "execute_result"
    }
   ],
   "source": [
    "list(dataframe.iloc[0])"
   ]
  },
  {
   "cell_type": "markdown",
   "metadata": {},
   "source": [
    "### Helper Funcitons"
   ]
  },
  {
   "cell_type": "code",
   "execution_count": 17,
   "metadata": {},
   "outputs": [],
   "source": [
    "# get rid of strange line break \"\\xa0\"\n",
    "# open a file and overwrite it\n",
    "\n",
    "def fix(name):\n",
    "    \"\"\" Fix a single .txt file\n",
    "    \"\"\"\n",
    "    input = open(name, \"rt\")\n",
    "    text = input.read()\n",
    "    input.close()\n",
    "    text = text.decode(\"utf-8\")\n",
    "\n",
    "    # Show if we get bad hits\n",
    "    for c in text:\n",
    "        if c == u\"\\xa0\":\n",
    "            print(\"Ufff\")\n",
    "\n",
    "    text = text.replace(u\"\\xa0\", u\" \")\n",
    "    text = text.encode(\"utf-8\")\n",
    "\n",
    "    output = open(name, \"wt\")\n",
    "    output.write(text)\n",
    "    output.close()\n",
    "\n",
    "\n",
    "# Process all .txt files in the\n",
    "# current folder\n",
    "for f in os.listdir(os.getcwd()):\n",
    "    if f.endswith(\".txt\"):\n",
    "        fix(f)"
   ]
  },
  {
   "cell_type": "code",
   "execution_count": 18,
   "metadata": {},
   "outputs": [],
   "source": [
    "# obo.py\n",
    "# get rid of tags without Beautiful Soup\n",
    "\n",
    "def stripTags(pageContent):\n",
    "    pageContents = str(pageContent)\n",
    "\n",
    "    inside = 0\n",
    "    text = ''\n",
    "\n",
    "    for char in pageContents:\n",
    "        if char == '<':\n",
    "            inside = 1\n",
    "        elif (inside == 1 and char == '>'):\n",
    "            inside = 0\n",
    "        elif inside == 1:\n",
    "            continue\n",
    "        else:\n",
    "            text += char\n",
    "\n",
    "    return text"
   ]
  }
 ],
 "metadata": {
  "kernelspec": {
   "display_name": "Python 3",
   "language": "python",
   "name": "python3"
  },
  "language_info": {
   "codemirror_mode": {
    "name": "ipython",
    "version": 3
   },
   "file_extension": ".py",
   "mimetype": "text/x-python",
   "name": "python",
   "nbconvert_exporter": "python",
   "pygments_lexer": "ipython3",
   "version": "3.8.5"
  }
 },
 "nbformat": 4,
 "nbformat_minor": 4
}
